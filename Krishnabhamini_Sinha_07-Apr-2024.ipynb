{
 "cells": [
  {
   "cell_type": "markdown",
   "id": "059ed101-1015-41fb-a6a1-51b56bb9f1b1",
   "metadata": {},
   "source": [
    "## Loading required libraries and dataset"
   ]
  },
  {
   "cell_type": "code",
   "execution_count": 1,
   "id": "d895089b-718c-4b0e-b9b4-38a079c85333",
   "metadata": {},
   "outputs": [],
   "source": [
    "import numpy as np\n",
    "import pandas as pd\n",
    "import matplotlib.pyplot as plt\n",
    "import seaborn as sns\n",
    "pd.options.display.max_rows = 10"
   ]
  },
  {
   "cell_type": "code",
   "execution_count": 2,
   "id": "fa19d2bf-36d0-4b50-8b28-1780cc6df11b",
   "metadata": {},
   "outputs": [],
   "source": [
    "ECom_Data = pd.read_csv('E-Commerce.csv')"
   ]
  },
  {
   "cell_type": "markdown",
   "id": "86921c2c-a059-4215-9a10-2cbe2e99ca1d",
   "metadata": {},
   "source": [
    "## Solutions to Question 1 part by part"
   ]
  },
  {
   "cell_type": "markdown",
   "id": "d7818c17-0e92-40e6-b9c5-1356493c7779",
   "metadata": {},
   "source": [
    "a) Print out the first 10 and the last 10 records of the data. (2 marks)"
   ]
  },
  {
   "cell_type": "markdown",
   "id": "28e22ddd-f788-4a89-96e4-7847f60b1e65",
   "metadata": {},
   "source": [
    "Ans. 1a)"
   ]
  },
  {
   "cell_type": "code",
   "execution_count": 4,
   "id": "95405eda-b1cf-4283-9611-273ca5b171ca",
   "metadata": {},
   "outputs": [
    {
     "data": {
      "text/html": [
       "<div>\n",
       "<style scoped>\n",
       "    .dataframe tbody tr th:only-of-type {\n",
       "        vertical-align: middle;\n",
       "    }\n",
       "\n",
       "    .dataframe tbody tr th {\n",
       "        vertical-align: top;\n",
       "    }\n",
       "\n",
       "    .dataframe thead th {\n",
       "        text-align: right;\n",
       "    }\n",
       "</style>\n",
       "<table border=\"1\" class=\"dataframe\">\n",
       "  <thead>\n",
       "    <tr style=\"text-align: right;\">\n",
       "      <th></th>\n",
       "      <th>Customer_uniq_id</th>\n",
       "      <th>Region</th>\n",
       "      <th>Order_Date</th>\n",
       "      <th>Expected_Delivery_Date</th>\n",
       "      <th>Delivered_Date</th>\n",
       "      <th>product_name</th>\n",
       "      <th>product_main_category</th>\n",
       "      <th>product_subcategory</th>\n",
       "      <th>product_category_filter</th>\n",
       "      <th>product_category_subfilter</th>\n",
       "      <th>product_unique ID</th>\n",
       "      <th>retail_price</th>\n",
       "      <th>discounted_price</th>\n",
       "      <th>product_rating</th>\n",
       "      <th>Brand</th>\n",
       "      <th>product_specifications</th>\n",
       "      <th>description</th>\n",
       "    </tr>\n",
       "  </thead>\n",
       "  <tbody>\n",
       "    <tr>\n",
       "      <th>0</th>\n",
       "      <td>e71017e224688489edfe856f2308806d</td>\n",
       "      <td>East</td>\n",
       "      <td>24-10-2021</td>\n",
       "      <td>25-10-2021</td>\n",
       "      <td>25-10-2021</td>\n",
       "      <td>Indcrown Net Embroidered Semi-stitched Lehenga...</td>\n",
       "      <td>Clothing</td>\n",
       "      <td>Women's Clothing</td>\n",
       "      <td>Ethnic Wear</td>\n",
       "      <td>Fabric</td>\n",
       "      <td>FABEJX2NHNKCYHKA</td>\n",
       "      <td>999</td>\n",
       "      <td>699</td>\n",
       "      <td>4.0</td>\n",
       "      <td>INDCROWN</td>\n",
       "      <td>{\"product_specification\"=&gt;[{\"key\"=&gt;\"Fabric\", \"...</td>\n",
       "      <td>Key Features of Indcrown Net Embroidered Semi-...</td>\n",
       "    </tr>\n",
       "    <tr>\n",
       "      <th>1</th>\n",
       "      <td>6286847ee2da18f587503db49511c539</td>\n",
       "      <td>East</td>\n",
       "      <td>24-10-2021</td>\n",
       "      <td>25-10-2021</td>\n",
       "      <td>25-10-2021</td>\n",
       "      <td>Shopmania Music Band A5 Notebook Spiral Bound</td>\n",
       "      <td>Pens &amp; Stationery</td>\n",
       "      <td>Diaries &amp; Notebooks</td>\n",
       "      <td>Notebooks</td>\n",
       "      <td>Designer</td>\n",
       "      <td>DIAEJ6Z8BEDTGGYY</td>\n",
       "      <td>499</td>\n",
       "      <td>275</td>\n",
       "      <td>1.0</td>\n",
       "      <td>SHOPMANIA</td>\n",
       "      <td>{\"product_specification\"=&gt;[{\"key\"=&gt;\"Ruling\", \"...</td>\n",
       "      <td>Specifications of Shopmania Music Band A5 Note...</td>\n",
       "    </tr>\n",
       "    <tr>\n",
       "      <th>2</th>\n",
       "      <td>0686fec9b70e5039583a38119ca0c835</td>\n",
       "      <td>West</td>\n",
       "      <td>24-10-2021</td>\n",
       "      <td>25-10-2021</td>\n",
       "      <td>25-10-2021</td>\n",
       "      <td>Shopmania Music Band A5 Notebook Spiral Bound</td>\n",
       "      <td>Pens &amp; Stationery</td>\n",
       "      <td>Diaries &amp; Notebooks</td>\n",
       "      <td>Notebooks</td>\n",
       "      <td>Designer</td>\n",
       "      <td>DIAEJ6Z8KQFWDEGH</td>\n",
       "      <td>499</td>\n",
       "      <td>275</td>\n",
       "      <td>2.0</td>\n",
       "      <td>SHOPMANIA</td>\n",
       "      <td>{\"product_specification\"=&gt;[{\"key\"=&gt;\"Ruling\", \"...</td>\n",
       "      <td>Specifications of Shopmania Music Band A5 Note...</td>\n",
       "    </tr>\n",
       "    <tr>\n",
       "      <th>3</th>\n",
       "      <td>ea2406dc597bee2abb6b867fa668501f</td>\n",
       "      <td>West</td>\n",
       "      <td>24-10-2021</td>\n",
       "      <td>25-10-2021</td>\n",
       "      <td>25-10-2021</td>\n",
       "      <td>Tiara Diaries 2016-2017 Designer LA Kaarta \"TA...</td>\n",
       "      <td>Pens &amp; Stationery</td>\n",
       "      <td>Diaries &amp; Notebooks</td>\n",
       "      <td>Notebooks</td>\n",
       "      <td>Designer</td>\n",
       "      <td>DIAEJ8FGHZ3K86JU</td>\n",
       "      <td>1000</td>\n",
       "      <td>837</td>\n",
       "      <td>3.0</td>\n",
       "      <td>TIARA DIARIES</td>\n",
       "      <td>{\"product_specification\"=&gt;[{\"key\"=&gt;\"Ruling\", \"...</td>\n",
       "      <td>Specifications of Tiara Diaries 2016-2017 Desi...</td>\n",
       "    </tr>\n",
       "    <tr>\n",
       "      <th>4</th>\n",
       "      <td>5935ed077915347dc695744df68c565c</td>\n",
       "      <td>East</td>\n",
       "      <td>03-09-2021</td>\n",
       "      <td>04-09-2021</td>\n",
       "      <td>04-09-2021</td>\n",
       "      <td>KAJCI Embroidered Women's Waistcoat</td>\n",
       "      <td>Clothing</td>\n",
       "      <td>Women's Clothing</td>\n",
       "      <td>Formal Wear</td>\n",
       "      <td>Waistcoats</td>\n",
       "      <td>WSCEG2FYDYFDSVZ6</td>\n",
       "      <td>1200</td>\n",
       "      <td>699</td>\n",
       "      <td>5.0</td>\n",
       "      <td>KAJCI</td>\n",
       "      <td>{\"product_specification\"=&gt;[{\"key\"=&gt;\"Pattern\", ...</td>\n",
       "      <td>Specifications of KAJCI Embroidered Women's Wa...</td>\n",
       "    </tr>\n",
       "    <tr>\n",
       "      <th>5</th>\n",
       "      <td>89fcdddaad50084e395d0928a7426afe</td>\n",
       "      <td>East</td>\n",
       "      <td>03-09-2021</td>\n",
       "      <td>04-09-2021</td>\n",
       "      <td>04-09-2021</td>\n",
       "      <td>Packman 8 x 10 inches Security Bags Without PO...</td>\n",
       "      <td>Pens &amp; Stationery</td>\n",
       "      <td>Office Supplies</td>\n",
       "      <td>Packaging Security Bags</td>\n",
       "      <td>Packman Packaging Security Bags</td>\n",
       "      <td>PKBEGBTRKKHU26YQ</td>\n",
       "      <td>350</td>\n",
       "      <td>298</td>\n",
       "      <td>4.0</td>\n",
       "      <td>PACKMAN</td>\n",
       "      <td>{\"product_specification\"=&gt;[{\"key\"=&gt;\"Bubble Wra...</td>\n",
       "      <td>Key Features of Packman 8 x 10 inches Security...</td>\n",
       "    </tr>\n",
       "    <tr>\n",
       "      <th>6</th>\n",
       "      <td>b9b183aa18d3a721d2ac23e7184525b0</td>\n",
       "      <td>East</td>\n",
       "      <td>03-09-2021</td>\n",
       "      <td>04-09-2021</td>\n",
       "      <td>04-09-2021</td>\n",
       "      <td>Pick Pocket Embroidered Women's Waistcoat</td>\n",
       "      <td>Clothing</td>\n",
       "      <td>Women's Clothing</td>\n",
       "      <td>Formal Wear</td>\n",
       "      <td>Waistcoats</td>\n",
       "      <td>WSCEFUV4TVWT73ZB</td>\n",
       "      <td>899</td>\n",
       "      <td>899</td>\n",
       "      <td>1.0</td>\n",
       "      <td>PICK POCKET</td>\n",
       "      <td>{\"product_specification\"=&gt;[{\"key\"=&gt;\"Pattern\", ...</td>\n",
       "      <td>Specifications of Pick Pocket Embroidered Wome...</td>\n",
       "    </tr>\n",
       "    <tr>\n",
       "      <th>7</th>\n",
       "      <td>dee64864c0419bec80fbbb94d19bc40d</td>\n",
       "      <td>East</td>\n",
       "      <td>03-09-2021</td>\n",
       "      <td>04-09-2021</td>\n",
       "      <td>04-09-2021</td>\n",
       "      <td>Angelfish Silk Potali Potli</td>\n",
       "      <td>Bags, Wallets &amp; Belts</td>\n",
       "      <td>Bags</td>\n",
       "      <td>Pouches and Potlis</td>\n",
       "      <td>Angelfish Pouches and Potlis</td>\n",
       "      <td>PPSEGFYAGD8FYUXV</td>\n",
       "      <td>999</td>\n",
       "      <td>399</td>\n",
       "      <td>4.0</td>\n",
       "      <td>ANGELFISH</td>\n",
       "      <td>{\"product_specification\"=&gt;[{\"key\"=&gt;\"Closure\", ...</td>\n",
       "      <td>Angelfish Silk Potali Potli (Multicolor) Price...</td>\n",
       "    </tr>\n",
       "    <tr>\n",
       "      <th>8</th>\n",
       "      <td>595f55f2c1293f07ea9ec9fa2bb39f46</td>\n",
       "      <td>East</td>\n",
       "      <td>03-09-2021</td>\n",
       "      <td>04-09-2021</td>\n",
       "      <td>04-09-2021</td>\n",
       "      <td>Oye Boy's Dungaree</td>\n",
       "      <td>Clothing</td>\n",
       "      <td>Kids' Clothing</td>\n",
       "      <td>Boys Wear</td>\n",
       "      <td>Dungarees &amp; Jumpsuits</td>\n",
       "      <td>DRPEF2XSFBAP4SUZ</td>\n",
       "      <td>899</td>\n",
       "      <td>764</td>\n",
       "      <td>1.0</td>\n",
       "      <td>OYE</td>\n",
       "      <td>{\"product_specification\"=&gt;[{\"key\"=&gt;\"Number of ...</td>\n",
       "      <td>Specifications of Oye Boy's Dungaree Top Detai...</td>\n",
       "    </tr>\n",
       "    <tr>\n",
       "      <th>9</th>\n",
       "      <td>547b6585272473ae006bcfbdb47b6ae0</td>\n",
       "      <td>West</td>\n",
       "      <td>26-08-2021</td>\n",
       "      <td>27-08-2021</td>\n",
       "      <td>27-08-2021</td>\n",
       "      <td>Nuride Canvas Shoes</td>\n",
       "      <td>Footwear</td>\n",
       "      <td>Women's Footwear</td>\n",
       "      <td>Casual Shoes</td>\n",
       "      <td>Canvas</td>\n",
       "      <td>SHOEGVQCT2ZSGUHY</td>\n",
       "      <td>1999</td>\n",
       "      <td>1349</td>\n",
       "      <td>2.0</td>\n",
       "      <td>NURIDE</td>\n",
       "      <td>{\"product_specification\"=&gt;[{\"key\"=&gt;\"Occasion\",...</td>\n",
       "      <td>Key Features of Nuride Canvas Shoes Material: ...</td>\n",
       "    </tr>\n",
       "  </tbody>\n",
       "</table>\n",
       "</div>"
      ],
      "text/plain": [
       "                   Customer_uniq_id Region  Order_Date Expected_Delivery_Date  \\\n",
       "0  e71017e224688489edfe856f2308806d  East   24-10-2021             25-10-2021   \n",
       "1  6286847ee2da18f587503db49511c539  East   24-10-2021             25-10-2021   \n",
       "2  0686fec9b70e5039583a38119ca0c835   West  24-10-2021             25-10-2021   \n",
       "3  ea2406dc597bee2abb6b867fa668501f   West  24-10-2021             25-10-2021   \n",
       "4  5935ed077915347dc695744df68c565c  East   03-09-2021             04-09-2021   \n",
       "5  89fcdddaad50084e395d0928a7426afe  East   03-09-2021             04-09-2021   \n",
       "6  b9b183aa18d3a721d2ac23e7184525b0  East   03-09-2021             04-09-2021   \n",
       "7  dee64864c0419bec80fbbb94d19bc40d  East   03-09-2021             04-09-2021   \n",
       "8  595f55f2c1293f07ea9ec9fa2bb39f46  East   03-09-2021             04-09-2021   \n",
       "9  547b6585272473ae006bcfbdb47b6ae0   West  26-08-2021             27-08-2021   \n",
       "\n",
       "  Delivered_Date                                       product_name  \\\n",
       "0     25-10-2021  Indcrown Net Embroidered Semi-stitched Lehenga...   \n",
       "1     25-10-2021      Shopmania Music Band A5 Notebook Spiral Bound   \n",
       "2     25-10-2021      Shopmania Music Band A5 Notebook Spiral Bound   \n",
       "3     25-10-2021  Tiara Diaries 2016-2017 Designer LA Kaarta \"TA...   \n",
       "4     04-09-2021                KAJCI Embroidered Women's Waistcoat   \n",
       "5     04-09-2021  Packman 8 x 10 inches Security Bags Without PO...   \n",
       "6     04-09-2021          Pick Pocket Embroidered Women's Waistcoat   \n",
       "7     04-09-2021                        Angelfish Silk Potali Potli   \n",
       "8     04-09-2021                                 Oye Boy's Dungaree   \n",
       "9     27-08-2021                                Nuride Canvas Shoes   \n",
       "\n",
       "    product_main_category    product_subcategory    product_category_filter  \\\n",
       "0               Clothing       Women's Clothing                Ethnic Wear    \n",
       "1      Pens & Stationery    Diaries & Notebooks                  Notebooks    \n",
       "2      Pens & Stationery    Diaries & Notebooks                  Notebooks    \n",
       "3      Pens & Stationery    Diaries & Notebooks                  Notebooks    \n",
       "4               Clothing       Women's Clothing                Formal Wear    \n",
       "5      Pens & Stationery        Office Supplies    Packaging Security Bags    \n",
       "6               Clothing       Women's Clothing                Formal Wear    \n",
       "7  Bags, Wallets & Belts                   Bags         Pouches and Potlis    \n",
       "8               Clothing         Kids' Clothing                  Boys Wear    \n",
       "9               Footwear       Women's Footwear               Casual Shoes    \n",
       "\n",
       "          product_category_subfilter product_unique ID  retail_price  \\\n",
       "0                            Fabric   FABEJX2NHNKCYHKA           999   \n",
       "1                          Designer   DIAEJ6Z8BEDTGGYY           499   \n",
       "2                          Designer   DIAEJ6Z8KQFWDEGH           499   \n",
       "3                          Designer   DIAEJ8FGHZ3K86JU          1000   \n",
       "4                        Waistcoats   WSCEG2FYDYFDSVZ6          1200   \n",
       "5   Packman Packaging Security Bags   PKBEGBTRKKHU26YQ           350   \n",
       "6                        Waistcoats   WSCEFUV4TVWT73ZB           899   \n",
       "7      Angelfish Pouches and Potlis   PPSEGFYAGD8FYUXV           999   \n",
       "8             Dungarees & Jumpsuits   DRPEF2XSFBAP4SUZ           899   \n",
       "9                            Canvas   SHOEGVQCT2ZSGUHY          1999   \n",
       "\n",
       "   discounted_price  product_rating          Brand  \\\n",
       "0               699             4.0       INDCROWN   \n",
       "1               275             1.0      SHOPMANIA   \n",
       "2               275             2.0      SHOPMANIA   \n",
       "3               837             3.0  TIARA DIARIES   \n",
       "4               699             5.0          KAJCI   \n",
       "5               298             4.0        PACKMAN   \n",
       "6               899             1.0    PICK POCKET   \n",
       "7               399             4.0      ANGELFISH   \n",
       "8               764             1.0            OYE   \n",
       "9              1349             2.0         NURIDE   \n",
       "\n",
       "                              product_specifications  \\\n",
       "0  {\"product_specification\"=>[{\"key\"=>\"Fabric\", \"...   \n",
       "1  {\"product_specification\"=>[{\"key\"=>\"Ruling\", \"...   \n",
       "2  {\"product_specification\"=>[{\"key\"=>\"Ruling\", \"...   \n",
       "3  {\"product_specification\"=>[{\"key\"=>\"Ruling\", \"...   \n",
       "4  {\"product_specification\"=>[{\"key\"=>\"Pattern\", ...   \n",
       "5  {\"product_specification\"=>[{\"key\"=>\"Bubble Wra...   \n",
       "6  {\"product_specification\"=>[{\"key\"=>\"Pattern\", ...   \n",
       "7  {\"product_specification\"=>[{\"key\"=>\"Closure\", ...   \n",
       "8  {\"product_specification\"=>[{\"key\"=>\"Number of ...   \n",
       "9  {\"product_specification\"=>[{\"key\"=>\"Occasion\",...   \n",
       "\n",
       "                                         description  \n",
       "0  Key Features of Indcrown Net Embroidered Semi-...  \n",
       "1  Specifications of Shopmania Music Band A5 Note...  \n",
       "2  Specifications of Shopmania Music Band A5 Note...  \n",
       "3  Specifications of Tiara Diaries 2016-2017 Desi...  \n",
       "4  Specifications of KAJCI Embroidered Women's Wa...  \n",
       "5  Key Features of Packman 8 x 10 inches Security...  \n",
       "6  Specifications of Pick Pocket Embroidered Wome...  \n",
       "7  Angelfish Silk Potali Potli (Multicolor) Price...  \n",
       "8  Specifications of Oye Boy's Dungaree Top Detai...  \n",
       "9  Key Features of Nuride Canvas Shoes Material: ...  "
      ]
     },
     "execution_count": 4,
     "metadata": {},
     "output_type": "execute_result"
    }
   ],
   "source": [
    "ECom_Data.head(10) # first 10 records of the data. "
   ]
  },
  {
   "cell_type": "code",
   "execution_count": 6,
   "id": "bbf16348-09ff-48bb-8009-7c2495791b82",
   "metadata": {},
   "outputs": [
    {
     "data": {
      "text/html": [
       "<div>\n",
       "<style scoped>\n",
       "    .dataframe tbody tr th:only-of-type {\n",
       "        vertical-align: middle;\n",
       "    }\n",
       "\n",
       "    .dataframe tbody tr th {\n",
       "        vertical-align: top;\n",
       "    }\n",
       "\n",
       "    .dataframe thead th {\n",
       "        text-align: right;\n",
       "    }\n",
       "</style>\n",
       "<table border=\"1\" class=\"dataframe\">\n",
       "  <thead>\n",
       "    <tr style=\"text-align: right;\">\n",
       "      <th></th>\n",
       "      <th>Customer_uniq_id</th>\n",
       "      <th>Region</th>\n",
       "      <th>Order_Date</th>\n",
       "      <th>Expected_Delivery_Date</th>\n",
       "      <th>Delivered_Date</th>\n",
       "      <th>product_name</th>\n",
       "      <th>product_main_category</th>\n",
       "      <th>product_subcategory</th>\n",
       "      <th>product_category_filter</th>\n",
       "      <th>product_category_subfilter</th>\n",
       "      <th>product_unique ID</th>\n",
       "      <th>retail_price</th>\n",
       "      <th>discounted_price</th>\n",
       "      <th>product_rating</th>\n",
       "      <th>Brand</th>\n",
       "      <th>product_specifications</th>\n",
       "      <th>description</th>\n",
       "    </tr>\n",
       "  </thead>\n",
       "  <tbody>\n",
       "    <tr>\n",
       "      <th>8896</th>\n",
       "      <td>4db03bc4ccbe216cf151b2f2b904ba3f</td>\n",
       "      <td>East</td>\n",
       "      <td>01-12-2020</td>\n",
       "      <td>04-12-2020</td>\n",
       "      <td>04-12-2020</td>\n",
       "      <td>Luca Fashion Girls Heels</td>\n",
       "      <td>Footwear</td>\n",
       "      <td>Kids' &amp; Infant Footwear</td>\n",
       "      <td>For Girls</td>\n",
       "      <td>Sandals</td>\n",
       "      <td>SNDEHG3DNVBFGAT5</td>\n",
       "      <td>999</td>\n",
       "      <td>499</td>\n",
       "      <td>4.0</td>\n",
       "      <td>LUCA FASHION</td>\n",
       "      <td>{\"product_specification\"=&gt;[{\"key\"=&gt;\"Occasion\",...</td>\n",
       "      <td>Key Features of Luca Fashion Girls Heels Occas...</td>\n",
       "    </tr>\n",
       "    <tr>\n",
       "      <th>8897</th>\n",
       "      <td>4d4d6aeb13fa253499d0dd45a5abd87e</td>\n",
       "      <td>West</td>\n",
       "      <td>01-12-2020</td>\n",
       "      <td>04-12-2020</td>\n",
       "      <td>04-12-2020</td>\n",
       "      <td>Shoetopia Girls Sandals</td>\n",
       "      <td>Footwear</td>\n",
       "      <td>Kids' &amp; Infant Footwear</td>\n",
       "      <td>For Girls</td>\n",
       "      <td>Sandals</td>\n",
       "      <td>SNDEG7DRWSX8HFXZ</td>\n",
       "      <td>499</td>\n",
       "      <td>399</td>\n",
       "      <td>4.0</td>\n",
       "      <td>SHOETOPIA</td>\n",
       "      <td>{\"product_specification\"=&gt;[{\"key\"=&gt;\"Ideal For\"...</td>\n",
       "      <td>Key Features of Shoetopia Girls Sandals Flats ...</td>\n",
       "    </tr>\n",
       "    <tr>\n",
       "      <th>8898</th>\n",
       "      <td>ea19e7ef703293d3f6c799ca9db4642d</td>\n",
       "      <td>West</td>\n",
       "      <td>01-12-2020</td>\n",
       "      <td>04-12-2020</td>\n",
       "      <td>04-12-2020</td>\n",
       "      <td>SMART TRADERS Girls Sandals</td>\n",
       "      <td>Footwear</td>\n",
       "      <td>Kids' &amp; Infant Footwear</td>\n",
       "      <td>For Girls</td>\n",
       "      <td>Sandals</td>\n",
       "      <td>SNDEG7MZHHKZ58D2</td>\n",
       "      <td>999</td>\n",
       "      <td>499</td>\n",
       "      <td>5.0</td>\n",
       "      <td>SMART TRADERS</td>\n",
       "      <td>{\"product_specification\"=&gt;[{\"key\"=&gt;\"Ideal For\"...</td>\n",
       "      <td>Key Features of SMART TRADERS Girls Sandals Oc...</td>\n",
       "    </tr>\n",
       "    <tr>\n",
       "      <th>8899</th>\n",
       "      <td>19a53a958992fb575acffb5d41e7ef9e</td>\n",
       "      <td>East</td>\n",
       "      <td>01-12-2020</td>\n",
       "      <td>04-12-2020</td>\n",
       "      <td>04-12-2020</td>\n",
       "      <td>Beanz Girls Flats</td>\n",
       "      <td>Footwear</td>\n",
       "      <td>Kids' &amp; Infant Footwear</td>\n",
       "      <td>For Girls</td>\n",
       "      <td>Sandals</td>\n",
       "      <td>SNDEG7DYVFWHZBC4</td>\n",
       "      <td>1299</td>\n",
       "      <td>1299</td>\n",
       "      <td>3.0</td>\n",
       "      <td>BEANZ</td>\n",
       "      <td>{\"product_specification\"=&gt;[{\"key\"=&gt;\"Occasion\",...</td>\n",
       "      <td>Key Features of Beanz Girls Flats Occasion: Ca...</td>\n",
       "    </tr>\n",
       "    <tr>\n",
       "      <th>8900</th>\n",
       "      <td>09abab80c8dfdc6f268e0a6f05a0be11</td>\n",
       "      <td>North</td>\n",
       "      <td>01-12-2020</td>\n",
       "      <td>04-12-2020</td>\n",
       "      <td>04-12-2020</td>\n",
       "      <td>Nova KT 728S Electric Kettle</td>\n",
       "      <td>Home &amp; Kitchen</td>\n",
       "      <td>Kitchen Appliances</td>\n",
       "      <td>Electric Jug(heater)/Travel Kettles</td>\n",
       "      <td>Nova Electric Jug(heater)/Travel Kettles</td>\n",
       "      <td>EKTDG5C5QSADZZ8J</td>\n",
       "      <td>3195</td>\n",
       "      <td>699</td>\n",
       "      <td>3.6</td>\n",
       "      <td>NOVA</td>\n",
       "      <td>{\"product_specification\"=&gt;[{\"key\"=&gt;\"Brand\", \"v...</td>\n",
       "      <td>Specifications of Nova KT 728S Electric Kettle...</td>\n",
       "    </tr>\n",
       "    <tr>\n",
       "      <th>8901</th>\n",
       "      <td>90d30478255e23621e8929ed15c2f6e4</td>\n",
       "      <td>South</td>\n",
       "      <td>01-12-2020</td>\n",
       "      <td>04-12-2020</td>\n",
       "      <td>04-12-2020</td>\n",
       "      <td>Sinina Chanderi Embroidered Salwar Suit Dupatt...</td>\n",
       "      <td>Clothing</td>\n",
       "      <td>Women's Clothing</td>\n",
       "      <td>Ethnic Wear</td>\n",
       "      <td>Fabric</td>\n",
       "      <td>FABEGGHHDFMY8BZU</td>\n",
       "      <td>2980</td>\n",
       "      <td>1490</td>\n",
       "      <td>3.0</td>\n",
       "      <td>SININA</td>\n",
       "      <td>{\"product_specification\"=&gt;[{\"key\"=&gt;\"Fabric\", \"...</td>\n",
       "      <td>Key Features of Sinina Chanderi Embroidered Sa...</td>\n",
       "    </tr>\n",
       "    <tr>\n",
       "      <th>8902</th>\n",
       "      <td>20a73e3f41490a73ceeba5f17658db8f</td>\n",
       "      <td>West</td>\n",
       "      <td>01-12-2020</td>\n",
       "      <td>04-12-2020</td>\n",
       "      <td>04-12-2020</td>\n",
       "      <td>Aarushi Fashion Chanderi Embroidered Salwar Su...</td>\n",
       "      <td>Clothing</td>\n",
       "      <td>Women's Clothing</td>\n",
       "      <td>Ethnic Wear</td>\n",
       "      <td>Fabric</td>\n",
       "      <td>FABEG8GFDUWRSNU3</td>\n",
       "      <td>2600</td>\n",
       "      <td>1300</td>\n",
       "      <td>1.0</td>\n",
       "      <td>AARUSHI FASHION</td>\n",
       "      <td>{\"product_specification\"=&gt;[{\"key\"=&gt;\"Fabric\", \"...</td>\n",
       "      <td>Key Features of Aarushi Fashion Chanderi Embro...</td>\n",
       "    </tr>\n",
       "    <tr>\n",
       "      <th>8903</th>\n",
       "      <td>5c1554cd45f9d538c2c6947dbdd59c75</td>\n",
       "      <td>East</td>\n",
       "      <td>01-12-2020</td>\n",
       "      <td>04-12-2020</td>\n",
       "      <td>04-12-2020</td>\n",
       "      <td>Ambika Lahenga Embroidered Lehenga, Choli and ...</td>\n",
       "      <td>Clothing</td>\n",
       "      <td>Women's Clothing</td>\n",
       "      <td>Ethnic Wear</td>\n",
       "      <td>Lehenga Cholis</td>\n",
       "      <td>LEHEGGEHYN4G2RPW</td>\n",
       "      <td>39992</td>\n",
       "      <td>24995</td>\n",
       "      <td>1.0</td>\n",
       "      <td>AMBIKA LAHENGA</td>\n",
       "      <td>{\"product_specification\"=&gt;[{\"key\"=&gt;\"Fabric\", \"...</td>\n",
       "      <td>Key Features of Ambika Lahenga Embroidered Leh...</td>\n",
       "    </tr>\n",
       "    <tr>\n",
       "      <th>8904</th>\n",
       "      <td>6b737a4deca1ed0e56c179e66036e994</td>\n",
       "      <td>West</td>\n",
       "      <td>01-12-2020</td>\n",
       "      <td>04-12-2020</td>\n",
       "      <td>04-12-2020</td>\n",
       "      <td>Sinina Chanderi Embroidered Salwar Suit Dupatt...</td>\n",
       "      <td>Clothing</td>\n",
       "      <td>Women's Clothing</td>\n",
       "      <td>Ethnic Wear</td>\n",
       "      <td>Fabric</td>\n",
       "      <td>FABEGGHHGSVCHGFV</td>\n",
       "      <td>2000</td>\n",
       "      <td>1000</td>\n",
       "      <td>3.0</td>\n",
       "      <td>SININA</td>\n",
       "      <td>{\"product_specification\"=&gt;[{\"key\"=&gt;\"Fabric\", \"...</td>\n",
       "      <td>Key Features of Sinina Chanderi Embroidered Sa...</td>\n",
       "    </tr>\n",
       "    <tr>\n",
       "      <th>8905</th>\n",
       "      <td>a5235ac28d3d5487f54025f9d6b57433</td>\n",
       "      <td>North</td>\n",
       "      <td>01-12-2020</td>\n",
       "      <td>04-12-2020</td>\n",
       "      <td>04-12-2020</td>\n",
       "      <td>Aarushi Fashion Silk Striped Salwar Suit Dupat...</td>\n",
       "      <td>Clothing</td>\n",
       "      <td>Women's Clothing</td>\n",
       "      <td>Ethnic Wear</td>\n",
       "      <td>Fabric</td>\n",
       "      <td>FABEG8GYDAABECZH</td>\n",
       "      <td>2800</td>\n",
       "      <td>1350</td>\n",
       "      <td>4.0</td>\n",
       "      <td>AARUSHI FASHION</td>\n",
       "      <td>{\"product_specification\"=&gt;[{\"key\"=&gt;\"Fabric\", \"...</td>\n",
       "      <td>Key Features of Aarushi Fashion Silk Striped S...</td>\n",
       "    </tr>\n",
       "  </tbody>\n",
       "</table>\n",
       "</div>"
      ],
      "text/plain": [
       "                      Customer_uniq_id Region  Order_Date  \\\n",
       "8896  4db03bc4ccbe216cf151b2f2b904ba3f  East   01-12-2020   \n",
       "8897  4d4d6aeb13fa253499d0dd45a5abd87e   West  01-12-2020   \n",
       "8898  ea19e7ef703293d3f6c799ca9db4642d   West  01-12-2020   \n",
       "8899  19a53a958992fb575acffb5d41e7ef9e  East   01-12-2020   \n",
       "8900  09abab80c8dfdc6f268e0a6f05a0be11  North  01-12-2020   \n",
       "8901  90d30478255e23621e8929ed15c2f6e4  South  01-12-2020   \n",
       "8902  20a73e3f41490a73ceeba5f17658db8f   West  01-12-2020   \n",
       "8903  5c1554cd45f9d538c2c6947dbdd59c75  East   01-12-2020   \n",
       "8904  6b737a4deca1ed0e56c179e66036e994   West  01-12-2020   \n",
       "8905  a5235ac28d3d5487f54025f9d6b57433  North  01-12-2020   \n",
       "\n",
       "     Expected_Delivery_Date Delivered_Date  \\\n",
       "8896             04-12-2020     04-12-2020   \n",
       "8897             04-12-2020     04-12-2020   \n",
       "8898             04-12-2020     04-12-2020   \n",
       "8899             04-12-2020     04-12-2020   \n",
       "8900             04-12-2020     04-12-2020   \n",
       "8901             04-12-2020     04-12-2020   \n",
       "8902             04-12-2020     04-12-2020   \n",
       "8903             04-12-2020     04-12-2020   \n",
       "8904             04-12-2020     04-12-2020   \n",
       "8905             04-12-2020     04-12-2020   \n",
       "\n",
       "                                           product_name product_main_category  \\\n",
       "8896                           Luca Fashion Girls Heels             Footwear    \n",
       "8897                            Shoetopia Girls Sandals             Footwear    \n",
       "8898                        SMART TRADERS Girls Sandals             Footwear    \n",
       "8899                                  Beanz Girls Flats             Footwear    \n",
       "8900                       Nova KT 728S Electric Kettle       Home & Kitchen    \n",
       "8901  Sinina Chanderi Embroidered Salwar Suit Dupatt...             Clothing    \n",
       "8902  Aarushi Fashion Chanderi Embroidered Salwar Su...             Clothing    \n",
       "8903  Ambika Lahenga Embroidered Lehenga, Choli and ...             Clothing    \n",
       "8904  Sinina Chanderi Embroidered Salwar Suit Dupatt...             Clothing    \n",
       "8905  Aarushi Fashion Silk Striped Salwar Suit Dupat...             Clothing    \n",
       "\n",
       "            product_subcategory                product_category_filter  \\\n",
       "8896   Kids' & Infant Footwear                              For Girls    \n",
       "8897   Kids' & Infant Footwear                              For Girls    \n",
       "8898   Kids' & Infant Footwear                              For Girls    \n",
       "8899   Kids' & Infant Footwear                              For Girls    \n",
       "8900        Kitchen Appliances    Electric Jug(heater)/Travel Kettles    \n",
       "8901          Women's Clothing                            Ethnic Wear    \n",
       "8902          Women's Clothing                            Ethnic Wear    \n",
       "8903          Women's Clothing                            Ethnic Wear    \n",
       "8904          Women's Clothing                            Ethnic Wear    \n",
       "8905          Women's Clothing                            Ethnic Wear    \n",
       "\n",
       "                      product_category_subfilter product_unique ID  \\\n",
       "8896                                    Sandals   SNDEHG3DNVBFGAT5   \n",
       "8897                                    Sandals   SNDEG7DRWSX8HFXZ   \n",
       "8898                                    Sandals   SNDEG7MZHHKZ58D2   \n",
       "8899                                    Sandals   SNDEG7DYVFWHZBC4   \n",
       "8900   Nova Electric Jug(heater)/Travel Kettles   EKTDG5C5QSADZZ8J   \n",
       "8901                                     Fabric   FABEGGHHDFMY8BZU   \n",
       "8902                                     Fabric   FABEG8GFDUWRSNU3   \n",
       "8903                             Lehenga Cholis   LEHEGGEHYN4G2RPW   \n",
       "8904                                     Fabric   FABEGGHHGSVCHGFV   \n",
       "8905                                     Fabric   FABEG8GYDAABECZH   \n",
       "\n",
       "      retail_price  discounted_price  product_rating            Brand  \\\n",
       "8896           999               499             4.0     LUCA FASHION   \n",
       "8897           499               399             4.0        SHOETOPIA   \n",
       "8898           999               499             5.0    SMART TRADERS   \n",
       "8899          1299              1299             3.0            BEANZ   \n",
       "8900          3195               699             3.6             NOVA   \n",
       "8901          2980              1490             3.0           SININA   \n",
       "8902          2600              1300             1.0  AARUSHI FASHION   \n",
       "8903         39992             24995             1.0   AMBIKA LAHENGA   \n",
       "8904          2000              1000             3.0           SININA   \n",
       "8905          2800              1350             4.0  AARUSHI FASHION   \n",
       "\n",
       "                                 product_specifications  \\\n",
       "8896  {\"product_specification\"=>[{\"key\"=>\"Occasion\",...   \n",
       "8897  {\"product_specification\"=>[{\"key\"=>\"Ideal For\"...   \n",
       "8898  {\"product_specification\"=>[{\"key\"=>\"Ideal For\"...   \n",
       "8899  {\"product_specification\"=>[{\"key\"=>\"Occasion\",...   \n",
       "8900  {\"product_specification\"=>[{\"key\"=>\"Brand\", \"v...   \n",
       "8901  {\"product_specification\"=>[{\"key\"=>\"Fabric\", \"...   \n",
       "8902  {\"product_specification\"=>[{\"key\"=>\"Fabric\", \"...   \n",
       "8903  {\"product_specification\"=>[{\"key\"=>\"Fabric\", \"...   \n",
       "8904  {\"product_specification\"=>[{\"key\"=>\"Fabric\", \"...   \n",
       "8905  {\"product_specification\"=>[{\"key\"=>\"Fabric\", \"...   \n",
       "\n",
       "                                            description  \n",
       "8896  Key Features of Luca Fashion Girls Heels Occas...  \n",
       "8897  Key Features of Shoetopia Girls Sandals Flats ...  \n",
       "8898  Key Features of SMART TRADERS Girls Sandals Oc...  \n",
       "8899  Key Features of Beanz Girls Flats Occasion: Ca...  \n",
       "8900  Specifications of Nova KT 728S Electric Kettle...  \n",
       "8901  Key Features of Sinina Chanderi Embroidered Sa...  \n",
       "8902  Key Features of Aarushi Fashion Chanderi Embro...  \n",
       "8903  Key Features of Ambika Lahenga Embroidered Leh...  \n",
       "8904  Key Features of Sinina Chanderi Embroidered Sa...  \n",
       "8905  Key Features of Aarushi Fashion Silk Striped S...  "
      ]
     },
     "execution_count": 6,
     "metadata": {},
     "output_type": "execute_result"
    }
   ],
   "source": [
    "ECom_Data.tail(10) # last 10 records of the data. "
   ]
  },
  {
   "cell_type": "markdown",
   "id": "efd5e11f-7f1d-4e7f-b580-76d97add5547",
   "metadata": {},
   "source": [
    "b) How many rows and columns are present in the dataset? Use any two different methods to extract this information. (2 + 2 + 2 marks)"
   ]
  },
  {
   "cell_type": "markdown",
   "id": "69bff4d7-536b-4fe7-928a-5c772ac10169",
   "metadata": {},
   "source": [
    "First method to find number of rows and columns in the dataset:"
   ]
  },
  {
   "cell_type": "markdown",
   "id": "2b773272-3030-4c78-84fd-4cf7a565c9dc",
   "metadata": {},
   "source": [
    "Ans. 1b)"
   ]
  },
  {
   "cell_type": "code",
   "execution_count": 13,
   "id": "52abf7fe-df39-455b-b600-f17d76a696a2",
   "metadata": {},
   "outputs": [
    {
     "data": {
      "text/plain": [
       "(8906, 17)"
      ]
     },
     "execution_count": 13,
     "metadata": {},
     "output_type": "execute_result"
    }
   ],
   "source": [
    "ECom_Data.shape # 1st method\n"
   ]
  },
  {
   "cell_type": "markdown",
   "id": "5eff291c-7713-43f9-a4b2-7afa5a33aa17",
   "metadata": {},
   "source": [
    "The number of rows in the dataset is = 8906 and the number of columns in the dataset is = 17 as seen from the application of .shape function to the dataset. \n",
    "\n",
    "Let us look at the second method to determine the number of rows and columns in the dataset."
   ]
  },
  {
   "cell_type": "code",
   "execution_count": 10,
   "id": "3b17c76a-3d53-42db-96e4-b3eb1ab12766",
   "metadata": {},
   "outputs": [
    {
     "name": "stdout",
     "output_type": "stream",
     "text": [
      "<class 'pandas.core.frame.DataFrame'>\n",
      "RangeIndex: 8906 entries, 0 to 8905\n",
      "Data columns (total 17 columns):\n",
      " #   Column                      Non-Null Count  Dtype  \n",
      "---  ------                      --------------  -----  \n",
      " 0   Customer_uniq_id            8906 non-null   object \n",
      " 1   Region                      8906 non-null   object \n",
      " 2   Order_Date                  8906 non-null   object \n",
      " 3   Expected_Delivery_Date      8906 non-null   object \n",
      " 4   Delivered_Date              8906 non-null   object \n",
      " 5   product_name                8906 non-null   object \n",
      " 6   product_main_category       8906 non-null   object \n",
      " 7   product_subcategory         8906 non-null   object \n",
      " 8   product_category_filter     8906 non-null   object \n",
      " 9   product_category_subfilter  8906 non-null   object \n",
      " 10  product_unique ID           8906 non-null   object \n",
      " 11  retail_price                8906 non-null   int64  \n",
      " 12  discounted_price            8906 non-null   int64  \n",
      " 13  product_rating              8906 non-null   float64\n",
      " 14  Brand                       8906 non-null   object \n",
      " 15  product_specifications      8906 non-null   object \n",
      " 16  description                 8906 non-null   object \n",
      "dtypes: float64(1), int64(2), object(14)\n",
      "memory usage: 1.2+ MB\n"
     ]
    }
   ],
   "source": [
    "ECom_Data.info() # 2nd method"
   ]
  },
  {
   "cell_type": "markdown",
   "id": "545bb92b-efd8-47d9-99ca-fdad995b1866",
   "metadata": {},
   "source": [
    "With the application of .info() function to the dataset we can see that the number of rows and columns is similar to the figures we got from using the .shape function.\n",
    "\n",
    "So, the number of rows in the dataset is 8906\n",
    "and, the number of columns in the dataset is 17"
   ]
  },
  {
   "cell_type": "markdown",
   "id": "38f1a31e-7cfe-4c82-b7ee-38d49c4bb968",
   "metadata": {},
   "source": [
    "c) How many object data types are there? (1 mark)"
   ]
  },
  {
   "cell_type": "markdown",
   "id": "075db97a-c2ad-41bd-9619-969dcad908c9",
   "metadata": {},
   "source": [
    "Ans. 1c)"
   ]
  },
  {
   "cell_type": "code",
   "execution_count": 15,
   "id": "c576e7e3-0c20-4d9c-96fe-25696d72ded2",
   "metadata": {},
   "outputs": [
    {
     "name": "stdout",
     "output_type": "stream",
     "text": [
      "<class 'pandas.core.frame.DataFrame'>\n",
      "RangeIndex: 8906 entries, 0 to 8905\n",
      "Data columns (total 17 columns):\n",
      " #   Column                      Non-Null Count  Dtype  \n",
      "---  ------                      --------------  -----  \n",
      " 0   Customer_uniq_id            8906 non-null   object \n",
      " 1   Region                      8906 non-null   object \n",
      " 2   Order_Date                  8906 non-null   object \n",
      " 3   Expected_Delivery_Date      8906 non-null   object \n",
      " 4   Delivered_Date              8906 non-null   object \n",
      " 5   product_name                8906 non-null   object \n",
      " 6   product_main_category       8906 non-null   object \n",
      " 7   product_subcategory         8906 non-null   object \n",
      " 8   product_category_filter     8906 non-null   object \n",
      " 9   product_category_subfilter  8906 non-null   object \n",
      " 10  product_unique ID           8906 non-null   object \n",
      " 11  retail_price                8906 non-null   int64  \n",
      " 12  discounted_price            8906 non-null   int64  \n",
      " 13  product_rating              8906 non-null   float64\n",
      " 14  Brand                       8906 non-null   object \n",
      " 15  product_specifications      8906 non-null   object \n",
      " 16  description                 8906 non-null   object \n",
      "dtypes: float64(1), int64(2), object(14)\n",
      "memory usage: 1.2+ MB\n"
     ]
    }
   ],
   "source": [
    "ECom_Data.info()\n"
   ]
  },
  {
   "cell_type": "markdown",
   "id": "f8ef327a-b48a-4d85-81ec-7d18ee21cb92",
   "metadata": {},
   "source": [
    "After using the .info() function, we can see that there are 14 object data type columns."
   ]
  },
  {
   "cell_type": "markdown",
   "id": "f0718182-e3cd-4734-86d9-744cf740e339",
   "metadata": {},
   "source": [
    "d) Is there any Boolean data type? (1 mark)"
   ]
  },
  {
   "cell_type": "markdown",
   "id": "1745fa8f-2bda-4651-9a34-e034ed0aa7c8",
   "metadata": {},
   "source": [
    "Ans. 1d) As seen from the use of the .info() function, we can see that there is no no Boolean data type. "
   ]
  },
  {
   "cell_type": "code",
   "execution_count": 16,
   "id": "2f1674ec-4f67-45cc-97bf-bbbd6b70943c",
   "metadata": {},
   "outputs": [
    {
     "name": "stdout",
     "output_type": "stream",
     "text": [
      "<class 'pandas.core.frame.DataFrame'>\n",
      "RangeIndex: 8906 entries, 0 to 8905\n",
      "Data columns (total 17 columns):\n",
      " #   Column                      Non-Null Count  Dtype  \n",
      "---  ------                      --------------  -----  \n",
      " 0   Customer_uniq_id            8906 non-null   object \n",
      " 1   Region                      8906 non-null   object \n",
      " 2   Order_Date                  8906 non-null   object \n",
      " 3   Expected_Delivery_Date      8906 non-null   object \n",
      " 4   Delivered_Date              8906 non-null   object \n",
      " 5   product_name                8906 non-null   object \n",
      " 6   product_main_category       8906 non-null   object \n",
      " 7   product_subcategory         8906 non-null   object \n",
      " 8   product_category_filter     8906 non-null   object \n",
      " 9   product_category_subfilter  8906 non-null   object \n",
      " 10  product_unique ID           8906 non-null   object \n",
      " 11  retail_price                8906 non-null   int64  \n",
      " 12  discounted_price            8906 non-null   int64  \n",
      " 13  product_rating              8906 non-null   float64\n",
      " 14  Brand                       8906 non-null   object \n",
      " 15  product_specifications      8906 non-null   object \n",
      " 16  description                 8906 non-null   object \n",
      "dtypes: float64(1), int64(2), object(14)\n",
      "memory usage: 1.2+ MB\n"
     ]
    }
   ],
   "source": [
    "ECom_Data.info()"
   ]
  },
  {
   "cell_type": "markdown",
   "id": "add22a7e-4622-4ef5-b130-479ab1391eba",
   "metadata": {},
   "source": [
    "## Solutions to Question number 2 part by part:"
   ]
  },
  {
   "cell_type": "markdown",
   "id": "ccaa78ae-8cf0-4cce-810a-0548542d6184",
   "metadata": {},
   "source": [
    "a) Drop the columns product_specifications and description. (2 marks)\n",
    "\n",
    "Ans. 2a)"
   ]
  },
  {
   "cell_type": "code",
   "execution_count": null,
   "id": "edf6c2e3-ba92-485a-97be-ce8bdd5943f6",
   "metadata": {},
   "outputs": [],
   "source": [
    "ECom_Data.drop(['product_specifications', 'description'], axis=1,)"
   ]
  },
  {
   "cell_type": "code",
   "execution_count": 21,
   "id": "99f930ea-95d1-4a7a-a73c-68c3cb2a9238",
   "metadata": {},
   "outputs": [
    {
     "data": {
      "text/html": [
       "<div>\n",
       "<style scoped>\n",
       "    .dataframe tbody tr th:only-of-type {\n",
       "        vertical-align: middle;\n",
       "    }\n",
       "\n",
       "    .dataframe tbody tr th {\n",
       "        vertical-align: top;\n",
       "    }\n",
       "\n",
       "    .dataframe thead th {\n",
       "        text-align: right;\n",
       "    }\n",
       "</style>\n",
       "<table border=\"1\" class=\"dataframe\">\n",
       "  <thead>\n",
       "    <tr style=\"text-align: right;\">\n",
       "      <th></th>\n",
       "      <th>Customer_uniq_id</th>\n",
       "      <th>Region</th>\n",
       "      <th>Order_Date</th>\n",
       "      <th>Expected_Delivery_Date</th>\n",
       "      <th>Delivered_Date</th>\n",
       "      <th>product_name</th>\n",
       "      <th>product_main_category</th>\n",
       "      <th>product_subcategory</th>\n",
       "      <th>product_category_filter</th>\n",
       "      <th>product_category_subfilter</th>\n",
       "      <th>product_unique ID</th>\n",
       "      <th>retail_price</th>\n",
       "      <th>discounted_price</th>\n",
       "      <th>product_rating</th>\n",
       "      <th>Brand</th>\n",
       "    </tr>\n",
       "  </thead>\n",
       "  <tbody>\n",
       "    <tr>\n",
       "      <th>0</th>\n",
       "      <td>e71017e224688489edfe856f2308806d</td>\n",
       "      <td>East</td>\n",
       "      <td>24-10-2021</td>\n",
       "      <td>25-10-2021</td>\n",
       "      <td>25-10-2021</td>\n",
       "      <td>Indcrown Net Embroidered Semi-stitched Lehenga...</td>\n",
       "      <td>Clothing</td>\n",
       "      <td>Women's Clothing</td>\n",
       "      <td>Ethnic Wear</td>\n",
       "      <td>Fabric</td>\n",
       "      <td>FABEJX2NHNKCYHKA</td>\n",
       "      <td>999</td>\n",
       "      <td>699</td>\n",
       "      <td>4.0</td>\n",
       "      <td>INDCROWN</td>\n",
       "    </tr>\n",
       "    <tr>\n",
       "      <th>1</th>\n",
       "      <td>6286847ee2da18f587503db49511c539</td>\n",
       "      <td>East</td>\n",
       "      <td>24-10-2021</td>\n",
       "      <td>25-10-2021</td>\n",
       "      <td>25-10-2021</td>\n",
       "      <td>Shopmania Music Band A5 Notebook Spiral Bound</td>\n",
       "      <td>Pens &amp; Stationery</td>\n",
       "      <td>Diaries &amp; Notebooks</td>\n",
       "      <td>Notebooks</td>\n",
       "      <td>Designer</td>\n",
       "      <td>DIAEJ6Z8BEDTGGYY</td>\n",
       "      <td>499</td>\n",
       "      <td>275</td>\n",
       "      <td>1.0</td>\n",
       "      <td>SHOPMANIA</td>\n",
       "    </tr>\n",
       "  </tbody>\n",
       "</table>\n",
       "</div>"
      ],
      "text/plain": [
       "                   Customer_uniq_id Region  Order_Date Expected_Delivery_Date  \\\n",
       "0  e71017e224688489edfe856f2308806d  East   24-10-2021             25-10-2021   \n",
       "1  6286847ee2da18f587503db49511c539  East   24-10-2021             25-10-2021   \n",
       "\n",
       "  Delivered_Date                                       product_name  \\\n",
       "0     25-10-2021  Indcrown Net Embroidered Semi-stitched Lehenga...   \n",
       "1     25-10-2021      Shopmania Music Band A5 Notebook Spiral Bound   \n",
       "\n",
       "  product_main_category    product_subcategory product_category_filter  \\\n",
       "0             Clothing       Women's Clothing             Ethnic Wear    \n",
       "1    Pens & Stationery    Diaries & Notebooks               Notebooks    \n",
       "\n",
       "  product_category_subfilter product_unique ID  retail_price  \\\n",
       "0                    Fabric   FABEJX2NHNKCYHKA           999   \n",
       "1                  Designer   DIAEJ6Z8BEDTGGYY           499   \n",
       "\n",
       "   discounted_price  product_rating      Brand  \n",
       "0               699             4.0   INDCROWN  \n",
       "1               275             1.0  SHOPMANIA  "
      ]
     },
     "execution_count": 21,
     "metadata": {},
     "output_type": "execute_result"
    }
   ],
   "source": [
    "ECom_Data.head(2) # To check whether the columns have been dropped or not, we look at the first two rows of the changed dataset. "
   ]
  },
  {
   "cell_type": "markdown",
   "id": "87ac4965-3f03-4a09-b7e4-ff5d74565045",
   "metadata": {},
   "source": [
    "b) Which method or function is used to permanently delete the columns mentioned in part (a)? Write the code explicitly (2 marks)\n",
    "\n",
    "Ans. 2b)"
   ]
  },
  {
   "cell_type": "code",
   "execution_count": 3,
   "id": "177337eb-65e5-4019-928a-a39cc1632aee",
   "metadata": {},
   "outputs": [],
   "source": [
    "ECom_Data.drop(['product_specifications', 'description'], axis=1, inplace=True) # Adding inplace=True to make changes permanent"
   ]
  },
  {
   "cell_type": "markdown",
   "id": "d09fd788-6a9b-4cf3-8c69-ae6be5470a9f",
   "metadata": {},
   "source": [
    "inplace = True method is used to permanently delete the columns mentioned in part (a)"
   ]
  },
  {
   "cell_type": "markdown",
   "id": "ca071a68-9ffc-4ac9-b76f-587788ab4c90",
   "metadata": {},
   "source": [
    "## Solutions to Question number 3 part by part\n",
    "\n",
    "a) How many unique Brand are there? (2 marks)\n",
    "\n",
    "Ans. 3a)"
   ]
  },
  {
   "cell_type": "code",
   "execution_count": 26,
   "id": "046f97d9-4ded-4359-83b2-4d3ad82edbd6",
   "metadata": {},
   "outputs": [
    {
     "name": "stdout",
     "output_type": "stream",
     "text": [
      "There are 2484 unique brands\n"
     ]
    }
   ],
   "source": [
    "a = ECom_Data['Brand'].nunique()\n",
    "print('There are', a, 'unique brands')"
   ]
  },
  {
   "cell_type": "markdown",
   "id": "b7a2337e-ae70-40bd-bd28-ca3a1cfb0672",
   "metadata": {},
   "source": [
    "Function .unique() is used to find the numner of unique products in 'Brand'"
   ]
  },
  {
   "cell_type": "markdown",
   "id": "c0872595-f93e-4548-b046-3d4190f5a460",
   "metadata": {},
   "source": [
    "b) Note that each Brand contains multiple products. Show the average product_rating within each Brand (2 marks)\n",
    "\n",
    "Ans. 3b)"
   ]
  },
  {
   "cell_type": "code",
   "execution_count": 28,
   "id": "53401b24-f743-4f79-84b7-f20de33df35b",
   "metadata": {},
   "outputs": [
    {
     "data": {
      "text/plain": [
       "Brand\n",
       "1OAK           1.500000\n",
       "3A AUTOCARE    3.268293\n",
       "3D MAT         3.000000\n",
       "3KFACTORY      2.000000\n",
       "4D             3.600000\n",
       "                 ...   \n",
       "ZORDEN         4.000000\n",
       "ZOSIGN         3.400000\n",
       "ZRESTHA        1.000000\n",
       "ZYXEL          3.333333\n",
       " TARKAN        5.000000\n",
       "Name: product_rating, Length: 2484, dtype: float64"
      ]
     },
     "execution_count": 28,
     "metadata": {},
     "output_type": "execute_result"
    }
   ],
   "source": [
    "ECom_Data.groupby(['Brand'])['product_rating'].mean() # .mean() gives the average of product_rating values against each value in 'Brand'"
   ]
  },
  {
   "cell_type": "markdown",
   "id": "092c3035-7c4a-4be3-aa40-395b1c2b451f",
   "metadata": {},
   "source": [
    "Since we have to find the average of 'product_rating' based on the variable 'Brand', we use the groupby function on both these attributes accompanied by the aggfunc .mean()"
   ]
  },
  {
   "cell_type": "markdown",
   "id": "3d622262-89f1-4acb-975f-d9ca7b7c2b97",
   "metadata": {},
   "source": [
    "## Solutions to Question number 4 part by part\n",
    "\n",
    "a) Create an appropriate plot to show the count of items ordered for each product_main_category. (6 marks). Hint: Create a bar chart titled \"Product Category type\" where product_main_category are on x-axis and counts are on y-axis. Note: Both axis labels, i.e. the names of the product_main_category and counts must be clearly legible.\n",
    "\n",
    "Ans. 4a)"
   ]
  },
  {
   "cell_type": "code",
   "execution_count": 5,
   "id": "39415519-ef55-4247-8b2b-855de21dea28",
   "metadata": {},
   "outputs": [
    {
     "data": {
      "text/html": [
       "<div>\n",
       "<style scoped>\n",
       "    .dataframe tbody tr th:only-of-type {\n",
       "        vertical-align: middle;\n",
       "    }\n",
       "\n",
       "    .dataframe tbody tr th {\n",
       "        vertical-align: top;\n",
       "    }\n",
       "\n",
       "    .dataframe thead th {\n",
       "        text-align: right;\n",
       "    }\n",
       "</style>\n",
       "<table border=\"1\" class=\"dataframe\">\n",
       "  <thead>\n",
       "    <tr style=\"text-align: right;\">\n",
       "      <th></th>\n",
       "      <th>product_main_category</th>\n",
       "      <th>count</th>\n",
       "    </tr>\n",
       "  </thead>\n",
       "  <tbody>\n",
       "    <tr>\n",
       "      <th>0</th>\n",
       "      <td>Clothing</td>\n",
       "      <td>2943</td>\n",
       "    </tr>\n",
       "    <tr>\n",
       "      <th>1</th>\n",
       "      <td>Mobiles &amp; Accessories</td>\n",
       "      <td>1084</td>\n",
       "    </tr>\n",
       "    <tr>\n",
       "      <th>2</th>\n",
       "      <td>Automotive</td>\n",
       "      <td>1001</td>\n",
       "    </tr>\n",
       "    <tr>\n",
       "      <th>3</th>\n",
       "      <td>Home Decor &amp; Festive Needs</td>\n",
       "      <td>727</td>\n",
       "    </tr>\n",
       "    <tr>\n",
       "      <th>4</th>\n",
       "      <td>Computers</td>\n",
       "      <td>558</td>\n",
       "    </tr>\n",
       "    <tr>\n",
       "      <th>...</th>\n",
       "      <td>...</td>\n",
       "      <td>...</td>\n",
       "    </tr>\n",
       "    <tr>\n",
       "      <th>21</th>\n",
       "      <td>Pet Supplies</td>\n",
       "      <td>20</td>\n",
       "    </tr>\n",
       "    <tr>\n",
       "      <th>22</th>\n",
       "      <td>Home Entertainment</td>\n",
       "      <td>17</td>\n",
       "    </tr>\n",
       "    <tr>\n",
       "      <th>23</th>\n",
       "      <td>Household Supplies</td>\n",
       "      <td>4</td>\n",
       "    </tr>\n",
       "    <tr>\n",
       "      <th>24</th>\n",
       "      <td>Food &amp; Nutrition</td>\n",
       "      <td>2</td>\n",
       "    </tr>\n",
       "    <tr>\n",
       "      <th>25</th>\n",
       "      <td>Wearable Smart Devices</td>\n",
       "      <td>1</td>\n",
       "    </tr>\n",
       "  </tbody>\n",
       "</table>\n",
       "<p>26 rows × 2 columns</p>\n",
       "</div>"
      ],
      "text/plain": [
       "          product_main_category  count\n",
       "0                     Clothing    2943\n",
       "1        Mobiles & Accessories    1084\n",
       "2                   Automotive    1001\n",
       "3   Home Decor & Festive Needs     727\n",
       "4                    Computers     558\n",
       "..                          ...    ...\n",
       "21                Pet Supplies      20\n",
       "22          Home Entertainment      17\n",
       "23          Household Supplies       4\n",
       "24            Food & Nutrition       2\n",
       "25      Wearable Smart Devices       1\n",
       "\n",
       "[26 rows x 2 columns]"
      ]
     },
     "execution_count": 5,
     "metadata": {},
     "output_type": "execute_result"
    }
   ],
   "source": [
    "df= ECom_Data.product_main_category.value_counts().reset_index()\n",
    "df"
   ]
  },
  {
   "cell_type": "markdown",
   "id": "2d6389ae-a585-4e31-87eb-d143b1f21c07",
   "metadata": {},
   "source": [
    "We create a dataframe with unique values present in the 'product_main_category' column and their respective counts. \n",
    "\n",
    ".value_counts() function gives us the total values of number of items ordered. \n",
    "\n",
    ".reset_index() is used to naturalize the index in numerals starting from 0 - otherwise the index becomes the list of elemennts in 'product_main_category' coulmn by default. \n",
    "\n",
    "Also, the values in count are automatically arranged in descending order."
   ]
  },
  {
   "cell_type": "code",
   "execution_count": 6,
   "id": "00c02581-8575-400d-8fd6-d65b7428c630",
   "metadata": {},
   "outputs": [
    {
     "data": {
      "image/png": "[encoded data removed]",
      "text/plain": [
       "<Figure size 640x480 with 1 Axes>"
      ]
     },
     "metadata": {},
     "output_type": "display_data"
    }
   ],
   "source": [
    "plt.title('Product Category type')\n",
    "sns.barplot(data=df, x='product_main_category', y='count')\n",
    "plt.xticks(rotation=90) # otherwise the names of products on the x-axis become cluttered. \n",
    "plt.yscale('log'); # to bring out detailed values in the 'count' column. \n"
   ]
  },
  {
   "cell_type": "markdown",
   "id": "224f3355-7b60-41e4-a6a7-9b9fd6cef20b",
   "metadata": {},
   "source": [
    "b) From the plot identify for which two product_main_category(s) maximum and minimum orders were placed. (2 marks)\n",
    "\n",
    "Ans. 4b)"
   ]
  },
  {
   "cell_type": "markdown",
   "id": "3e0c0468-4207-4724-a84f-d438c3f06c01",
   "metadata": {},
   "source": [
    "As seen in the plot above the,\n",
    "\n",
    "the maximum orders placed for the category in product_main_category is : Clothing \n",
    "\n",
    "\n",
    "the minimum orders placed for the category in product_main_category is : Wearable Smart Devices"
   ]
  },
  {
   "cell_type": "markdown",
   "id": "03410cda-d1c8-475b-8341-d8f52831cfd8",
   "metadata": {},
   "source": [
    "c) Write code to print out the top 5 product_main_category(s) in descending order? (3 marks)\n",
    "\n",
    "Ans. 4c)"
   ]
  },
  {
   "cell_type": "code",
   "execution_count": 11,
   "id": "93fd82ff-7a01-490a-b17e-fd6df6445c71",
   "metadata": {},
   "outputs": [
    {
     "name": "stdout",
     "output_type": "stream",
     "text": [
      "The top 5 product_main_category(s) in descending order are :\n",
      " 0                      Clothing \n",
      "1         Mobiles & Accessories \n",
      "2                    Automotive \n",
      "3    Home Decor & Festive Needs \n",
      "4                     Computers \n",
      "Name: product_main_category, dtype: object\n"
     ]
    }
   ],
   "source": [
    "a = df.product_main_category.head(5) # using .head() function on the category 'product_main_category' to print out the top 5 5 product_main_category(s) in descending order\n",
    "print('The top 5 product_main_category(s) in descending order are :\\n', a)"
   ]
  },
  {
   "cell_type": "markdown",
   "id": "6e38a6a9-b017-4599-ad91-40110be15e93",
   "metadata": {},
   "source": [
    "The .head() function has been used on product_main_category without using any ascending = False method because while creating the frame we have already arranged the count of product_main_category(s) in descending order.\n",
    "\n",
    "\n",
    "The values of top 5 categories found with the .head() function are stored in variable 'a' for using the print function easily. "
   ]
  },
  {
   "cell_type": "markdown",
   "id": "7ae5a16d-3dec-4fd0-9a1e-2c1d03d3c002",
   "metadata": {},
   "source": [
    "## Solutions to Question number 5\n",
    "\n",
    "The company charges\n",
    "\n",
    "(i) 25% on the orders having final price (discounted price) greater than 600 (ii) 15% on the orders having final price (discounted price) greater than 350 but less than or equal to 600 (iii) 10% on the orders having final price (discounted price) greater than 100 but less than or equal to 350 (iv) Otherwise, 5% on the final price (discounted price) \n",
    "\n",
    "Find the Total Revenue generated by the E-Commerce company over all orders placed. (6 marks)\n",
    "\n",
    "Hint: Calculate revenue of E-commerce company using the conditions mentioned above and then do the total (sum) of all to get total Revenue.\n",
    "\n",
    "Ans. 5)"
   ]
  },
  {
   "cell_type": "code",
   "execution_count": 13,
   "id": "7ee50b4f-506d-4fb8-9736-969c6ae125f5",
   "metadata": {},
   "outputs": [],
   "source": [
    "l1 = ECom_Data['discounted_price'] # we create a list out of the Discounted_price column"
   ]
  },
  {
   "cell_type": "markdown",
   "id": "6c944b0b-1c3a-41a4-9aee-32f9a3dbc796",
   "metadata": {},
   "source": [
    "We create a pogram to find out the revenue prices based on the given criteria of applying charges on discounted prices. "
   ]
  },
  {
   "cell_type": "code",
   "execution_count": 14,
   "id": "80625623-5076-4f9e-b455-e039771e32c7",
   "metadata": {},
   "outputs": [
    {
     "name": "stdout",
     "output_type": "stream",
     "text": [
      "[174.75, 41.25, 41.25, 209.25, 174.75, 44.699999999999996, 224.75, 59.849999999999994, 191.0, 337.25, 374.75, 562.5, 350.0, 224.75, 174.75, 59.25, 198.75, 37.5, 173.75, 224.75, 348.25, 34.5, 67.35, 59.25, 22.5, 324.75, 57.0, 224.75, 174.5, 162.5, 174.5, 74.85, 300.0, 237.25, 88.5, 89.85, 649.75, 454.25, 453.0, 474.75, 312.25, 89.25, 89.25, 89.25, 89.25, 59.849999999999994, 244.75, 33.6, 199.75, 59.849999999999994, 244.75, 244.75, 192.5, 399.5, 599.5, 50.85, 44.85, 244.75, 244.75, 244.75, 37.05, 74.85, 290.0, 50.85, 300.0, 59.849999999999994, 317.5, 59.849999999999994, 187.0, 59.849999999999994, 59.849999999999994, 324.75, 249.75, 73.95, 174.75, 174.75, 249.75, 259.75, 1249.75, 204.5, 154.0, 488.75, 56.25, 367.25, 52.35, 52.35, 52.35, 89.85, 212.25, 59.849999999999994, 89.85, 421.25, 37.35, 157.0, 46.5, 88.5, 89.85, 174.75, 89.7, 174.75, 187.25, 187.25, 36.75, 28.0, 27.0, 27.0, 36.75, 36.75, 1239.5, 281.75, 324.75, 349.75, 26.25, 26.25, 74.85, 59.849999999999994, 35.0, 483.75, 19.349999999999998, 82.35, 250.0, 4247.5, 200.0, 499.75, 37.5, 37.35, 37.35, 37.35, 37.35, 37.35, 37.35, 37.35, 37.35, 37.35, 37.35, 349.75, 274.75, 89.85, 46.35, 624.75, 311.25, 44.85, 35.0, 59.849999999999994, 59.849999999999994, 59.849999999999994, 46.35, 162.25, 162.25, 629.75, 38.85, 237.25, 38.85, 212.25, 162.25, 249.75, 312.0, 162.25, 38.85, 38.85, 162.25, 38.85, 38.85, 38.85, 38.85, 38.85, 38.85, 38.85, 38.85, 38.85, 38.85, 494.5, 212.25, 38.85, 281.5, 162.25, 38.85, 162.25, 237.25, 162.25, 237.25, 38.85, 38.85, 356.25, 38.85, 38.85, 38.85, 162.25, 38.85, 329.75, 162.25, 162.25, 212.25, 59.849999999999994, 89.85, 202.25, 43.35, 86.25, 74.85, 350.0, 656.0, 74.85, 60.0, 249.75, 89.85, 62.849999999999994, 44.85, 71.1, 262.25, 372.5, 1093.75, 577.25, 74.85, 52.35, 372.5, 52.35, 56.25, 63.75, 44.85, 67.35, 28.0, 74.85, 60.0, 89.85, 62.849999999999994, 89.85, 82.35, 60.0, 89.85, 372.5, 157.25, 249.75, 27.0, 472.25, 60.0, 43.35, 74.85, 67.35, 59.849999999999994, 237.5, 162.25, 59.849999999999994, 59.849999999999994, 387.5, 365.0, 74.85, 52.35, 59.849999999999994, 89.85, 38.85, 374.75, 315.0, 44.85, 174.75, 699.75, 52.35, 550.0, 89.85, 157.25, 390.0, 74.85, 82.35, 82.35, 160.0, 52.65, 174.75, 60.0, 365.0, 60.0, 60.0, 50.25, 52.35, 28.0, 499.75, 1083.75, 52.35, 174.75, 249.75, 174.75, 187.5, 175.0, 299.75, 85.5, 320.0, 67.35, 67.35, 67.35, 25.349999999999998, 25.349999999999998, 25.349999999999998, 37.35, 212.25, 74.85, 59.849999999999994, 249.75, 349.75, 74.85, 74.85, 22.349999999999998, 22.349999999999998, 74.85, 44.85, 349.75, 74.85, 37.35, 74.85, 20.099999999999998, 22.349999999999998, 74.85, 249.75, 197.5, 212.25, 249.75, 249.75, 161.25, 199.75, 37.35, 29.849999999999998, 37.35, 249.75, 237.25, 37.35, 74.85, 74.85, 174.75, 349.75, 437.5, 52.35, 372.5, 372.5, 412.5, 174.25, 472.5, 365.0, 43.35, 465.0, 437.5, 687.5, 74.85, 43.35, 662.5, 239.75, 447.5, 562.5, 44.85, 59.849999999999994, 165.25, 59.849999999999994, 59.849999999999994, 59.849999999999994, 299.75, 174.75, 67.5, 44.85, 89.85, 59.849999999999994, 59.849999999999994, 227.25, 43.35, 59.849999999999994, 59.849999999999994, 43.35, 43.35, 69.75, 44.85, 67.35, 487.25, 462.5, 62.849999999999994, 29.849999999999998, 67.35, 67.35, 67.35, 29.849999999999998, 67.35, 233.5, 67.35, 67.35, 67.35, 29.849999999999998, 67.35, 29.849999999999998, 199.75, 299.75, 365.0, 372.5, 25.5, 447.5, 587.5, 422.5, 35.85, 33.75, 33.75, 32.0, 33.75, 89.85, 199.75, 1249.75, 374.75, 74.85, 249.75, 249.75, 74.85, 249.75, 249.75, 84.0, 37.35, 249.75, 74.85, 249.75, 249.75, 74.85, 199.75, 199.75, 249.75, 599.75, 162.5, 212.25, 182.25, 74.85, 29.849999999999998, 249.75, 74.85, 249.75, 249.75, 249.75, 66.75, 74.85, 199.75, 249.75, 29.849999999999998, 182.25, 44.85, 59.849999999999994, 249.75, 249.75, 174.75, 249.75, 74.85, 35.85, 199.75, 249.75, 249.75, 182.25, 199.75, 249.75, 74.85, 224.75, 249.75, 59.849999999999994, 249.75, 249.75, 249.75, 249.75, 74.85, 37.35, 62.849999999999994, 187.25, 575.0, 335.0, 187.25, 18.0, 44.85, 65.25, 540.0, 662.5, 162.25, 372.5, 437.5, 174.75, 450.0, 565.0, 522.5, 372.5, 372.5, 372.5, 447.5, 687.5, 337.5, 372.5, 82.35, 472.5, 365.0, 32.0, 562.5, 74.85, 687.5, 372.5, 1749.75, 1200.0, 79.35, 32.0, 1125.0, 1125.0, 800.0, 79.35, 237.25, 349.75, 82.35, 174.75, 54.0, 43.5, 89.85, 51.75, 427.5, 437.25, 59.849999999999994, 71.85, 1499.75, 237.25, 90.0, 299.75, 45.0, 237.25, 57.0, 224.75, 193.75, 399.75, 442.5, 74.85, 272.5, 274.75, 249.75, 474.75, 212.25, 74.85, 52.35, 89.85, 674.75, 237.25, 199.75, 262.5, 199.75, 674.75, 37.35, 52.35, 44.85, 199.75, 89.85, 174.75, 499.75, 674.75, 199.75, 337.25, 999.75, 52.35, 314.75, 622.5, 449.75, 349.75, 524.75, 59.849999999999994, 30.0, 30.0, 472.5, 422.5, 74.85, 59.849999999999994, 37.5, 350.0, 36.75, 37.5, 172.5, 374.75, 81.0, 37.5, 74.85, 422.5, 41.85, 67.5, 247.5, 37.5, 247.5, 55.5, 52.35, 52.65, 422.5, 88.5, 59.849999999999994, 41.25, 81.0, 74.85, 41.25, 41.25, 59.849999999999994, 247.25, 41.25, 1061.25, 224.75, 82.35, 543.25, 64.2, 449.75, 63.599999999999994, 212.25, 349.75, 323.75, 212.25, 89.85, 224.5, 79.5, 44.85, 249.75, 44.85, 367.5, 174.75, 274.75, 71.7, 37.5, 949.75, 198.75, 89.85, 284.5, 224.75, 209.75, 65.85, 73.35, 89.85, 41.85, 164.75, 37.199999999999996, 41.85, 76.5, 75.0, 44.85, 206.25, 849.75, 53.699999999999996, 499.75, 375.0, 849.75, 749.75, 849.75, 849.75, 18.0, 849.75, 918.5, 849.75, 849.75, 37.35, 59.849999999999994, 59.849999999999994, 44.85, 59.849999999999994, 59.849999999999994, 249.75, 39.75, 75.0, 224.75, 249.75, 249.75, 274.75, 59.849999999999994, 673.75, 59.849999999999994, 174.75, 52.35, 349.75, 52.35, 44.85, 210.0, 249.75, 229.75, 28.5, 210.0, 1074.75, 74.25, 204.75, 174.75, 52.35, 29.849999999999998, 73.35, 1999.75, 59.849999999999994, 435.0, 82.35, 152.25, 259.75, 89.85, 44.85, 174.75, 44.85, 205.0, 1549.75, 249.75, 4365.0, 11905.0, 67.35, 1285.0, 370.0, 370.0, 489.5, 4365.0, 3750.0, 495.0, 3402.5, 287.25, 4365.0, 197.5, 3350.0, 574.75, 1222.5, 349.75, 862.5, 1015.0, 37.35, 712.5, 1062.5, 9080.0, 174.75, 3350.0, 187.75, 89.85, 287.25, 174.75, 82.35, 162.25, 179.0, 89.85, 46.5, 162.25, 89.85, 162.25, 89.85, 89.85, 89.85, 162.25, 162.25, 89.85, 59.849999999999994, 89.85, 44.85, 249.75, 82.5, 162.25, 89.85, 89.85, 162.25, 89.85, 89.85, 162.25, 168.75, 44.85, 89.85, 89.85, 89.85, 89.85, 89.85, 89.85, 89.85, 89.85, 89.85, 89.85, 89.85, 162.25, 89.85, 89.85, 89.85, 162.25, 324.75, 89.85, 89.85, 89.85, 89.85, 162.25, 89.85, 89.85, 499.75, 89.85, 624.75, 89.1, 222.5, 89.85, 89.85, 89.85, 89.85, 89.85, 43.35, 89.85, 224.75, 89.85, 89.85, 89.85, 237.0, 89.85, 162.25, 162.25, 44.699999999999996, 89.85, 162.25, 89.85, 82.5, 89.85, 162.25, 162.25, 89.85, 89.85, 162.25, 89.85, 162.25, 749.75, 89.85, 89.85, 162.25, 89.85, 89.85, 89.85, 89.85, 89.85, 89.85, 374.75, 174.75, 162.25, 162.25, 89.85, 89.85, 59.849999999999994, 187.25, 31.65, 79.35, 89.85, 78.6, 449.5, 174.75, 249.75, 199.75, 249.75, 217.25, 399.75, 19.5, 185.0, 25.349999999999998, 64.35, 200.0, 199.75, 224.75, 174.75, 224.75, 74.85, 33.2, 274.75, 249.75, 41.25, 89.7, 43.35, 374.75, 187.5, 199.75, 59.849999999999994, 33.75, 59.849999999999994, 45.0, 22.349999999999998, 49.35, 29.849999999999998, 56.85, 82.5, 59.849999999999994, 56.85, 50.85, 22.349999999999998, 52.35, 67.35, 174.75, 52.35, 43.35, 44.85, 56.85, 59.849999999999994, 35.0, 45.0, 33.75, 43.35, 59.849999999999994, 19.05, 33.75, 21.0, 53.85, 59.849999999999994, 44.85, 44.85, 18.3, 22.349999999999998, 30.0, 55.35, 37.35, 68.85, 44.85, 82.5, 60.0, 37.35, 22.349999999999998, 59.849999999999994, 23.849999999999998, 16.349999999999998, 44.85, 56.85, 27.0, 44.85, 44.85, 28.5, 22.349999999999998, 28.349999999999998, 68.85, 28.5, 74.85, 28.5, 44.85, 74.85, 30.0, 52.35, 20.849999999999998, 22.349999999999998, 79.35, 47.25, 59.849999999999994, 22.349999999999998, 74.85, 28.349999999999998, 26.6, 45.0, 59.849999999999994, 58.349999999999994, 22.349999999999998, 21.0, 27.0, 45.0, 52.35, 52.35, 22.349999999999998, 25.349999999999998, 33.75, 19.05, 44.85, 27.0, 45.0, 58.349999999999994, 59.849999999999994, 20.25, 56.85, 23.4, 58.349999999999994, 47.85, 22.349999999999998, 37.35, 52.35, 33.75, 58.349999999999994, 41.85, 29.849999999999998, 22.349999999999998, 80.85, 68.85, 44.85, 44.85, 37.35, 45.0, 49.35, 82.5, 44.85, 23.849999999999998, 59.849999999999994, 52.35, 41.25, 43.35, 37.35, 23.849999999999998, 64.35, 59.849999999999994, 33.75, 28.349999999999998, 63.75, 68.85, 52.35, 59.849999999999994, 43.35, 37.35, 33.75, 44.699999999999996, 52.35, 18.3, 56.85, 49.35, 59.25, 89.85, 74.85, 56.85, 19.5, 56.25, 44.85, 32.85, 34.35, 59.849999999999994, 41.85, 22.349999999999998, 35.85, 43.35, 74.85, 33.75, 62.099999999999994, 74.85, 44.85, 33.75, 43.35, 58.349999999999994, 46.35, 37.35, 45.0, 17.849999999999998, 52.35, 57.599999999999994, 52.35, 52.35, 45.0, 43.35, 44.85, 22.349999999999998, 19.65, 82.5, 25.349999999999998, 26.4, 38.85, 29.25, 19.349999999999998, 44.85, 59.849999999999994, 36.0, 18.0, 59.849999999999994, 26.25, 52.35, 37.35, 56.85, 37.949999999999996, 28.400000000000002, 27.0, 43.35, 52.35, 26.849999999999998, 56.85, 26.849999999999998, 29.849999999999998, 43.35, 22.349999999999998, 20.849999999999998, 31.5, 56.85, 37.35, 34.0, 23.099999999999998, 33.0, 44.85, 37.35, 59.849999999999994, 59.849999999999994, 74.85, 44.85, 37.35, 58.349999999999994, 27.0, 56.85, 74.85, 33.75, 56.85, 29.849999999999998, 28.400000000000002, 37.35, 45.0, 74.85, 22.349999999999998, 62.099999999999994, 44.85, 67.35, 44.85, 22.349999999999998, 59.849999999999994, 46.35, 74.85, 56.85, 59.849999999999994, 59.849999999999994, 67.35, 26.4, 43.5, 41.85, 44.85, 22.349999999999998, 27.0, 82.5, 33.75, 37.35, 44.85, 64.5, 27.0, 44.85, 61.5, 33.75, 56.85, 52.35, 224.75, 34.0, 32.0, 43.35, 59.849999999999994, 62.849999999999994, 37.35, 44.85, 44.85, 45.0, 59.849999999999994, 59.849999999999994, 64.35, 73.35, 59.849999999999994, 59.699999999999996, 44.699999999999996, 52.35, 32.1, 44.85, 32.85, 197.5, 44.85, 44.85, 19.349999999999998, 52.35, 33.75, 18.0, 65.25, 45.0, 89.85, 74.85, 43.35, 33.75, 44.85, 224.75, 52.35, 59.849999999999994, 44.85, 25.349999999999998, 43.35, 29.849999999999998, 28.5, 22.349999999999998, 59.849999999999994, 52.35, 40.35, 29.849999999999998, 22.349999999999998, 44.85, 26.4, 43.35, 43.35, 59.849999999999994, 33.75, 41.85, 52.35, 20.849999999999998, 28.5, 45.0, 59.849999999999994, 45.0, 59.849999999999994, 37.35, 64.35, 59.849999999999994, 44.85, 29.849999999999998, 27.0, 45.0, 52.35, 26.25, 52.35, 16.349999999999998, 67.35, 73.5, 52.35, 63.75, 37.5, 59.849999999999994, 52.35, 59.849999999999994, 82.5, 62.099999999999994, 38.85, 56.25, 59.849999999999994, 59.849999999999994, 26.25, 33.75, 28.349999999999998, 52.35, 59.849999999999994, 56.85, 25.349999999999998, 67.35, 24.0, 50.85, 82.35, 218.75, 27.0, 37.949999999999996, 44.85, 46.35, 74.85, 29.849999999999998, 38.25, 22.349999999999998, 74.85, 61.349999999999994, 49.35, 33.75, 61.349999999999994, 32.0, 56.85, 52.35, 61.5, 26.849999999999998, 22.349999999999998, 47.25, 26.4, 33.75, 52.35, 41.85, 33.75, 32.85, 46.35, 61.5, 52.35, 58.349999999999994, 27.0, 44.85, 29.849999999999998, 26.25, 41.25, 74.85, 52.35, 64.35, 43.35, 26.849999999999998, 52.35, 37.35, 27.0, 58.349999999999994, 33.75, 59.849999999999994, 43.35, 33.75, 86.85, 22.349999999999998, 44.85, 30.0, 45.0, 224.75, 45.0, 26.849999999999998, 19.5, 61.5, 56.25, 44.85, 33.0, 64.35, 59.849999999999994, 46.35, 43.35, 34.35, 25.5, 67.35, 59.849999999999994, 56.85, 40.35, 18.3, 49.35, 31.5, 59.849999999999994, 24.0, 28.349999999999998, 67.35, 19.05, 41.85, 43.35, 82.35, 56.85, 33.75, 74.85, 59.849999999999994, 44.85, 30.599999999999998, 33.75, 19.349999999999998, 37.35, 74.85, 30.0, 59.849999999999994, 164.25, 44.85, 41.85, 45.0, 44.85, 74.85, 44.85, 22.349999999999998, 22.349999999999998, 29.849999999999998, 23.849999999999998, 31.5, 16.349999999999998, 31.5, 47.85, 52.35, 56.85, 52.35, 56.85, 26.25, 28.400000000000002, 59.849999999999994, 19.05, 16.349999999999998, 67.35, 59.849999999999994, 46.35, 34.35, 74.85, 52.35, 22.349999999999998, 49.35, 44.85, 27.0, 64.35, 44.85, 52.35, 60.0, 44.85, 29.849999999999998, 44.85, 59.849999999999994, 52.35, 63.75, 63.0, 82.5, 37.35, 43.35, 82.5, 49.35, 56.85, 43.35, 59.849999999999994, 22.349999999999998, 32.1, 82.35, 52.35, 21.0, 29.849999999999998, 44.85, 33.75, 59.849999999999994, 52.35, 61.5, 29.849999999999998, 67.35, 70.35, 56.85, 44.85, 49.35, 49.949999999999996, 56.85, 18.75, 56.85, 62.849999999999994, 44.85, 59.849999999999994, 52.35, 33.0, 49.35, 55.35, 86.1, 41.85, 16.349999999999998, 74.85, 56.85, 44.85, 52.35, 52.35, 56.85, 22.349999999999998, 52.35, 82.5, 52.35, 32.6, 43.35, 32.0, 67.35, 62.849999999999994, 59.849999999999994, 43.35, 29.849999999999998, 56.85, 26.849999999999998, 44.85, 24.0, 19.349999999999998, 56.85, 59.849999999999994, 33.75, 52.35, 22.349999999999998, 73.5, 32.0, 52.35, 74.85, 33.75, 26.25, 49.35, 59.849999999999994, 38.25, 37.35, 52.35, 20.849999999999998, 46.35, 29.849999999999998, 75.0, 73.35, 26.849999999999998, 75.0, 44.85, 38.85, 32.0, 38.85, 64.35, 34.35, 52.35, 50.85, 59.849999999999994, 44.85, 59.849999999999994, 71.85, 70.35, 56.85, 74.85, 41.85, 44.85, 59.849999999999994, 63.0, 52.35, 32.0, 37.949999999999996, 202.25, 64.35, 37.5, 43.35, 19.5, 33.75, 44.85, 37.35, 22.349999999999998, 56.85, 33.75, 33.75, 19.349999999999998, 44.85, 22.349999999999998, 37.35, 35.1, 27.0, 19.349999999999998, 18.75, 52.35, 22.349999999999998, 33.75, 33.75, 34.0, 44.85, 59.849999999999994, 177.5, 67.35, 28.349999999999998, 64.35, 43.35, 49.35, 59.849999999999994, 44.85, 37.949999999999996, 30.0, 56.85, 56.85, 37.5, 28.349999999999998, 59.849999999999994, 59.849999999999994, 37.35, 56.85, 43.35, 44.85, 46.35, 52.35, 30.0, 20.25, 29.849999999999998, 28.400000000000002, 67.35, 44.85, 41.85, 58.349999999999994, 52.35, 45.0, 67.35, 52.35, 26.25, 59.849999999999994, 22.349999999999998, 19.5, 43.35, 59.849999999999994, 44.85, 21.0, 46.35, 24.0, 33.75, 22.349999999999998, 56.25, 33.75, 20.849999999999998, 44.85, 44.85, 56.85, 52.35, 44.85, 56.25, 23.849999999999998, 24.0, 44.85, 47.25, 44.85, 18.0, 56.85, 59.849999999999994, 44.85, 32.0, 43.35, 33.75, 17.849999999999998, 52.35, 68.85, 52.35, 45.0, 52.35, 59.849999999999994, 59.849999999999994, 59.849999999999994, 32.0, 38.25, 28.5, 29.849999999999998, 24.0, 22.349999999999998, 59.849999999999994, 37.949999999999996, 22.349999999999998, 59.849999999999994, 82.5, 41.85, 59.849999999999994, 43.35, 41.25, 83.55, 74.85, 64.35, 28.5, 49.35, 44.85, 33.75, 20.849999999999998, 22.349999999999998, 26.849999999999998, 37.35, 44.85, 52.35, 25.349999999999998, 52.35, 59.849999999999994, 16.349999999999998, 22.349999999999998, 61.349999999999994, 56.85, 47.85, 58.349999999999994, 27.0, 52.35, 52.35, 44.85, 59.849999999999994, 25.349999999999998, 33.75, 34.35, 59.849999999999994, 64.35, 59.849999999999994, 74.85, 38.85, 52.35, 45.0, 44.85, 28.400000000000002, 33.75, 24.0, 46.35, 33.0, 44.85, 62.849999999999994, 32.0, 16.349999999999998, 22.349999999999998, 22.349999999999998, 29.849999999999998, 74.85, 24.0, 22.349999999999998, 33.75, 22.349999999999998, 19.349999999999998, 32.0, 25.349999999999998, 74.85, 19.5, 32.0, 44.85, 83.55, 59.849999999999994, 62.849999999999994, 49.35, 56.85, 64.35, 18.0, 44.85, 59.849999999999994, 35.85, 22.349999999999998, 37.35, 45.0, 18.0, 68.85, 29.849999999999998, 19.5, 30.0, 49.35, 59.849999999999994, 32.85, 45.0, 67.35, 27.0, 33.75, 56.85, 43.35, 56.25, 61.5, 74.85, 17.849999999999998, 37.35, 33.75, 44.85, 59.849999999999994, 37.35, 22.349999999999998, 57.0, 45.0, 41.85, 37.35, 59.849999999999994, 17.849999999999998, 16.349999999999998, 33.75, 19.5, 74.85, 33.0, 59.849999999999994, 20.849999999999998, 56.85, 24.0, 33.75, 59.849999999999994, 26.4, 37.35, 44.85, 43.35, 56.85, 33.75, 82.5, 32.1, 25.349999999999998, 58.349999999999994, 33.0, 37.35, 41.25, 56.85, 22.349999999999998, 22.349999999999998, 64.35, 59.849999999999994, 29.849999999999998, 59.849999999999994, 63.0, 82.5, 30.0, 37.35, 32.0, 64.35, 33.75, 56.85, 162.25, 19.5, 25.349999999999998, 218.75, 22.349999999999998, 59.849999999999994, 37.35, 52.35, 56.85, 82.35, 37.35, 262.25, 239.75, 324.75, 34.5, 51.75, 44.85, 89.85, 63.0, 187.25, 67.5, 59.849999999999994, 69.45, 74.85, 71.25, 71.25, 224.75, 362.25, 299.75, 342.5, 324.75, 225.0, 399.75, 424.75, 224.75, 224.75, 249.75, 22.349999999999998, 299.75, 224.75, 599.75, 299.75, 299.75, 299.75, 344.0, 362.25, 399.75, 74.85, 88.5, 324.75, 349.75, 59.849999999999994, 324.75, 387.5, 224.75, 212.25, 1922.5, 349.75, 1922.5, 324.75, 89.85, 2122.5, 349.75, 349.75, 157.0, 349.75, 249.75, 349.75, 74.85, 349.75, 498.75, 252.5, 349.75, 349.75, 45.0, 89.85, 324.75, 89.85, 450.0, 44.85, 44.85, 44.85, 59.849999999999994, 274.75, 400.0, 349.75, 162.5, 59.849999999999994, 437.5, 89.85, 74.85, 67.5, 324.75, 185.0, 27.75, 74.85, 349.75, 59.849999999999994, 1672.5, 59.849999999999994, 662.5, 67.5, 59.849999999999994, 324.75, 349.75, 82.35, 59.849999999999994, 349.75, 4763.0, 240.0, 615.0, 750.0, 347.5, 999.75, 875.0, 999.75, 31.65, 22.349999999999998, 40.35, 474.75, 300.0, 212.25, 83.85, 69.75, 44.85, 25.349999999999998, 44.25, 73.35, 83.85, 34.35, 74.85, 38.85, 78.75, 287.5, 209.75, 224.75, 224.75, 349.75, 44.85, 82.35, 71.85, 72.0, 287.5, 422.5, 67.35, 75.0, 401.5, 44.85, 82.35, 89.85, 154.75, 59.849999999999994, 38.25, 401.5, 249.75, 25.349999999999998, 212.5, 355.0, 399.75, 25.349999999999998, 847.5, 22.349999999999998, 300.0, 72.0, 227.25, 34.35, 44.25, 232.5, 59.849999999999994, 74.85, 152.5, 59.849999999999994, 34.35, 44.85, 154.75, 224.75, 54.0, 349.75, 44.85, 44.85, 31.65, 37.35, 37.35, 177.5, 372.5, 174.75, 208.75, 74.85, 59.849999999999994, 25.349999999999998, 78.75, 34.35, 63.75, 25.349999999999998, 29.849999999999998, 70.35, 174.75, 287.5, 624.75, 212.25, 33.0, 174.75, 212.25, 274.75, 37.35, 40.35, 53.25, 75.0, 89.85, 40.35, 75.0, 32.4, 81.75, 31.65, 75.0, 29.849999999999998, 29.849999999999998, 40.35, 89.85, 40.35, 40.35, 75.0, 75.0, 31.5, 89.85, 29.849999999999998, 89.85, 75.0, 75.0, 29.849999999999998, 89.85, 40.35, 40.35, 29.849999999999998, 29.849999999999998, 74.85, 57.75, 89.85, 29.849999999999998, 40.35, 40.35, 89.85, 29.849999999999998, 40.35, 59.849999999999994, 59.849999999999994, 59.849999999999994, 57.0, 59.849999999999994, 198.75, 159.75, 240.0, 875.0, 224.75, 33.75, 37.35, 179.75, 33.75, 67.35, 287.5, 33.75, 33.75, 33.75, 33.75, 202.25, 249.75, 33.75, 368.75, 323.75, 33.75, 179.75, 269.75, 318.75, 35.0, 33.9, 4387.5, 33.75, 448.75, 53.85, 33.75, 74.85, 82.35, 435.25, 224.75, 41.85, 82.35, 67.35, 224.75, 33.75, 230.0, 29.25, 90.0, 29.849999999999998, 52.35, 59.849999999999994, 67.35, 29.849999999999998, 70.5, 87.0, 29.849999999999998, 29.849999999999998, 29.849999999999998, 27.0, 44.85, 29.849999999999998, 29.849999999999998, 43.35, 29.849999999999998, 29.849999999999998, 29.849999999999998, 29.849999999999998, 29.849999999999998, 29.849999999999998, 29.849999999999998, 34.0, 29.849999999999998, 29.849999999999998, 29.849999999999998, 300.0, 1762.25, 74.85, 29.849999999999998, 29.849999999999998, 174.75, 29.849999999999998, 29.849999999999998, 1425.0, 29.849999999999998, 29.849999999999998, 199.75, 29.849999999999998, 29.849999999999998, 29.849999999999998, 29.849999999999998, 33.6, 32.4, 35.0, 337.5, 399.75, 162.25, 399.75, 399.75, 399.75, 399.75, 345.0, 230.0, 399.75, 230.0, 399.75, 345.0, 399.75, 27.45, 230.0, 399.75, 74.85, 399.75, 345.0, 399.75, 399.75, 337.5, 399.75, 70.35, 345.0, 345.0, 399.75, 345.0, 345.0, 337.5, 399.75, 230.0, 74.55, 399.75, 230.0, 3725.0, 278.0, 89.85, 399.75, 28.5, 274.75, 399.75, 345.0, 399.75, 186.0, 549.75, 399.75, 1610.0, 345.0, 174.75, 449.75, 262.5, 230.0, 224.75, 21.75, 230.0, 345.0, 399.75, 20.849999999999998, 399.75, 849.75, 399.75, 399.75, 344.75, 399.75, 249.75, 1625.0, 337.5, 399.75, 399.75, 230.0, 399.75, 337.5, 399.75, 337.5, 37.35, 212.5, 59.849999999999994, 399.75, 22.05, 345.0, 56.25, 337.5, 230.0, 230.0, 399.75, 399.75, 230.0, 399.75, 1621.25, 1012.75, 230.0, 345.0, 247.25, 399.75, 399.75, 399.75, 399.75, 399.75, 399.75, 1649.75, 399.75, 345.0, 399.75, 399.75, 70.5, 399.75, 399.75, 399.75, 1198.75, 174.75, 337.0, 41.85, 1546.25, 37.35, 345.0, 230.0, 399.75, 399.75, 230.0, 399.75, 337.5, 249.75, 230.0, 399.75, 249.75, 337.5, 1625.0, 230.0, 230.0, 345.0, 230.0, 399.75, 52.35, 162.5, 162.25, 1024.75, 61.5, 399.75, 79.2, 345.0, 337.5, 200.0, 345.0, 399.75, 18.0, 399.75, 399.75, 399.75, 399.75, 399.75, 337.5, 399.75, 399.75, 399.75, 399.75, 230.0, 199.75, 345.0, 1217.25, 299.75, 399.75, 399.75, 399.75, 345.0, 712.25, 399.75, 230.0, 230.0, 74.85, 29.849999999999998, 399.75, 399.75, 399.75, 162.25, 230.0, 399.75, 230.0, 276.25, 399.75, 1218.5, 1050.0, 230.0, 399.75, 399.75, 399.75, 399.75, 230.0, 1387.25, 399.75, 345.0, 345.0, 230.0, 187.5, 230.0, 55.5, 59.849999999999994, 399.75, 399.75, 399.75, 337.5, 399.75, 230.0, 399.75, 399.75, 1250.0, 399.75, 399.75, 89.85, 345.0, 399.75, 321.0, 63.75, 517.25, 230.0, 345.0, 399.75, 230.0, 449.75, 345.0, 399.75, 337.5, 399.75, 399.75, 399.75, 187.25, 1525.0, 337.5, 399.75, 345.0, 399.75, 399.75, 399.75, 337.5, 399.75, 399.75, 230.0, 337.5, 337.5, 37.35, 230.0, 345.0, 399.75, 249.75, 399.75, 399.75, 399.75, 399.75, 399.75, 22.5, 345.0, 399.75, 345.0, 27.0, 230.0, 399.75, 374.75, 399.75, 274.75, 174.75, 337.5, 399.75, 27.0, 230.0, 345.0, 824.75, 399.75, 230.0, 345.0, 230.0, 399.75, 399.75, 29.849999999999998, 314.25, 3125.0, 399.75, 230.0, 337.5, 399.75, 27.0, 337.5, 399.75, 249.75, 74.85, 337.5, 399.75, 337.5, 230.0, 399.75, 162.5, 399.75, 49.35, 337.5, 345.0, 230.0, 399.75, 230.0, 230.0, 1049.75, 230.0, 89.85, 399.75, 35.85, 399.75, 399.75, 19.349999999999998, 345.0, 29.849999999999998, 345.0, 399.75, 345.0, 67.5, 207.5, 399.75, 345.0, 399.75, 345.0, 399.75, 345.0, 345.0, 624.75, 230.0, 399.75, 274.75, 399.75, 275.0, 399.75, 230.0, 399.75, 230.0, 29.849999999999998, 399.75, 230.0, 230.0, 345.0, 41.85, 345.0, 399.75, 399.75, 399.75, 399.75, 337.5, 399.75, 64.35, 230.0, 399.75, 399.75, 399.75, 399.75, 1174.75, 345.0, 1139.75, 399.75, 399.75, 399.75, 399.75, 230.0, 230.0, 162.0, 399.75, 399.75, 345.0, 399.75, 399.75, 399.75, 399.75, 29.849999999999998, 399.75, 230.0, 399.75, 588.0, 230.0, 399.75, 399.75, 399.75, 399.75, 44.85, 230.0, 345.0, 230.0, 399.75, 399.75, 230.0, 399.75, 230.0, 449.75, 230.0, 399.75, 22.349999999999998, 399.75, 399.75, 399.75, 162.5, 337.5, 399.75, 345.0, 376.25, 74.7, 230.0, 1550.0, 399.75, 20.7, 59.25, 337.5, 345.0, 937.25, 399.75, 51.75, 345.0, 399.75, 162.25, 345.0, 399.75, 399.75, 399.75, 230.0, 271.25, 524.75, 345.0, 230.0, 162.25, 230.0, 449.75, 399.75, 399.75, 399.75, 2499.75, 399.75, 74.7, 399.75, 1699.75, 399.75, 345.0, 399.75, 399.75, 249.75, 230.0, 937.25, 345.0, 399.75, 399.75, 399.75, 3099.75, 399.75, 230.0, 399.75, 187.25, 399.75, 399.75, 399.75, 345.0, 89.85, 399.75, 276.25, 700.0, 345.0, 345.0, 230.0, 1176.0, 574.75, 399.75, 82.35, 337.5, 230.0, 399.75, 62.849999999999994, 337.5, 224.75, 1124.75, 230.0, 310.0, 230.0, 399.75, 399.75, 345.0, 345.0, 399.75, 62.849999999999994, 562.25, 74.85, 230.0, 399.75, 337.5, 337.5, 399.75, 399.75, 345.0, 299.75, 399.75, 474.75, 399.75, 44.85, 67.5, 199.75, 345.0, 399.75, 399.75, 345.0, 374.75, 399.75, 399.75, 174.75, 399.75, 399.75, 399.75, 399.75, 337.25, 399.75, 269.75, 230.0, 58.199999999999996, 462.5, 35.4, 1309.0, 267.75, 374.75, 337.5, 399.75, 230.0, 399.75, 316.75, 399.75, 345.0, 239.75, 29.849999999999998, 29.849999999999998, 399.75, 399.75, 399.75, 399.75, 399.75, 174.75, 210.0, 399.75, 87.75, 1737.25, 88.2, 59.849999999999994, 399.75, 399.75, 230.0, 312.5, 337.5, 28.0, 399.75, 90.0, 399.75, 345.0, 399.75, 230.0, 192.5, 28.349999999999998, 70.35, 399.75, 399.75, 89.85, 399.75, 189.75, 46.5, 399.75, 399.75, 88.8, 587.5, 337.5, 337.5, 2850.0, 178.75, 399.75, 333.25, 399.75, 230.0, 230.0, 399.75, 399.75, 399.75, 230.0, 399.75, 399.75, 292.5, 192.25, 174.75, 59.849999999999994, 390.0, 212.25, 187.5, 245.0, 68.39999999999999, 230.0, 241.25, 706.25, 399.75, 230.0, 399.75, 399.75, 230.0, 337.5, 399.75, 162.5, 374.75, 399.75, 399.75, 337.5, 279.0, 399.75, 399.75, 337.5, 377.5, 399.75, 396.0, 230.0, 230.0, 399.75, 89.85, 399.75, 345.0, 230.0, 399.75, 393.5, 230.0, 345.0, 399.75, 399.75, 399.75, 230.0, 374.75, 825.0, 230.0, 399.75, 399.75, 399.75, 189.75, 26.25, 399.75, 214.5, 288.75, 230.0, 162.25, 399.75, 250.0, 345.0, 261.25, 399.75, 399.75, 345.0, 230.0, 399.75, 399.75, 399.75, 399.75, 345.0, 337.5, 88.35, 674.75, 82.35, 399.75, 337.5, 399.75, 180.25, 399.75, 283.5, 337.5, 285.0, 230.0, 345.0, 337.5, 59.849999999999994, 233.5, 399.75, 216.25, 345.0, 187.5, 63.449999999999996, 399.75, 187.0, 399.75, 399.75, 399.75, 189.75, 399.75, 337.5, 399.75, 283.0, 399.75, 345.0, 156.25, 399.75, 345.0, 177.5, 47.85, 87.75, 345.0, 324.75, 324.75, 74.85, 37.35, 37.35, 37.35, 26.25, 449.75, 349.75, 349.75, 424.75, 449.75, 89.85, 22.8, 29.849999999999998, 29.849999999999998, 230.0, 29.849999999999998, 29.849999999999998, 270.0, 29.849999999999998, 327.5, 29.849999999999998, 206.25, 249.75, 1021.25, 359.0, 35.0, 522.5, 74.85, 65.55, 59.4, 43.05, 44.85, 22.349999999999998, 196.25, 1387.25, 43.05, 43.05, 2249.75, 375.0, 43.05, 38.25, 36.75, 36.75, 59.4, 201.0, 30.9, 30.9, 50.85, 199.75, 69.0, 74.85, 29.849999999999998, 36.6, 36.6, 174.75, 36.6, 288.0, 36.6, 189.75, 78.0, 36.6, 36.6, 90.0, 36.6, 468.75, 224.75, 36.6, 299.75, 299.75, 299.75, 2497.5, 44.85, 82.5, 29.849999999999998, 387.5, 220.0, 74.7, 157.5, 287.5, 374.75, 41.85, 80.85, 342.5, 550.0, 175.0, 74.85, 74.85, 203.75, 74.85, 272.5, 44.85, 63.599999999999994, 44.85, 63.0, 58.8, 44.85, 43.5, 224.75, 162.5, 51.75, 25.349999999999998, 60.0, 44.85, 44.85, 44.85, 449.75, 1999.75, 281.5, 324.75, 37.35, 324.75, 245.0, 324.75, 69.89999999999999, 44.85, 69.89999999999999, 287.5, 69.89999999999999, 69.89999999999999, 69.89999999999999, 82.35, 326.75, 184.75, 163.5, 271.25, 80.25, 69.89999999999999, 44.85, 199.75, 221.25, 599.75, 299.75, 221.25, 437.5, 349.75, 599.75, 74.85, 174.75, 174.75, 437.5, 28.799999999999997, 437.5, 312.25, 249.75, 74.85, 550.0, 249.75, 437.5, 74.85, 82.35, 74.85, 159.0, 174.75, 47.1, 69.89999999999999, 29.849999999999998, 437.5, 37.35, 374.75, 44.85, 59.699999999999996, 74.85, 44.85, 374.75, 198.75, 221.25, 224.75, 449.75, 437.5, 82.35, 82.35, 274.75, 53.85, 374.75, 162.25, 179.75, 69.89999999999999, 74.85, 67.35, 212.5, 67.35, 162.25, 174.75, 179.0, 74.85, 41.85, 437.5, 1395.25, 44.85, 74.85, 437.5, 74.85, 82.35, 741.25, 750.0, 29.849999999999998, 69.89999999999999, 499.75, 437.5, 16.349999999999998, 749.75, 59.849999999999994, 824.75, 221.25, 74.85, 44.85, 74.85, 82.35, 437.5, 67.35, 34.800000000000004, 74.85, 74.85, 69.89999999999999, 159.0, 624.75, 74.85, 44.85, 67.35, 389.75, 209.75, 868.75, 312.25, 82.5, 699.75, 29.849999999999998, 162.25, 52.35, 67.35, 59.849999999999994, 74.85, 449.75, 374.75, 74.85, 374.75, 82.35, 437.5, 69.89999999999999, 174.75, 74.85, 162.25, 198.75, 74.85, 74.85, 437.5, 74.85, 374.75, 74.85, 29.849999999999998, 53.85, 44.85, 59.699999999999996, 74.85, 89.85, 74.85, 74.85, 315.0, 174.75, 74.85, 82.35, 299.75, 89.85, 59.699999999999996, 82.35, 74.85, 374.75, 74.85, 29.849999999999998, 422.25, 159.0, 59.849999999999994, 74.85, 374.75, 89.85, 74.85, 74.85, 74.85, 274.75, 174.75, 59.849999999999994, 312.25, 83.39999999999999, 59.699999999999996, 74.85, 324.75, 74.85, 74.85, 159.0, 74.85, 174.75, 349.75, 490.5, 290.25, 84.3, 187.25, 239.5, 249.75, 90.0, 174.75, 242.75, 324.75, 200.0, 162.25, 156.25, 72.0, 59.849999999999994, 225.0, 166.75, 78.75, 387.5, 63.599999999999994, 4865.0, 324.75, 35.85, 37.5, 50.85, 224.75, 74.85, 1747.5, 54.75, 62.849999999999994, 56.1, 157.25, 74.85, 187.5, 810.0, 50.85, 41.85, 399.75, 44.85, 62.849999999999994, 59.849999999999994, 168.0, 348.75, 162.25, 187.5, 264.75, 160.0, 225.0, 212.5, 1970.75, 416.5, 922.5, 28.95, 59.55, 1799.0, 20.849999999999998, 587.25, 274.75, 209.75, 19.349999999999998, 2374.75, 624.75, 624.75, 374.75, 572.5, 169.75, 59.849999999999994, 72.75, 35.0, 67.5, 29.849999999999998, 186.25, 191.5, 89.85, 87.14999999999999, 29.099999999999998, 35.0, 62.849999999999994, 34.0, 200.0, 59.849999999999994, 187.25, 3871.25, 76.5, 393.0, 74.25, 75.0, 612.5, 82.35, 35.0, 171.25, 224.25, 725.0, 187.5, 618.75, 6249.75, 162.5, 71.85, 46.35, 187.5, 249.75, 947.5, 199.75, 497.5, 1062.5, 548.75, 443.25, 337.5, 250.0, 44.85, 525.0, 325.0, 7750.0, 1395.0, 499.75, 3124.75, 3499.75, 5322.5, 1575.0, 1475.0, 1131.75, 849.75, 408.75, 528.5, 1299.75, 691.25, 1887.5, 437.25, 500.0, 1200.0, 412.5, 4493.25, 573.5, 242.25, 1000.0, 3347.5, 474.75, 1312.5, 631.25, 497.5, 464.75, 573.5, 625.0, 499.75, 362.25, 514.75, 173.75, 624.75, 498.75, 412.25, 624.5, 500.0, 256.25, 497.5, 1562.25, 1250.0, 624.75, 400.0, 1059.75, 468.75, 3079.0, 300.0, 399.75, 843.75, 1599.75, 528.5, 480.0, 332.5, 228.0, 1247.25, 550.0, 337.5, 2639.0, 299.75, 649.75, 237.5, 599.75, 273.25, 312.5, 449.75, 328.75, 347.5, 386.5, 348.75, 237.25, 232.25, 375.0, 2025.0, 500.0, 1750.0, 475.0, 286.0, 1337.5, 710.0, 349.75, 512.5, 382.75, 199.75, 900.0, 462.5, 399.75, 1400.0, 750.0, 237.5, 522.5, 279.5, 426.25, 412.25, 222.5, 537.5, 1362.5, 4500.0, 2327.5, 429.5, 474.75, 172.5, 372.5, 573.5, 375.0, 341.75, 1099.75, 447.5, 699.75, 3550.0, 273.75, 674.75, 331.25, 1137.5, 312.5, 624.75, 425.0, 774.75, 1747.5, 750.0, 1388.75, 450.0, 270.0, 2249.75, 811.5, 549.5, 574.75, 499.75, 3550.0, 276.25, 90.0, 462.5, 1312.25, 639.75, 619.75, 257.5, 1625.0, 249.75, 1375.0, 427.5, 498.75, 499.75, 299.75, 425.0, 2049.75, 1325.0, 223.75, 335.0, 712.25, 449.75, 1425.0, 1547.5, 200.0, 56.4, 297.5, 471.75, 1212.5, 353.5, 3800.0, 675.0, 317.5, 397.5, 464.75, 307.75, 37.35, 477.5, 947.5, 249.75, 749.75, 305.0, 697.5, 269.75, 1010.5, 487.5, 1099.75, 2050.0, 1137.5, 612.5, 1872.5, 446.75, 418.75, 74.85, 324.75, 437.25, 349.75, 74.85, 337.5, 420.0, 874.75, 474.75, 2200.0, 300.0, 478.25, 670.0, 517.25, 297.5, 535.0, 174.75, 174.75, 59.849999999999994, 27.400000000000002, 59.849999999999994, 71.85, 200.0, 74.85, 74.85, 74.85, 374.75, 71.85, 248.75, 29.849999999999998, 29.849999999999998, 74.85, 16.5, 174.75, 56.4, 53.85, 25.5, 59.849999999999994, 37.35, 62.25, 870.0, 16.5, 187.5, 262.5, 249.75, 237.5, 89.85, 224.75, 193.75, 59.849999999999994, 274.75, 249.75, 6374.75, 4649.75, 237.25, 54.6, 324.5, 474.75, 461.25, 74.1, 26.849999999999998, 625.0, 80.85, 179.75, 174.75, 80.85, 287.25, 80.85, 625.0, 33.6, 187.25, 52.35, 80.85, 247.25, 162.25, 30.15, 80.85, 89.85, 80.85, 174.75, 399.75, 224.75, 80.85, 57.0, 57.0, 33.75, 80.85, 80.85, 80.85, 167.25, 30.0, 80.85, 172.25, 80.85, 80.85, 80.85, 80.85, 80.85, 80.85, 187.25, 80.85, 286.25, 80.85, 80.85, 80.85, 59.849999999999994, 80.85, 80.85, 80.85, 80.85, 76.5, 80.85, 223.75, 74.85, 224.75, 67.35, 89.25, 174.75, 72.0, 374.75, 16.65, 374.75, 52.35, 174.75, 52.35, 59.849999999999994, 399.75, 220.75, 74.7, 4699.75, 74.85, 274.75, 89.85, 28.349999999999998, 424.75, 424.75, 200.25, 74.85, 1980.0, 1350.0, 74.85, 224.75, 82.35, 249.75, 46.5, 59.849999999999994, 249.75, 424.75, 162.25, 468.75, 197.5, 197.5, 89.85, 62.25, 162.25, 197.5, 197.5, 406.25, 468.75, 61.05, 212.5, 474.75, 59.849999999999994, 72.14999999999999, 187.5, 61.949999999999996, 68.1, 68.1, 68.1, 68.1, 68.1, 68.1, 68.1, 68.1, 68.1, 199.5, 68.1, 68.1, 68.1, 61.949999999999996, 68.1, 68.1, 68.1, 199.5, 68.1, 68.1, 68.1, 324.5, 324.5, 71.1, 225.0, 174.75, 324.5, 379.75, 212.25, 29.849999999999998, 37.5, 187.0, 324.5, 50.85, 53.85, 80.85, 40.65, 50.85, 59.849999999999994, 50.85, 31.049999999999997, 33.0, 43.949999999999996, 29.849999999999998, 29.849999999999998, 44.55, 29.849999999999998, 29.849999999999998, 29.849999999999998, 52.35, 41.25, 41.25, 50.85, 50.85, 29.849999999999998, 32.699999999999996, 44.85, 224.75, 59.849999999999994, 82.5, 82.35, 449.75, 324.5, 189.75, 324.5, 59.849999999999994, 26.0, 449.75, 1474.75, 324.5, 400.0, 324.5, 44.85, 162.25, 249.75, 449.75, 449.75, 26.0, 335.0, 462.25, 60.0, 1549.75, 249.75, 26.0, 249.75, 33.75, 26.0, 26.0, 59.849999999999994, 74.85, 449.75, 462.25, 224.75, 174.75, 26.0, 449.75, 21.45, 248.75, 1487.25, 26.099999999999998, 74.85, 37.35, 2124.75, 449.75, 59.849999999999994, 687.5, 44.85, 163.0, 249.75, 400.0, 249.75, 45.0, 74.85, 86.7, 249.75, 90.0, 400.0, 64.64999999999999, 399.75, 34.5, 174.75, 162.5, 224.75, 212.25, 249.75, 23.849999999999998, 43.35, 29.849999999999998, 485.0, 43.35, 59.849999999999994, 18.0, 687.25, 399.75, 82.5, 44.85, 74.85, 44.85, 29.849999999999998, 174.75, 44.85, 89.85, 50.25, 329.75, 59.849999999999994, 164.5, 780.0, 86.7, 34.35, 67.35, 279.75, 673.75, 324.75, 52.35, 249.75, 89.85, 86.7, 473.75, 174.75, 44.85, 29073.0, 239.75, 878.0, 83.85, 187.25, 74.55, 239.75, 52.35, 299.75, 499.75, 89.85, 59.849999999999994, 249.75, 237.5, 249.75, 197.5, 44.85, 279.75, 582.25, 493.75, 89.85, 499.75, 82.5, 399.75, 278.75, 59.849999999999994, 82.35, 82.5, 324.75, 89.85, 89.85, 224.75, 573.75, 199.75, 5657.5, 356.25, 50.25, 356.25, 44.85, 27.0, 399.0, 29.849999999999998, 299.75, 960.0, 279.75, 74.85, 574.75, 74.85, 89.85, 44.85, 40.35, 248.75, 52.35, 239.75, 873.75, 74.85, 199.5, 199.5, 68.1, 61.949999999999996, 512.75, 458.0, 57.599999999999994, 57.599999999999994, 57.599999999999994, 89.85, 315.0, 322.5, 488.5, 211.25, 249.75, 35.0, 89.85, 739.75, 62.4, 57.599999999999994, 334.25, 224.75, 204.0, 309.75, 314.75, 82.5, 86.25, 89.85, 44.85, 82.2, 199.75, 558.0, 368.0, 741.25, 749.75, 276.5, 43.35, 183.25, 196.25, 168.75, 168.75, 72.75, 162.25, 168.75, 29.849999999999998, 187.0, 44.85, 324.75, 49.35, 194.5, 44.85, 87.75, 18.75, 157.5, 212.5, 274.75, 173.75, 274.75, 224.75, 249.75, 749.75, 249.75, 275.0, 374.75, 249.75, 274.75, 186.25, 155.0, 79.35, 462.25, 247.25, 198.5, 324.75, 67.35, 162.5, 324.75, 224.75, 247.25, 287.25, 249.75, 153.75, 1300.0, 374.75, 53.85, 462.5, 155.0, 67.35, 249.75, 78.6, 162.25, 449.75, 318.5, 35.0, 295.0, 37.35, 72.0, 462.5, 52.35, 160.75, 35.0, 462.5, 199.75, 28.0, 181.25, 200.0, 249.75, 82.35, 375.0, 168.0, 200.0, 605.0, 1175.0, 375.0, 375.0, 449.75, 37.35, 65.25, 36.75, 162.25, 54.75, 54.75, 29.849999999999998, 56.25, 224.75, 224.75, 169.25, 26.25, 67.5, 200.0, 26.0, 974.75, 449.75, 249.5, 200.0, 436.25, 28.0, 82.35, 445.0, 71.55, 44.85, 33.75, 44.85, 5445.0, 6377.5, 44.85, 71.55, 2180.0, 1055.0, 71.55, 71.55, 44.85, 44.85, 44.85, 71.55, 165.0, 44.85, 5445.0, 26.849999999999998, 6377.5, 44.85, 44.85, 74.85, 1055.0, 74.85, 6377.5, 325.0, 200.0, 89.25, 82.35, 34.0, 199.75, 415.25, 324.75, 224.75, 74.85, 324.75, 224.75, 350.0, 58.5, 35.0, 70.35, 224.75, 187.25, 18.0, 74.85, 217.5, 32.0, 217.5, 31.5, 349.75, 165.0, 174.75, 74.25, 74.25, 59.849999999999994, 84.0, 399.75, 399.75, 66.6, 274.75, 45.0, 59.849999999999994, 174.75, 424.75, 562.5, 849.75, 74.85, 46.8, 152.5, 220.0, 1312.5, 162.25, 90.0, 58.5, 249.75, 183.75, 41.25, 449.75, 74.25, 199.75, 337.5, 59.849999999999994, 174.75, 185.0, 199.75, 324.75, 249.75, 374.75, 59.849999999999994, 422.5, 60.0, 1249.75, 424.75, 35.0, 43.35, 449.75, 57.0, 224.75, 212.5, 449.75, 58.349999999999994, 724.75, 67.5, 90.0, 74.85, 163.25, 89.85, 352.75, 37.5, 58.5, 47.25, 90.0, 187.5, 342.25, 44.85, 849.75, 199.75, 249.75, 82.5, 52.35, 424.75, 374.75, 324.75, 337.25, 424.75, 237.25, 67.35, 35.0, 76.5, 275.0, 68.85, 250.0, 48.15, 65.85, 164.75, 75.0, 45.0, 187.5, 174.75, 59.849999999999994, 749.75, 849.75, 162.25, 69.75, 58.349999999999994, 187.5, 45.0, 88.5, 199.75, 999.75, 67.5, 217.5, 168.75, 75.0, 174.75, 249.75, 224.75, 175.0, 52.35, 35.0, 199.75, 61.65, 275.0, 174.75, 73.64999999999999, 374.75, 337.5, 250.0, 337.5, 337.5, 44.85, 349.75, 89.85, 447.5, 90.0, 274.75, 74.85, 74.85, 656.25, 28.349999999999998, 90.0, 399.75, 174.75, 225.0, 174.75, 199.75, 399.75, 249.75, 312.25, 75.0, 35.0, 56.25, 624.75, 449.75, 659.0, 724.75, 324.75, 71.85, 35.0, 449.75, 199.75, 68.85, 82.5, 349.75, 849.75, 40.35, 65.85, 156.25, 59.849999999999994, 35.0, 66.6, 360.0, 71.25, 287.5, 63.75, 175.0, 187.5, 224.75, 449.75, 449.75, 695.0, 45.0, 35.0, 68.25, 324.75, 374.75, 1246.0, 1249.75, 1249.75, 922.5, 449.75, 624.75, 474.75, 324.75, 424.75, 44.85, 878.75, 324.75, 187.5, 1249.75, 324.75, 1242.5, 324.75, 1249.75, 43.199999999999996, 449.75, 45.0, 324.75, 374.75, 374.75, 499.75, 163.75, 619.5, 324.75, 212.5, 76.64999999999999, 75.0, 221.25, 60.0, 74.85, 85.35, 450.0, 71.25, 68.85, 337.5, 212.5, 162.5, 69.0, 45.0, 37.5, 86.85, 324.75, 86.25, 60.0, 82.35, 89.85, 352.75, 56.25, 36.0, 374.75, 328.25, 449.75, 399.75, 424.75, 182.5, 424.75, 424.75, 77.25, 424.75, 374.75, 624.75, 424.75, 849.75, 424.75, 89.85, 424.75, 41.25, 324.75, 510.25, 89.85, 71.25, 2400.0, 78.75, 449.75, 347.5, 174.75, 27.0, 67.5, 26.0, 77.25, 255.0, 34.0, 35.0, 37.5, 75.0, 424.75, 324.75, 324.75, 624.75, 59.849999999999994, 324.75, 424.75, 424.75, 374.75, 59.849999999999994, 624.75, 36.0, 424.75, 624.75, 424.75, 156.25, 424.75, 424.75, 43.5, 424.75, 424.75, 424.75, 50.85, 82.35, 424.75, 424.75, 270.0, 424.75, 449.75, 230.0, 249.75, 74.25, 89.85, 212.25, 187.5, 237.25, 89.85, 250.0, 249.75, 35.85, 217.25, 187.5, 400.0, 90.0, 89.85, 46.8, 174.75, 56.25, 199.75, 199.75, 60.0, 199.75, 324.75, 849.75, 46.35, 199.75, 76.5, 249.75, 849.75, 41.25, 90.0, 59.849999999999994, 362.5, 374.75, 63.0, 67.5, 272.5, 45.0, 37.5, 223.75, 774.75, 74.85, 59.849999999999994, 71.25, 66.0, 418.75, 162.5, 325.0, 32.0, 35.0, 22.349999999999998, 75.0, 75.0, 299.75, 65.85, 89.85, 74.85, 24.75, 30.0, 249.75, 22.5, 65.85, 237.25, 29.849999999999998, 369.75, 362.25, 89.85, 86.85, 199.75, 249.75, 90.0, 64.5, 3125.0, 187.5, 849.75, 374.75, 74.85, 449.75, 33.6, 89.85, 449.75, 35.0, 217.25, 72.0, 249.75, 400.0, 621.75, 52.35, 205.0, 89.85, 16.5, 23.849999999999998, 59.849999999999994, 44.4, 88.2, 330.75, 44.85, 371.25, 218.0, 402.0, 350.0, 29.849999999999998, 23.849999999999998, 199.75, 174.75, 383.75, 219.75, 23.849999999999998, 44.85, 23.849999999999998, 213.5, 199.75, 41.85, 88.2, 52.35, 33.75, 40.35, 411.5, 23.849999999999998, 58.349999999999994, 27.0, 47.85, 152.5, 23.849999999999998, 74.85, 181.0, 156.0, 208.5, 174.75, 209.75, 54.0, 52.35, 156.0, 74.85, 211.75, 299.75, 23.849999999999998, 249.75, 657.0, 299.75, 74.85, 23.849999999999998, 37.35, 23.849999999999998, 52.35, 47.85, 29.849999999999998, 23.849999999999998, 88.2, 224.25, 585.0, 71.85, 52.35, 44.25, 208.5, 400.0, 221.0, 427.5, 47.85, 67.35, 63.75, 23.849999999999998, 47.85, 71.85, 23.849999999999998, 47.85, 41.85, 526.5, 40.35, 22.349999999999998, 23.849999999999998, 23.849999999999998, 40.35, 389.25, 44.85, 274.75, 31.5, 159.75, 33.75, 237.25, 30.0, 350.5, 44.85, 350.5, 72.0, 350.5, 154.0, 248.75, 350.5, 199.75, 52.35, 26.849999999999998, 74.85, 350.5, 82.5, 62.849999999999994, 52.35, 524.75, 74.85, 224.75, 82.5, 350.5, 350.5, 350.5, 37.35, 249.75, 350.5, 219.75, 74.85, 89.85, 350.5, 22.349999999999998, 287.25, 324.75, 249.75, 350.5, 350.5, 60.0, 53.85, 189.75, 199.75, 52.35, 74.85, 71.85, 88.2, 872.5, 350.5, 44.85, 350.5, 274.75, 67.35, 71.1, 437.25, 44.25, 85.35, 421.75, 274.75, 21.75, 224.75, 33.75, 349.75, 229.0, 374.75, 374.75, 512.5, 1051.5, 249.75, 374.75, 77.25, 839.0, 43.35, 81.0, 89.85, 67.5, 54.0, 162.25, 89.85, 74.85, 1123.75, 37.35, 21.75, 43.35, 40.35, 43.35, 181.25, 172.5, 44.85, 59.25, 89.85, 28.5, 297.5, 187.25, 29.7, 74.85, 77.25, 31.5, 52.35, 73.35, 31.5, 33.3, 75.0, 67.35, 162.25, 52.35, 356.0, 37.35, 162.25, 37.35, 37.35, 37.35, 37.35, 29.849999999999998, 29.849999999999998, 37.35, 37.35, 52.35, 37.35, 29.849999999999998, 29.849999999999998, 37.35, 29.849999999999998, 29.849999999999998, 37.35, 89.85, 174.75, 174.75, 174.75, 174.75, 174.75, 174.75, 174.75, 174.75, 162.25, 174.75, 174.75, 162.25, 174.75, 162.25, 174.75, 162.25, 162.25, 164.75, 194.75, 212.25, 74.85, 74.85, 37.35, 89.85, 189.75, 162.25, 189.75, 189.75, 89.85, 89.85, 448.75, 624.75, 34.35, 316.75, 59.849999999999994, 187.5, 55.35, 52.35, 424.75, 74.85, 55.35, 887.25, 656.25, 52.35, 42.75, 67.5, 87.0, 67.35, 314.0, 406.5, 249.75, 163.75, 249.75, 249.75, 168.5, 249.75, 249.75, 67.5, 249.75, 249.75, 44.25, 52.35, 4499.75, 41.25, 6249.75, 18.0, 60.0, 173.75, 35.0, 4499.75, 1371.5, 11201.0, 9143.75, 66.6, 224.75, 34.0, 89.85, 87.89999999999999, 697.5, 159.75, 73.5, 170.75, 198.75, 473.75, 89.85, 198.75, 30.0, 173.75, 26.25, 89.7, 302.25, 173.75, 173.75, 27.0, 186.25, 44.85, 30.0, 37.35, 59.849999999999994, 67.35, 38.25, 54.75, 73.5, 60.75, 58.5, 26.849999999999998, 74.85, 74.85, 324.75, 299.75, 187.25, 73.5, 18.0, 52.35, 37.199999999999996, 61.5, 67.35, 58.349999999999994, 399.75, 28.5, 67.35, 29.4, 75.0, 74.85, 50.25, 32.85, 60.75, 37.35, 29.849999999999998, 63.0, 44.85, 89.85, 41.25, 29.849999999999998, 63.75, 174.5, 57.75, 26.0, 37.35, 63.0, 37.35, 36.449999999999996, 29.25, 59.849999999999994, 44.85, 37.35, 48.75, 174.75, 174.75, 52.35, 67.35, 59.849999999999994, 41.85, 41.85, 41.85, 25.349999999999998, 25.349999999999998, 74.85, 172.5, 187.25, 37.35, 228.0, 59.849999999999994, 74.85, 249.75, 299.0, 26.099999999999998, 237.25, 59.849999999999994, 749.75, 251.75, 37.35, 224.75, 82.35, 37.35, 58.5, 25.349999999999998, 187.5, 187.5, 251.75, 25.349999999999998, 53.699999999999996, 53.699999999999996, 53.699999999999996, 37.35, 299.0, 82.35, 174.75, 74.85, 275.25, 275.25, 53.699999999999996, 224.75, 174.75, 53.699999999999996, 224.75, 425.0, 224.75, 53.699999999999996, 53.699999999999996, 251.75, 53.699999999999996, 53.699999999999996, 325.0, 251.75, 60.0, 199.75, 251.75, 53.699999999999996, 322.5, 275.25, 53.699999999999996, 53.699999999999996, 251.75, 53.699999999999996, 53.699999999999996, 53.699999999999996, 228.0, 53.699999999999996, 251.75, 187.25, 186.25, 224.75, 251.75, 44.25, 249.75, 275.25, 53.699999999999996, 251.75, 53.699999999999996, 35.85, 251.75, 251.75, 474.75, 53.699999999999996, 249.75, 53.699999999999996, 251.75, 53.699999999999996, 53.699999999999996, 275.25, 425.0, 224.75, 249.75, 53.699999999999996, 275.25, 53.699999999999996, 349.75, 287.25, 287.25, 239.75, 291.5, 274.75, 270.0, 82.35, 198.75, 174.75, 274.75, 77.85, 37.35, 58.349999999999994, 35.85, 58.349999999999994, 37.35, 246.0, 299.75, 44.85, 58.349999999999994, 246.0, 21.75, 246.0, 57.449999999999996, 1050.0, 74.25, 68.25, 74.85, 67.35, 249.75, 28.349999999999998, 37.35, 357.75, 68.25, 249.75, 74.85, 44.85, 29.849999999999998, 44.85, 249.75, 276.0, 71.1, 449.75, 763.75, 57.449999999999996, 187.25, 32.0, 74.85, 169.0, 58.349999999999994, 60.0, 795.25, 203.75, 74.85, 74.85, 89.85, 56.699999999999996, 52.35, 74.85, 203.75, 262.25, 594.0, 58.5, 79.5, 80.85, 162.25, 34.35, 75.0, 223.75, 181.25, 303.0, 58.349999999999994, 60.0, 165.0, 74.85, 29.849999999999998, 67.5, 45.0, 88.35, 89.85, 74.85, 75.0, 60.0, 59.849999999999994, 29.849999999999998, 44.85, 222.5, 44.25, 89.25, 312.5, 66.0, 303.0, 75.0, 303.0, 303.0, 59.55, 78.0, 303.0, 58.349999999999994, 54.0, 303.0, 77.25, 78.0, 303.0, 32.0, 303.0, 44.25, 37.35, 174.75, 181.25, 59.25, 44.25, 303.0, 34.35, 174.75, 39.75, 165.0, 89.85, 174.75, 54.0, 57.3, 49.35, 34.5, 205.0, 1222.5, 52.35, 31.049999999999997, 18.9, 622.5, 45.9, 205.0, 44.85, 28.0, 254.75, 187.5, 37.35, 169.75, 617.5, 193.75, 224.75, 224.75, 375.0, 450.0, 32.0, 37.35, 74.85, 212.25, 375.0, 375.0, 212.25, 174.75, 500.0, 269.0, 425.0, 224.75, 375.0, 74.85, 375.0, 212.25, 420.0, 50.85, 335.0, 375.0, 59.849999999999994, 650.0, 224.75, 375.0, 261.25, 50.85, 375.0, 199.75, 89.85, 425.0, 375.0, 67.35, 74.85, 212.5, 1874.75, 82.5, 72.75, 295.25, 309.0, 214.0, 70.35, 82.35, 68.25, 174.75, 82.35, 1100.25, 174.75, 40.35, 174.75, 57.0, 38.25, 174.75, 17.25, 17.25, 45.0, 17.25, 17.25, 874.75, 224.75, 44.85, 29.849999999999998, 25.349999999999998, 424.75, 52.35, 35.0, 206.25, 408.75, 67.5, 487.5, 174.75, 364.5, 82.5, 25.349999999999998, 77.25, 70.8, 379.75, 61.5, 45.0, 81.45, 52.35, 267.25, 68.85, 315.5, 228.25, 63.75, 22.349999999999998, 1323.75, 22.5, 537.25, 274.75, 60.0, 202.25, 62.25, 637.25, 45.6, 853.75, 59.849999999999994, 218.75, 249.75, 249.75, 237.25, 237.25, 249.75, 237.25, 237.25, 70.64999999999999, 74.85, 36.75, 749.75, 549.75, 74.85, 56.25, 56.25, 274.75, 206.25, 44.85, 249.75, 44.85, 26.849999999999998, 44.85, 89.85, 60.75, 199.75, 68.25, 300.0, 216.75, 44.85, 239.75, 249.75, 44.85, 1274.75, 324.75, 88.5, 44.85, 1774.75, 82.35, 89.85, 206.25, 82.35, 187.25, 1524.75, 61.65, 74.85, 49.35, 299.75, 73.35, 89.25, 1893.5, 299.75, 299.75, 44.85, 38.1, 59.849999999999994, 65.55, 26.849999999999998, 89.1, 587.0, 89.85, 38.1, 67.35, 748.75, 74.85, 89.25, 249.75, 89.55, 82.64999999999999, 33.75, 89.85, 74.85, 168.5, 59.849999999999994, 44.85, 155.0, 28.6, 55.949999999999996, 75.0, 68.25, 33.75, 718.0, 74.85, 82.05, 89.85, 22.349999999999998, 46.35, 83.25, 82.05, 30.0, 45.0, 45.0, 174.75, 162.5, 90.0, 56.25, 45.0, 60.0, 999.75, 48.75, 42.75, 59.849999999999994, 67.5, 174.75, 840.0, 174.75, 224.75, 89.85, 33.0, 73.5, 41.25, 33.75, 82.05, 67.5, 26.25, 22.349999999999998, 75.0, 155.0, 162.5, 75.0, 49.35, 38.85, 82.05, 75.0, 67.35, 249.75, 59.849999999999994, 174.75, 75.0, 72.75, 224.75, 174.75, 46.35, 162.5, 1083.25, 59.849999999999994, 59.55, 82.05, 67.5, 89.25, 59.25, 26.25, 41.25, 1149.75, 46.35, 41.85, 224.75, 175.0, 30.0, 44.85, 390.0, 174.75, 46.35, 67.5, 45.0, 59.849999999999994, 43.199999999999996, 199.75, 1074.75, 46.35, 524.75, 41.25, 73.5, 30.0, 38.85, 67.35, 46.35, 195.0, 30.0, 59.849999999999994, 82.05, 82.35, 82.05, 1125.0, 30.0, 58.5, 44.85, 46.35, 28.6, 33.75, 45.0, 67.5, 90.0, 202.25, 67.35, 187.5, 75.0, 30.0, 44.85, 43.199999999999996, 82.05, 56.25, 59.849999999999994, 45.0, 67.35, 75.0, 202.25, 82.5, 325.0, 67.5, 1125.0, 26.25, 89.85, 82.35, 82.35, 249.5, 67.35, 174.75, 28.0, 57.0, 174.5, 89.1, 262.5, 224.0, 87.75, 224.75, 308.5, 30.0, 162.5, 162.5, 374.75, 199.75, 324.75, 328.75, 272.0, 32.0, 30.0, 400.0, 262.5, 43.5, 89.1, 46.199999999999996, 81.75, 275.0, 29.849999999999998, 159.75, 29.849999999999998, 37.35, 200.0, 37.35, 30.0, 199.75, 89.1, 89.85, 349.75, 89.1, 89.1, 89.1, 89.1, 89.1, 174.75, 199.75, 89.1, 78.6, 174.75, 89.1, 161.0, 70.35, 89.1, 89.1, 89.85, 391.25, 89.1, 65.85, 89.1, 89.1, 174.75, 89.1, 89.1, 276.5, 89.1, 59.849999999999994, 82.35, 277.5, 89.1, 89.1, 59.699999999999996, 89.85, 89.1, 89.1, 249.75, 22.5, 174.75, 668.5, 89.1, 89.1, 37.35, 74.85, 59.849999999999994, 74.85, 89.85, 175.0, 89.1, 224.75, 44.85, 89.1, 53.55, 47.1, 84.45, 874.5, 187.5, 47.1, 174.75, 89.85, 47.1, 209.0, 462.25, 408.25, 408.25, 487.25, 412.25, 67.35, 84.45, 59.849999999999994, 78.75, 172.25, 59.849999999999994, 59.849999999999994, 67.35, 59.849999999999994, 78.0, 85.2, 177.25, 59.849999999999994, 59.849999999999994, 59.849999999999994, 78.45, 33.6, 44.85, 59.849999999999994, 174.75, 26.200000000000003, 67.35, 74.85, 59.849999999999994, 36.75, 59.849999999999994, 63.599999999999994, 59.849999999999994, 67.35, 59.849999999999994, 59.849999999999994, 41.25, 845.75, 59.849999999999994, 59.849999999999994, 74.85, 43.5, 74.85, 74.85, 50.85, 59.849999999999994, 59.849999999999994, 44.85, 37.35, 59.849999999999994, 59.849999999999994, 52.05, 59.849999999999994, 59.849999999999994, 162.25, 35.0, 47.1, 52.05, 59.849999999999994, 52.05, 37.5, 35.0, 47.1, 37.5, 67.35, 47.1, 74.85, 218.25, 59.849999999999994, 75.14999999999999, 49.35, 74.85, 27.8, 67.35, 44.85, 187.25, 88.35, 74.85, 34.35, 74.85, 74.85, 194.5, 59.849999999999994, 174.75, 74.85, 218.25, 37.35, 59.849999999999994, 74.85, 58.5, 74.85, 74.85, 75.6, 52.35, 71.85, 59.849999999999994, 44.85, 59.849999999999994, 43.5, 198.75, 466.25, 41.85, 74.85, 59.849999999999994, 44.85, 59.849999999999994, 222.5, 60.0, 78.45, 71.1, 32.4, 59.849999999999994, 87.0, 74.85, 44.85, 59.849999999999994, 33.6, 59.849999999999994, 59.849999999999994, 37.35, 622.5, 59.849999999999994, 75.0, 199.75, 55.5, 45.0, 218.25, 37.5, 73.5, 262.0, 67.35, 32.0, 210.0, 573.75, 44.85, 218.25, 32.0, 34.949999999999996, 27.8, 37.5, 37.5, 52.35, 34.0, 599.75, 67.64999999999999, 37.5, 71.85, 67.5, 27.8, 44.85, 44.85, 682.0, 43.5, 37.35, 218.25, 35.25, 27.8, 59.849999999999994, 564.25, 218.25, 67.35, 218.25, 31.349999999999998, 218.25, 42.75, 35.0, 374.75, 194.5, 37.5, 54.75, 194.5, 280.75, 187.25, 37.35, 44.85, 52.35, 38.85, 38.85, 27.8, 183.75, 44.85, 27.8, 162.25, 75.0, 262.0, 71.85, 34.35, 194.5, 73.5, 66.6, 262.0, 319.0, 207.25, 25.5, 262.0, 67.35, 162.25, 35.0, 59.849999999999994, 29.849999999999998, 27.8, 262.0, 44.85, 49.35, 28.400000000000002, 174.75, 36.3, 71.85, 499.5, 62.849999999999994, 27.400000000000002, 155.75, 155.75, 42.75, 37.949999999999996, 65.55, 88.35, 67.35, 33.0, 58.5, 63.9, 44.85, 67.5, 42.75, 33.0, 325.0, 68.25, 63.0, 325.0, 60.0, 33.0, 247.5, 73.05, 425.25, 49.35, 62.849999999999994, 32.800000000000004, 42.75, 59.849999999999994, 26.849999999999998, 54.0, 49.35, 90.0, 44.85, 219.5, 42.75, 32.800000000000004, 42.75, 219.5, 44.25, 387.25, 450.0, 224.5, 437.25, 449.75, 437.25, 449.75, 437.25, 437.25, 387.25, 387.25, 437.25, 449.75, 60.3, 437.25, 437.25, 69.0, 474.25, 192.0, 224.75, 74.85, 57.0, 44.85, 44.85, 44.55, 275.0, 212.25, 712.5, 200.0, 77.55, 59.849999999999994, 74.85, 67.35, 54.0, 59.849999999999994, 29.849999999999998, 59.849999999999994, 35.0, 45.0, 59.849999999999994, 59.849999999999994, 59.849999999999994, 35.0, 66.75, 74.25, 59.849999999999994, 74.85, 74.25, 41.25, 74.25, 58.05, 67.5, 67.35, 59.849999999999994, 74.85, 71.85, 69.75, 74.85, 74.85, 74.85, 67.35, 65.85, 45.0, 59.849999999999994, 59.849999999999994, 74.85, 59.849999999999994, 67.5, 74.85, 56.1, 59.849999999999994, 67.35, 59.849999999999994, 74.85, 44.55, 45.0, 63.75, 74.85, 74.85, 74.85, 67.35, 32.4, 67.35, 74.25, 69.75, 52.35, 74.85, 47.699999999999996, 59.849999999999994, 74.85, 74.85, 60.599999999999994, 67.35, 59.849999999999994, 60.599999999999994, 59.849999999999994, 59.849999999999994, 62.849999999999994, 74.85, 74.25, 29.849999999999998, 44.85, 59.55, 52.35, 59.849999999999994, 56.1, 56.1, 74.85, 52.35, 44.85, 59.849999999999994, 74.85, 44.85, 63.75, 59.849999999999994, 69.75, 44.85, 74.85, 59.849999999999994, 44.85, 74.85, 67.35, 36.0, 74.85, 71.85, 52.35, 74.55, 45.6, 74.85, 59.849999999999994, 67.35, 74.85, 65.85, 74.85, 59.849999999999994, 74.85, 67.35, 71.85, 58.199999999999996, 44.55, 44.85, 74.85, 30.299999999999997, 74.7, 52.05, 74.85, 74.85, 67.35, 32.4, 74.85, 74.85, 74.85, 59.849999999999994, 74.85, 74.85, 59.849999999999994, 37.05, 34.800000000000004, 52.35, 224.75, 52.35, 66.75, 74.85, 74.85, 72.3, 35.0, 74.85, 59.849999999999994, 71.25, 56.25, 74.85, 60.599999999999994, 74.25, 59.849999999999994, 44.85, 74.85, 45.0, 74.85, 74.85, 58.199999999999996, 58.05, 57.3, 59.849999999999994, 67.5, 67.35, 44.55, 71.1, 35.0, 67.35, 37.8, 69.75, 71.25, 74.85, 59.849999999999994, 44.55, 67.35, 71.25, 53.85, 70.05, 67.35, 70.5, 32.4, 60.599999999999994, 37.5, 74.85, 52.35, 67.35, 73.5, 74.85, 53.85, 59.55, 56.85, 74.85, 59.849999999999994, 67.35, 71.1, 59.849999999999994, 74.85, 44.55, 56.1, 74.85, 74.85, 67.5, 74.85, 55.5, 71.25, 59.849999999999994, 71.85, 59.849999999999994, 30.0, 74.85, 74.85, 59.849999999999994, 74.85, 52.35, 74.85, 47.699999999999996, 71.1, 71.25, 74.85, 67.05, 67.35, 67.35, 73.5, 44.85, 67.35, 59.55, 44.55, 67.95, 74.85, 30.0, 74.85, 71.7, 74.55, 59.849999999999994, 59.849999999999994, 74.85, 74.85, 34.6, 74.85, 54.0, 67.35, 59.849999999999994, 59.849999999999994, 59.849999999999994, 72.75, 52.35, 74.85, 59.849999999999994, 44.55, 74.85, 70.5, 65.85, 56.85, 74.85, 59.55, 45.6, 30.0, 52.35, 59.849999999999994, 71.1, 74.85, 74.85, 44.55, 63.15, 59.25, 52.35, 74.85, 44.85, 59.849999999999994, 44.55, 74.85, 44.25, 52.35, 67.35, 74.85, 56.25, 52.35, 77.85, 59.849999999999994, 74.85, 30.0, 30.0, 59.849999999999994, 74.85, 69.75, 74.85, 60.599999999999994, 74.85, 74.85, 59.849999999999994, 74.85, 52.05, 74.85, 62.25, 58.05, 35.0, 74.85, 59.849999999999994, 30.0, 74.85, 74.25, 67.35, 56.1, 74.85, 33.75, 56.85, 71.1, 62.849999999999994, 74.85, 74.85, 53.25, 67.35, 60.0, 58.05, 74.85, 74.85, 53.85, 74.85, 60.599999999999994, 59.849999999999994, 32.4, 59.849999999999994, 74.85, 52.35, 63.3, 67.35, 60.599999999999994, 62.849999999999994, 60.75, 74.85, 74.25, 63.15, 44.55, 67.35, 74.25, 74.85, 45.0, 51.449999999999996, 65.85, 74.85, 60.599999999999994, 45.15, 67.35, 62.849999999999994, 53.85, 74.85, 30.0, 35.0, 74.85, 74.85, 71.85, 74.25, 74.85, 59.849999999999994, 74.85, 74.85, 74.85, 71.1, 41.25, 59.849999999999994, 74.85, 53.85, 63.75, 74.85, 56.1, 74.85, 74.85, 30.0, 74.85, 32.4, 56.85, 44.55, 74.85, 67.5, 59.849999999999994, 35.0, 74.85, 59.849999999999994, 67.2, 60.599999999999994, 59.849999999999994, 59.849999999999994, 74.85, 25.6, 74.85, 44.85, 32.4, 65.85, 69.75, 74.85, 57.0, 60.599999999999994, 73.5, 58.05, 49.05, 74.85, 37.05, 52.35, 73.5, 60.599999999999994, 71.1, 59.849999999999994, 59.849999999999994, 60.599999999999994, 59.849999999999994, 71.85, 74.85, 74.85, 74.85, 74.85, 60.0, 41.25, 71.1, 53.85, 59.849999999999994, 74.85, 59.849999999999994, 67.35, 45.0, 53.25, 74.55, 59.849999999999994, 74.55, 44.55, 67.5, 74.85, 157.25, 67.5, 56.85, 59.849999999999994, 67.35, 41.25, 64.5, 30.0, 74.85, 67.05, 74.85, 73.05, 74.85, 59.55, 74.85, 73.5, 59.849999999999994, 60.0, 74.85, 56.1, 63.75, 67.35, 59.849999999999994, 70.5, 59.849999999999994, 59.849999999999994, 59.849999999999994, 67.35, 28.5, 59.849999999999994, 47.4, 44.55, 67.95, 33.6, 35.0, 749.75, 44.25, 637.25, 637.25, 67.35, 637.25, 1150.0, 749.75, 637.25, 637.25, 424.75, 324.75, 421.25, 374.75, 173.0, 421.25, 421.25, 421.25, 421.25, 374.75, 312.5, 421.25, 252.5, 374.75, 374.75, 425.0, 199.75, 421.25, 324.75, 500.0, 473.75, 424.75, 421.25, 424.75, 374.75, 421.25, 424.75, 374.75, 374.75, 421.25, 421.25, 209.5, 374.75, 262.25, 500.0, 500.0, 421.25, 421.25, 374.75, 421.25, 421.25, 299.75, 424.75, 374.75, 424.75, 374.75, 44.85, 374.75, 424.75, 421.25, 421.25, 199.75, 29.849999999999998, 500.0, 408.0, 421.25, 374.75, 497.5, 421.25, 421.25, 424.75, 374.75, 374.75, 312.5, 421.25, 421.25, 300.0, 421.25, 421.25, 254.75, 374.75, 421.25, 300.0, 421.25, 374.75, 421.25, 299.75, 421.25, 374.75, 27.0, 421.25, 421.25, 424.75, 162.25, 374.75, 350.0, 421.25, 324.75, 421.25, 424.75, 375.0, 424.75, 421.25, 421.25, 262.25, 374.75, 374.75, 499.75, 374.75, 174.75, 350.0, 421.25, 421.25, 324.75, 424.75, 500.0, 421.25, 421.25, 169.25, 421.25, 421.25, 421.25, 421.25, 500.0, 424.75, 252.5, 421.25, 274.75, 374.75, 421.25, 187.25, 499.75, 374.75, 421.25, 421.25, 421.25, 274.75, 421.25, 421.25, 421.25, 300.0, 374.75, 421.25, 424.75, 262.25, 89.85, 421.25, 421.25, 421.25, 421.25, 421.25, 324.75, 274.75, 29.849999999999998, 424.75, 424.75, 421.25, 421.25, 421.25, 421.25, 421.25, 421.25, 421.25, 374.75, 437.25, 199.75, 424.75, 421.25, 421.25, 374.75, 374.75, 325.0, 421.25, 421.25, 421.25, 324.75, 75.14999999999999, 449.75, 424.75, 421.25, 89.85, 300.0, 252.5, 421.25, 424.75, 299.75, 374.75, 421.25, 421.25, 299.75, 421.25, 324.75, 374.75, 421.25, 421.25, 421.25, 421.25, 421.25, 374.75, 421.25, 421.25, 299.75, 374.75, 421.25, 227.5, 374.75, 421.25, 421.25, 374.75, 312.5, 41.85, 374.75, 424.75, 421.25, 421.25, 374.75, 421.25, 374.75, 421.25, 387.5, 421.25, 324.75, 421.25, 424.75, 262.25, 421.25, 421.25, 421.25, 473.75, 421.25, 299.75, 253.0, 424.75, 374.75, 374.75, 374.75, 424.75, 421.25, 262.25, 500.0, 374.75, 421.25, 299.75, 421.25, 374.75, 421.25, 424.75, 421.25, 421.25, 374.75, 421.25, 424.75, 424.75, 324.75, 421.25, 374.75, 421.25, 421.25, 500.0, 337.5, 499.75, 421.25, 421.25, 374.75, 421.25, 421.25, 421.25, 374.75, 421.25, 421.25, 174.75, 421.25, 421.25, 421.25, 424.75, 424.75, 500.0, 424.75, 421.25, 421.25, 249.75, 421.25, 421.25, 421.25, 421.25, 424.75, 29.849999999999998, 374.75, 274.75, 424.75, 374.75, 473.75, 200.0, 421.25, 342.25, 424.75, 374.75, 374.75, 424.75, 374.75, 374.75, 421.25, 374.75, 421.25, 424.75, 421.25, 421.25, 408.0, 421.25, 274.75, 421.25, 421.25, 421.25, 421.25, 421.25, 174.75, 421.25, 374.75, 424.75, 421.25, 337.5, 374.75, 421.25, 424.75, 424.75, 421.25, 374.75, 421.25, 421.25, 421.25, 424.75, 421.25, 421.25, 421.25, 82.35, 262.25, 374.75, 424.75, 374.75, 421.25, 424.75, 421.25, 86.85, 421.25, 872.5, 74.85, 224.75, 52.35, 182.25, 44.85, 28.349999999999998, 474.75, 59.849999999999994, 699.75, 44.85, 474.75, 44.85, 50.55, 543.75, 224.75, 249.75, 32.0, 44.85, 32.0, 59.849999999999994, 59.849999999999994, 74.85, 48.75, 56.25, 23.849999999999998, 32.85, 82.35, 25.5, 29.849999999999998, 212.25, 56.25, 805.0, 945.0, 975.0, 299.75, 77.85, 29.849999999999998, 52.35, 37.35, 374.75, 299.75, 52.35, 274.75, 52.35, 274.75, 77.85, 274.75, 399.75, 52.35, 62.25, 374.75, 399.75, 399.75, 89.1, 399.75, 199.75, 77.85, 374.75, 69.0, 174.5, 399.75, 52.35, 399.75, 349.75, 75.0, 1137.5, 274.75, 623.75, 449.75, 37.35, 65.85, 67.35, 67.35, 66.6, 67.35, 22.349999999999998, 474.75, 244.75, 243.5, 588.0, 59.849999999999994, 67.5, 90.0, 59.849999999999994, 44.85, 44.85, 168.75, 34.5, 66.75, 89.85, 224.75, 44.85, 159.25, 199.75, 454.75, 524.75, 574.75, 384.75, 549.75, 574.75, 22.349999999999998, 249.5, 271.75, 337.5, 549.75, 211.25, 183.75, 211.25, 183.75, 183.75, 194.75, 194.75, 52.35, 89.85, 186.25, 1324.75, 240.0, 45.75, 1324.75, 45.75, 974.75, 974.75, 74.25, 974.75, 1324.75, 45.75, 45.75, 1324.75, 46.5, 1324.75, 74.25, 74.25, 43.5, 79.35, 46.5, 45.75, 44.85, 79.35, 245.0, 82.5, 174.75, 574.75, 524.75, 89.85, 178.0, 34.0, 16.5, 23.099999999999998, 74.85, 224.75, 59.849999999999994, 26.25, 23.099999999999998, 87.75, 74.85, 59.849999999999994, 22.349999999999998, 22.349999999999998, 66.0, 29.849999999999998, 89.7, 89.7, 1649.75, 63.75, 227.25, 71.25, 71.25, 67.35, 497.5, 75.0, 60.0, 227.25, 1324.75, 1324.75, 1324.75, 224.75, 89.85, 224.75, 224.75, 224.75, 375.25, 1324.75, 224.75, 1324.75, 174.75, 237.25, 224.75, 237.25, 174.75, 224.75, 237.25, 237.25, 174.75, 174.75, 248.75, 248.75, 174.75, 240.0, 174.75, 273.75, 240.0, 160.0, 72.0, 174.75, 240.0, 237.25, 174.75, 180.0, 89.85, 174.75, 89.85, 27.0, 174.75, 22.349999999999998, 174.75, 37.5, 40.35, 33.0, 44.85, 74.85, 37.35, 224.75, 224.75, 21.75, 18.0, 174.75, 37.35, 423.75, 37.35, 27.0, 44.85, 29.849999999999998, 59.849999999999994, 19.349999999999998, 44.85, 74.85, 163.75, 44.85, 44.25, 29.849999999999998, 74.7, 51.75, 324.75, 1649.75, 173.75, 248.75, 180.0, 162.25, 243.5, 187.25, 222.5, 170.0, 399.75, 1649.75, 649.75, 1649.75, 2249.75, 169.25, 27.0, 497.5, 622.5, 29.25, 29.25, 274.75, 29.25, 279.75, 19.349999999999998, 28.349999999999998, 174.75, 337.25, 162.5, 324.75, 359.75, 539.75, 314.75, 624.75, 631.25, 393.75, 279.75, 219.75, 789.0, 399.75, 74.85, 162.25, 624.75, 349.75, 82.35, 248.75, 74.85, 248.75, 324.75, 212.5, 162.25, 299.75, 44.85, 349.75, 339.75, 44.85, 362.5, 349.75, 214.5, 1750.0, 77.85, 281.0, 85.05, 192.0, 261.5, 29.849999999999998, 26.0, 89.85, 26.0, 222.0, 26.0, 26.0, 549.75, 26.0, 26.0, 212.25, 162.25, 50.85, 162.25, 304.5, 549.75, 74.85, 67.35, 74.7, 41.85, 59.849999999999994, 187.0, 199.75, 50.85, 174.75, 59.849999999999994, 199.75, 274.75, 46.35, 27.0, 24.75, 187.5, 404.0, 404.0, 35.0, 324.75, 56.25, 79.5, 46.35, 499.75, 32.800000000000004, 269.5, 324.75, 259.5, 287.5, 46.35, 181.25, 174.75, 412.25, 41.55, 1225.0, 356.25, 174.75, 59.849999999999994, 249.75, 74.85, 274.75, 1000.0, 274.75, 199.75, 59.849999999999994, 56.1, 27.0, 25.95, 249.75, 67.5, 212.5, 306.25, 562.5, 36.0, 199.75, 410.5, 55.199999999999996, 596.25, 44.85, 224.75, 684.0, 275.0, 44.25, 750.0, 177.5, 163.25, 211.5, 274.75, 249.75, 199.75, 74.85, 274.75, 199.75, 174.75, 74.85, 59.849999999999994, 78.75, 181.25, 224.75, 24.75, 224.75, 44.25, 699.75, 249.75, 89.85, 59.849999999999994, 59.849999999999994, 274.75, 199.75, 224.75, 574.75, 499.75, 474.75, 449.75, 624.75, 499.75, 35.85, 35.85, 35.85, 32.800000000000004, 22.349999999999998, 22.349999999999998, 38.85, 44.85, 27.0, 243.75, 74.85, 635.0, 77.85, 474.5, 25.349999999999998, 72.0, 67.35, 562.5, 261.25, 29.25, 174.75, 25.95, 374.75, 181.25, 89.7, 54.0, 372.5, 58.5, 22.349999999999998, 350.0, 51.449999999999996, 29.849999999999998, 18.75, 67.35, 29.849999999999998, 473.75, 89.85, 227.5, 89.85, 89.85, 49.35, 32.800000000000004, 73.35, 34.199999999999996, 64.95, 32.800000000000004, 75.89999999999999, 17.849999999999998, 27.0, 212.5, 343.75, 22.349999999999998, 272.5, 449.75, 89.85, 162.25, 44.85, 249.75, 34.199999999999996, 368.75, 67.35, 33.0, 17.849999999999998, 274.75, 274.75, 37.35, 82.35, 29.25, 22.349999999999998, 22.349999999999998, 28.349999999999998, 32.85, 300.0, 67.35, 67.35, 37.35, 174.75, 34.35, 749.75, 997.5, 199.75, 37.35, 29.849999999999998, 212.25, 237.25, 237.25, 34.35, 29.849999999999998, 76.35, 38.85, 162.25, 24.9, 372.5, 89.85, 37.35, 1975.0, 73.35, 20.7, 17.25, 37.35, 497.5, 37.199999999999996, 22.349999999999998, 89.85, 44.85, 63.75, 450.0, 74.85, 37.35, 34.35, 1375.0, 22.349999999999998, 89.85, 174.75, 388.75, 38.85, 74.85, 37.35, 82.35, 22.349999999999998, 28.5, 19.349999999999998, 45.0, 19.349999999999998, 37.5, 37.35, 29.25, 16.5, 38.85, 72.0, 274.75, 37.5, 59.849999999999994, 52.35, 37.35, 29.849999999999998, 74.85, 29.849999999999998, 187.25, 29.849999999999998, 37.5, 44.85, 73.35, 32.85, 22.349999999999998, 25.5, 162.25, 35.0, 199.75, 237.25, 74.85, 37.35, 199.75, 49.35, 22.349999999999998, 76.35, 672.5, 89.85, 37.35, 237.25, 82.35, 28.349999999999998, 174.75, 67.35, 194.75, 212.25, 254.75, 254.75, 194.75, 194.75, 194.75, 194.75, 209.75, 209.75, 1699.75, 1374.75, 2124.75, 1624.75, 1319.75, 1374.75, 3074.75, 1374.75, 1197.25, 1624.75, 2024.75, 387.25, 22.349999999999998, 447.5, 287.5, 447.5, 749.75, 44.85, 996.25, 59.849999999999994, 67.35, 43.05, 29.849999999999998, 89.85, 59.55, 662.25, 65.25, 71.25, 575.0, 63.75, 65.1, 67.35, 199.75, 162.25, 82.35, 690.75, 89.85, 59.849999999999994, 77.85, 77.85, 1499.75, 1524.75, 323.75, 1487.25, 77.85, 375.0, 71.1, 195.0, 33.75, 56.85, 195.0, 212.5, 74.85, 187.0, 71.1, 157.5, 157.5, 157.5, 157.5, 166.0, 687.5, 47.85, 157.5, 165.0, 195.0, 74.85, 56.85, 195.0, 199.75, 71.1, 157.5, 157.5, 71.1, 157.5, 362.25, 74.85, 59.849999999999994, 44.85, 237.5, 247.5, 374.75, 232.25, 314.75, 74.85, 56.1, 56.1, 162.0, 49.35, 32.4, 74.1, 74.85, 59.849999999999994, 52.35, 59.849999999999994, 249.75, 249.75, 74.85, 41.85, 33.0, 74.1, 44.699999999999996, 74.85, 399.75, 67.35, 162.5, 74.85, 474.75, 474.75, 274.75, 196.75, 349.75, 51.75, 165.0, 199.75, 66.75, 74.85, 399.75, 249.75, 249.75, 74.85, 59.849999999999994, 437.5, 74.85, 212.25, 69.75, 210.0, 232.25, 212.25, 49.35, 231.75, 74.85, 87.6, 74.85, 198.75, 419.75, 54.0, 199.75, 199.75, 379.75, 195.0, 368.75, 218.75, 67.35, 74.85, 82.35, 50.25, 67.35, 89.85, 51.75, 359.75, 89.85, 525.0, 249.75, 67.35, 69.75, 89.85, 54.0, 82.35, 349.75, 74.85, 162.25, 157.25, 525.0, 67.35, 69.75, 89.85, 74.85, 54.0, 67.35, 68.25, 224.75, 245.0, 50.25, 379.75, 192.25, 237.5, 49.35, 174.75, 74.85, 59.849999999999994, 379.75, 89.85, 287.25, 67.35, 59.849999999999994, 59.849999999999994, 368.75, 262.25, 499.5, 89.85, 89.85, 89.85, 82.35, 82.35, 89.85, 82.35, 89.85, 89.85, 89.85, 89.85, 89.85, 89.85, 89.85, 89.85, 89.85, 89.85, 89.85, 89.85, 89.85, 89.85, 89.85, 82.35, 82.35, 89.85, 89.85, 223.75, 82.35, 82.35, 89.85, 89.85, 82.35, 82.35, 89.85, 89.85, 89.85, 89.85, 89.85, 89.85, 89.85, 82.35, 89.85, 89.85, 89.85, 89.85, 89.85, 89.85, 89.85, 89.85, 89.85, 89.85, 89.85, 82.35, 89.85, 66.0, 174.75, 89.85, 82.35, 89.85, 82.35, 89.85, 89.85, 89.85, 89.85, 89.85, 89.85, 89.85, 89.85, 89.85, 89.85, 89.85, 89.85, 89.85, 89.85, 82.35, 89.85, 89.85, 89.85, 89.85, 89.85, 89.85, 89.85, 89.85, 89.85, 89.85, 89.85, 89.85, 89.85, 89.85, 82.35, 82.35, 89.85, 89.85, 89.85, 82.35, 82.35, 89.85, 89.85, 89.85, 82.35, 89.85, 89.85, 89.85, 89.85, 89.85, 89.85, 89.85, 89.85, 89.85, 89.85, 89.85, 89.85, 89.85, 89.85, 89.85, 89.85, 89.85, 82.35, 89.85, 89.85, 89.85, 89.85, 89.85, 82.35, 89.85, 89.85, 47.85, 89.85, 89.85, 47.85, 89.85, 89.85, 89.85, 89.85, 89.85, 89.85, 89.85, 89.85, 89.85, 89.85, 89.85, 89.85, 82.35, 89.85, 89.85, 89.85, 89.85, 89.85, 89.85, 64.35, 27.45, 89.85, 89.85, 89.85, 89.85, 89.85, 89.85, 89.85, 89.85, 82.35, 89.85, 89.85, 89.85, 89.85, 82.35, 89.85, 82.35, 89.85, 89.85, 89.85, 89.85, 89.85, 89.85, 89.85, 89.85, 82.35, 89.85, 89.85, 89.85, 89.85, 89.85, 89.85, 89.85, 89.85, 89.85, 89.85, 89.85, 89.85, 89.85, 89.85, 89.85, 89.85, 89.85, 89.85, 89.85, 89.85, 89.85, 89.85, 82.35, 89.85, 89.85, 89.85, 89.85, 89.85, 89.85, 89.85, 89.85, 89.85, 89.85, 89.85, 89.85, 82.35, 89.85, 89.85, 82.35, 82.35, 82.35, 89.85, 89.85, 89.85, 89.85, 89.85, 89.85, 89.85, 89.85, 89.85, 82.35, 89.85, 89.85, 89.85, 89.85, 89.85, 89.85, 89.85, 89.85, 89.85, 89.85, 89.85, 89.85, 89.85, 89.85, 89.85, 89.85, 89.85, 89.85, 89.85, 89.85, 89.85, 89.85, 89.85, 89.85, 89.85, 89.85, 89.85, 89.85, 89.85, 89.85, 89.85, 89.85, 82.35, 89.85, 89.85, 82.35, 89.85, 89.85, 89.85, 82.35, 89.85, 82.35, 82.35, 89.85, 89.85, 89.85, 89.85, 82.35, 89.85, 89.85, 82.35, 89.85, 82.35, 89.85, 89.85, 89.85, 89.85, 89.85, 89.85, 89.85, 82.35, 89.85, 89.85, 89.85, 89.85, 89.85, 89.85, 89.85, 89.85, 89.85, 82.35, 89.85, 82.35, 199.75, 48.75, 162.25, 825.25, 174.75, 64.35, 44.85, 82.35, 82.35, 82.35, 282.0, 35.0, 374.75, 44.85, 41.85, 52.35, 71.25, 67.35, 52.35, 59.25, 55.35, 52.35, 287.25, 89.85, 237.25, 199.75, 213.75, 63.75, 162.5, 68.85, 26.849999999999998, 89.85, 41.25, 40.35, 74.7, 40.35, 162.25, 174.75, 174.75, 40.35, 74.85, 30.0, 40.35, 74.85, 823.75, 299.75, 44.85, 823.75, 33.75, 44.699999999999996, 292.5, 40.35, 187.25, 337.5, 89.85, 174.75, 171.25, 37.35, 474.75, 88.05, 74.85, 59.849999999999994, 67.35, 74.85, 74.85, 59.849999999999994, 59.849999999999994, 159.0, 74.85, 59.699999999999996, 197.0, 31.65, 59.849999999999994, 89.85, 299.75, 74.85, 27.0, 46.5, 299.75, 299.75, 273.75, 475.0, 450.0, 398.75, 224.75, 74.85, 74.85, 59.849999999999994, 36.75, 167.5, 237.25, 29.849999999999998, 52.35, 273.75, 209.75, 59.849999999999994, 51.75, 57.0, 273.75, 74.85, 52.35, 74.85, 73.35, 66.75, 162.5, 167.5, 229.75, 74.7, 74.85, 79.35, 74.85, 568.75, 374.75, 74.85, 74.85, 343.75, 453.5, 318.75, 437.5, 499.75, 36.75, 51.75, 448.75, 474.75, 37.35, 89.55, 749.75, 240.0, 74.85, 63.75, 37.35, 86.7, 36.75, 74.85, 555.5, 67.35, 324.75, 52.35, 44.85, 249.75, 34.5, 29.849999999999998, 47.4, 74.85, 224.75, 200.0, 29.849999999999998, 29.849999999999998, 1124.75, 52.35, 79.35, 63.75, 61.199999999999996, 28.349999999999998, 29.849999999999998, 59.849999999999994, 29.849999999999998, 227.25, 299.75, 33.6, 167.5, 44.85, 421.0, 74.85, 44.85, 59.849999999999994, 199.75, 156.25, 28.5, 209.25, 187.25, 623.75, 59.849999999999994, 187.25, 28.5, 44.85, 274.75, 58.65, 52.35, 248.5, 29.849999999999998, 199.75, 374.75, 52.35, 88.5, 59.849999999999994, 274.75, 37.35, 74.85, 59.849999999999994, 274.75, 78.75, 51.75, 220.0, 167.5, 52.35, 211.25, 44.85, 274.75, 542.25, 673.75, 29.849999999999998, 374.75, 74.85, 404.0, 37.35, 29.849999999999998, 349.75, 179.25, 86.85, 199.75, 44.85, 274.75, 74.85, 57.0, 63.75, 74.85, 29.849999999999998, 324.75, 274.75, 74.85, 274.75, 167.5, 249.75, 489.75, 74.85, 274.75, 52.35, 74.85, 27.200000000000003, 324.75, 227.25, 44.85, 44.85, 74.85, 44.85, 78.75, 37.35, 199.75, 44.85, 186.75, 274.75, 67.35, 29.849999999999998, 44.85, 37.35, 243.5, 187.25, 274.75, 60.3, 57.449999999999996, 374.75, 823.75, 374.75, 202.25, 274.75, 374.75, 74.85, 29.849999999999998, 28.65, 374.75, 71.25, 248.5, 59.849999999999994, 220.0, 29.849999999999998, 187.25, 44.85, 220.0, 45.0, 74.85, 299.75, 6345.0, 37.35, 43.199999999999996, 5610.0, 23.849999999999998, 449.75, 174.5, 1499.75, 1699.75, 1499.75, 45.449999999999996, 57.0, 82.35, 34.800000000000004, 750.0, 52.35, 33.0, 674.75, 199.75, 44.85, 162.5, 74.85, 67.35, 67.35, 836.25, 33.0, 224.75, 24.75, 44.85, 64.5, 37.35, 29.849999999999998, 49.949999999999996, 44.85, 437.25, 625.0, 375.0, 249.75, 26.849999999999998, 67.5, 168.75, 59.849999999999994, 179.75, 59.849999999999994, 174.75, 40.35, 174.75, 80.85, 249.75, 53.1, 224.75, 44.85, 70.05, 249.75, 256.25, 79.64999999999999, 59.849999999999994, 78.6, 41.85, 80.55, 22.349999999999998, 26.849999999999998, 41.25, 174.75, 79.05, 67.35, 167.25, 224.75, 67.35, 67.35, 172.25, 29.849999999999998, 1012.5, 80.85, 575.0, 858.25, 299.75, 225.0, 80.85, 23.849999999999998, 28.349999999999998, 89.85, 175.0, 275.0, 750.0, 249.75, 40.35, 80.85, 44.85, 89.1, 37.5, 299.75, 29.849999999999998, 62.25, 44.85, 40.35, 37.5, 23.849999999999998, 40.35, 33.0, 250.0, 499.75, 22.5, 81.0, 26.849999999999998, 224.75, 299.75, 40.35, 550.0, 449.75, 174.75, 44.699999999999996, 170.5, 28.349999999999998, 23.849999999999998, 299.75, 39.75, 47.85, 23.849999999999998, 212.5, 45.0, 74.85, 80.85, 749.75, 174.75, 19.349999999999998, 44.699999999999996, 350.0, 52.35, 299.75, 549.75, 312.5, 19.349999999999998, 35.0, 23.849999999999998, 48.75, 185.0, 23.849999999999998, 23.849999999999998, 249.75, 44.55, 1499.75, 80.85, 23.849999999999998, 275.0, 37.35, 40.35, 249.75, 215.0, 23.849999999999998, 224.75, 194.75, 199.75, 249.75, 200.0, 35.0, 236.25, 46.5, 23.849999999999998, 34.35, 725.0, 80.85, 174.75, 47.699999999999996, 89.85, 22.349999999999998, 212.25, 300.0, 275.0, 28.349999999999998, 36.0, 74.85, 399.75, 89.85, 44.85, 44.85, 174.75, 33.75, 36.75, 174.75, 212.25, 74.85, 249.75, 174.75, 74.85, 74.85, 74.85, 90.0, 35.25, 206.25, 35.85, 74.85, 50.85, 41.25, 71.85, 43.5, 224.75, 89.85, 59.849999999999994, 174.75, 74.85, 35.85, 74.85, 374.75, 35.0, 437.5, 74.39999999999999, 504.0, 224.75, 224.75, 224.75, 82.5, 60.9, 35.0, 37.5, 60.0, 75.0, 195.0, 371.25, 552.25, 80.85, 169.75, 224.75, 1072.5, 57.0, 423.75, 198.75, 63.75, 173.75, 29.849999999999998, 423.75, 161.75, 30.0, 74.85, 30.0, 30.0, 423.75, 67.5, 89.85, 30.0, 34.5, 199.75, 26.8, 34.5, 35.0, 34.5, 423.75, 35.0, 423.75, 274.75, 34.5, 173.75, 423.75, 56.25, 26.0, 85.35, 224.75, 198.75, 32.0, 162.25, 42.75, 57.0, 30.0, 82.35, 67.2, 35.25, 199.75, 67.2, 70.35, 89.85, 222.5, 47.85, 224.75, 47.85, 22.349999999999998, 25.349999999999998, 67.2, 399.75, 193.75, 49.35, 67.2, 223.75, 80.85, 223.75, 24.599999999999998, 59.849999999999994, 67.2, 59.849999999999994, 72.75, 223.75, 400.0, 178.5, 308.5, 199.75, 74.7, 67.2, 2180.0, 48.75, 775.0, 29.849999999999998, 74.85, 262.5, 1150.0, 38.85, 1025.0, 248.75, 44.85, 3450.0, 48.75, 262.5, 424.75, 48.75, 499.75, 80.1, 67.2, 1624.75, 48.75, 48.75, 5445.0, 262.5, 48.75, 74.85, 65.85, 48.75, 48.75, 84.0, 33.0, 48.75, 179.75, 67.2, 48.75, 44.85, 48.75, 760.0, 1849.75, 760.0, 44.85, 48.75, 262.5, 262.5, 44.85, 499.75, 48.75, 48.75, 262.5, 6377.5, 45.0, 48.75, 48.75, 48.75, 5445.0, 199.75, 175.0, 1849.75, 48.75, 362.25, 331.25, 299.75, 1055.0, 174.75, 760.0, 29.849999999999998, 6377.5, 174.75, 44.85, 262.5, 775.0, 89.85, 262.5, 67.2, 67.2, 1445.0, 33.75, 262.5, 38.85, 44.85, 262.5, 6377.5, 33.0, 44.85, 48.75, 1055.0, 499.75, 262.5, 2180.0, 1849.75, 262.5, 490.0, 299.75, 1453.5, 347.5, 298.75, 298.75, 52.35, 381.25, 360.0, 998.75, 275.0, 275.0, 59.849999999999994, 299.75, 360.0, 47.85, 299.75, 275.0, 35.25, 237.25, 67.8, 480.25, 224.75, 174.75, 74.85, 202.25, 179.75, 82.35, 81.0, 59.849999999999994, 74.85, 174.75, 1012.25, 58.5, 47.85, 47.85, 80.85, 382.25, 224.75, 37.35, 174.75, 174.75, 28.349999999999998, 67.35, 59.849999999999994, 55.65, 59.849999999999994, 82.5, 374.75, 40.35, 186.25, 209.75, 349.75, 22.5, 52.35, 52.35, 174.75, 45.0, 67.5, 45.0, 52.35, 59.849999999999994, 174.75, 52.35, 52.35, 349.75, 174.75, 22.5, 174.75, 45.0, 45.0, 74.85, 89.85, 67.35, 59.849999999999994, 22.5, 89.85, 52.35, 34.0, 89.85, 40.35, 40.35, 89.85, 427.0, 199.75, 786.25, 40.35, 74.85, 67.2, 4041.5, 89.85, 67.2, 4006.75, 55.35, 67.2, 67.2, 55.35, 74.85, 89.85, 55.35, 3553.0, 55.35, 5143.75, 67.2, 1268.0, 3656.0, 2917.0, 55.35, 9258.5, 55.35, 89.85, 74.25, 74.25, 191.25, 59.849999999999994, 89.85, 249.75, 287.0, 177.0, 89.85, 160.0, 216.25, 89.85, 174.75, 216.25, 219.75, 85.35, 29.849999999999998, 67.35, 3082.5, 56.25, 29.849999999999998, 549.75, 249.75, 499.75, 662.5, 42.75, 38.85, 52.35, 349.75, 424.75, 297.5, 29.849999999999998, 59.849999999999994, 74.85, 249.75, 299.75, 234.0, 82.35, 324.75, 79.2, 89.85, 59.849999999999994, 44.85, 44.85, 89.85, 6249.75, 55.35, 374.75, 74.7, 67.5, 89.85, 74.85, 23.849999999999998, 26.849999999999998, 67.5, 175.0, 6249.75, 52.35, 55.35, 44.85, 74.7, 74.7, 59.849999999999994, 52.35, 6249.75, 80.85, 82.35, 74.7, 199.75, 89.85, 77.7, 308.5, 649.75, 200.0, 224.75, 447.5, 89.85, 799.75, 67.5, 420.0, 262.5, 44.85, 262.25, 44.85, 162.25, 59.849999999999994, 67.35, 200.5, 574.75, 424.75, 274.75, 44.85, 82.35, 89.25, 85.5, 199.75, 74.85, 249.75, 85.5, 268.75, 211.0, 33.6, 274.75, 199.75, 33.0, 71.85, 41.85, 67.35, 21.0, 331.25, 59.849999999999994, 61.5, 82.5, 82.5, 29.849999999999998, 29.849999999999998, 29.849999999999998, 22.2, 58.5, 249.5, 247.25, 197.25, 74.85, 315.25, 274.75, 45.0, 274.75, 175.0, 226.75, 201.25, 175.0, 75.0, 178.0, 162.5, 175.0, 48.75, 67.5, 74.85, 201.25, 41.25, 90.0, 66.0, 201.25, 60.0, 223.25, 48.75, 169.0, 224.75, 82.5, 48.75, 82.5, 424.75, 71.25, 29.849999999999998, 299.75, 44.85, 40.65, 54.75, 74.1, 68.85, 174.5, 44.85, 67.35, 35.0, 22.5, 800.0, 515.75, 74.85, 37.35, 22.5, 312.0, 74.85, 44.85, 80.85, 44.85, 341.25, 85.5, 199.75, 1749.75, 44.85, 35.85, 44.85, 52.35, 29.849999999999998, 524.75, 70.35, 524.75, 299.75, 350.0, 74.85, 299.75, 90.0, 225.0, 199.75, 70.5, 199.75, 29.849999999999998, 274.5, 29.849999999999998, 874.75, 199.75, 224.75, 70.5, 199.75, 224.75, 51.15, 224.75, 349.75, 248.75, 29.849999999999998, 29.849999999999998, 248.75, 244.75, 248.75, 29.849999999999998, 29.849999999999998, 33.75, 425.0, 262.25, 262.25, 224.75, 44.85, 29.849999999999998, 224.75, 224.75, 248.75, 23.849999999999998, 23.849999999999998, 899.75, 163.75, 89.39999999999999, 687.5, 874.75, 373.75, 2204.75, 174.75, 624.75, 52.35, 52.35, 74.85, 199.75, 399.75, 172.5, 536.25, 374.75, 249.75, 192.25, 499.75, 17.849999999999998, 81.89999999999999, 74.85, 423.75, 89.85, 17.849999999999998, 17.849999999999998, 67.35, 26.849999999999998, 35.699999999999996, 74.85, 81.89999999999999, 55.65, 213.5, 52.35, 52.35, 29.849999999999998, 52.35, 550.0, 574.75, 27.0, 261.0, 874.75, 874.75, 900.0, 412.5, 756.25, 1998.75, 1249.75, 1499.75, 1250.0, 625.0, 449.75, 873.75, 1998.75, 1249.75, 1149.75, 925.0, 943.75, 625.0, 1498.75, 562.5, 874.75, 386.25, 1923.75, 1499.75, 37.35, 874.75, 943.75, 773.75, 255.0, 292.5, 672.5, 299.75, 44.25, 28.0, 239.5, 44.85, 59.849999999999994, 266.0, 174.75, 224.75, 89.85, 67.5, 44.85, 47.25, 83.85, 44.85, 249.75, 71.85, 71.25, 82.5, 59.849999999999994, 349.75, 59.849999999999994, 52.35, 198.75, 22.349999999999998, 87.3, 434.75, 60.599999999999994, 243.5, 199.75, 187.25, 56.25, 249.75, 999.75, 68.85, 699.75, 199.75, 1267.5, 63.75, 249.75, 249.75, 74.85, 199.75, 52.35, 37.35, 52.35, 31.349999999999998, 299.5, 874.75, 4436.25, 37.35, 536.25, 48.75, 59.849999999999994, 518.25, 44.85, 299.75, 37.35, 67.05, 59.849999999999994, 29.849999999999998, 399.75, 174.75, 74.85, 199.75, 174.75, 424.75, 67.05, 374.75, 999.75, 44.85, 23.099999999999998, 324.75, 4809.25, 77.39999999999999, 160.0, 161.25, 44.85, 44.85, 59.849999999999994, 547.5, 157.25, 174.75, 174.75, 74.25, 82.5, 157.5, 67.35, 53.4, 33.0, 82.35, 72.75, 223.75, 89.85, 299.75, 59.849999999999994, 44.85, 349.75, 67.05, 67.35, 337.25, 171.75, 67.05, 157.5, 435.0, 249.75, 44.85, 299.75, 299.75, 70.5, 348.0, 25.5, 199.75, 74.25, 299.75, 37.35, 53.4, 74.85, 212.5, 187.25, 412.5, 175.0, 49.35, 1916.0, 786.25, 27.0, 49.35, 223.75, 49.35, 49.35, 879.75, 347.0, 49.35, 522.25, 223.75, 72.75, 223.75, 224.75, 249.75, 49.35, 59.849999999999994, 89.85, 76.95, 223.75, 174.75, 49.35, 1410.75, 52.35, 262.25, 223.75, 1707.5, 49.35, 991.0, 1051.75, 89.85, 26.0, 174.75, 412.5, 82.5, 24.599999999999998, 49.35, 90.0, 59.849999999999994, 905.5, 24.599999999999998, 967.5, 223.75, 224.75, 1916.0, 89.85, 850.0, 24.599999999999998, 74.85, 1472.5, 59.849999999999994, 82.35, 49.35, 24.599999999999998, 223.75, 49.35, 174.75, 224.75, 24.599999999999998, 73.5, 223.75, 24.599999999999998, 208.75, 89.85, 49.35, 1645.75, 223.75, 1410.75, 223.75, 1808.0, 223.75, 566.0, 59.849999999999994, 49.35, 59.849999999999994, 312.0, 82.35, 24.599999999999998, 522.25, 89.85, 59.849999999999994, 18.0, 24.599999999999998, 3666.25, 59.849999999999994, 49.35, 854.5, 1410.75, 24.599999999999998, 74.85, 49.35, 224.75, 59.849999999999994, 223.75, 59.849999999999994, 1002.5, 628.5, 223.75, 223.75, 156.25, 49.35, 59.849999999999994, 174.75, 1645.75, 49.35, 24.599999999999998, 399.75, 24.599999999999998, 590.5, 505.5, 2429.75, 49.35, 44.85, 223.75, 224.75, 711.75, 449.75, 843.0, 249.75, 38.25, 499.75, 49.35, 49.35, 24.599999999999998, 223.75, 49.35, 24.599999999999998, 89.85, 684.0, 35.0, 843.0, 33.0, 74.85, 174.75, 223.75, 24.599999999999998, 80.85, 49.35, 1067.25, 522.25, 49.35, 711.75, 505.5, 89.85, 89.85, 174.75, 399.75, 89.25, 423.75, 428.5, 875.75, 1132.25, 89.85, 4110.75, 474.75, 40.35, 2192.5, 24.599999999999998, 24.599999999999998, 731.25, 49.35, 950.0, 24.599999999999998, 49.35, 843.0, 64.5, 49.35, 2581.0, 610.25, 343.0, 237.5, 399.75, 25.65, 59.849999999999994, 59.849999999999994, 164.75, 49.35, 2284.0, 223.75, 428.5, 24.599999999999998, 48.75, 74.85, 662.25, 49.35, 49.35, 24.599999999999998, 67.5, 428.5, 999.75, 696.0, 875.0, 24.599999999999998, 24.599999999999998, 49.35, 223.75, 181.25, 74.85, 24.599999999999998, 24.599999999999998, 49.35, 24.599999999999998, 1860.75, 49.35, 49.35, 89.85, 428.5, 24.599999999999998, 49.35, 56.85, 2213.25, 223.75, 49.35, 249.75, 64.5, 174.75, 2429.0, 412.5, 33.2, 74.85, 397.5, 737.5, 24.599999999999998, 67.5, 174.75, 24.599999999999998, 74.85, 74.85, 74.85, 69.89999999999999, 54.0, 174.75, 78.89999999999999, 70.5, 74.85, 52.35, 74.85, 1078.75, 256.5, 624.75, 69.89999999999999, 79.5, 74.85, 74.85, 78.89999999999999, 300.0, 44.55, 187.25, 154.75, 37.35, 24.0, 198.75, 70.5, 74.85, 59.849999999999994, 74.85, 324.75, 174.75, 372.5, 325.0, 6248.75, 250.0, 337.5]\n"
     ]
    }
   ],
   "source": [
    "l2 =[] #define an empty list l2\n",
    "\n",
    "for i in l1:      # using the for loop we create a program that calculates the revenue based on the given criteria.\n",
    "    if i> 600:\n",
    "        profit = i*0.25   # we store the revenue in 'profit' for each price-percentage criterion. \n",
    "        l2.append(profit) # the calculated values are added to the empty list l2. \n",
    "    elif i>350 & i<=600:\n",
    "        profit = i*0.15\n",
    "        l2.append(profit)\n",
    "    elif i> 100 & i <=350:\n",
    "        profit= i*0.10\n",
    "        l2.append(profit)\n",
    "    else:\n",
    "        profit = i*0.05       \n",
    "        l2.append(profit)\n",
    "        \n",
    "print(l2)  # define l2\n",
    " "
   ]
  },
  {
   "cell_type": "code",
   "execution_count": 20,
   "id": "cea0be41-e58c-4445-92d8-f061f28f9617",
   "metadata": {},
   "outputs": [],
   "source": [
    "b = pd.Series(l2) # converting list l2 into a series.\n"
   ]
  },
  {
   "cell_type": "code",
   "execution_count": 21,
   "id": "1cdcaf77-3b55-4875-8c3d-ff4753702917",
   "metadata": {},
   "outputs": [
    {
     "name": "stdout",
     "output_type": "stream",
     "text": [
      "The Total Revenue generated by the E-Commerce company over all orders placed is: 2243196.05\n"
     ]
    }
   ],
   "source": [
    "ECom_Data['revenue']= (b) # Adding the new series as a column to the dataset\n",
    "c = ECom_Data['revenue'].sum() # Calculating the total revenue generated.\n",
    "\n",
    "print('The Total Revenue generated by the E-Commerce company over all orders placed is:', c)"
   ]
  },
  {
   "cell_type": "markdown",
   "id": "1798472d-5d55-4dac-bcb2-dc76b7d12e03",
   "metadata": {},
   "source": [
    "After creating a new column 'revenue' in the dataset we apply .sum() function to this column to find the Total Revenue generated by the E-Commerce company over all orders placed."
   ]
  },
  {
   "cell_type": "markdown",
   "id": "0cb763e6-dc6a-42de-abe1-47a0c565536c",
   "metadata": {},
   "source": [
    "Now you need to find the revenue for each retailer (Brand)\n",
    "Q6.Calculate the total BrandRevenue and list the top 10 Brand having maximum revenue in descending order (6 marks)\n",
    "Hint: Total BrandRevenue is BrandRevenue which is generated after all the deductions. Also, BrandRevenue is different from the E-Commerce company's revenue.\n",
    "Brand Revenue is the discounted price minus the Revenue (generated using the conditions given above Q5)"
   ]
  },
  {
   "cell_type": "markdown",
   "id": "cbd2554f-bdcb-4a8d-8569-ef21660b6463",
   "metadata": {},
   "source": [
    "## Solutions to Question number 6 \n",
    "\n",
    "Calculate the total BrandRevenue and list the top 10 Brand having maximum revenue in descending order (6 marks)\n",
    "\n",
    "Hint: Total BrandRevenue is BrandRevenue which is generated after all the deductions. Also, BrandRevenue is different from the E-Commerce company's revenue.\n",
    "\n",
    "Brand Revenue is the discounted price minus the Revenue (generated using the conditions given above Q5)\n",
    "\n",
    "Ans. 6)"
   ]
  },
  {
   "cell_type": "markdown",
   "id": "a0386600-64dc-4046-9b36-3137e2f1b5d1",
   "metadata": {},
   "source": [
    "We create a new column named 'BrandRevenue' that is the difference of discounted_price and revenue. \n",
    "\n",
    "Then use the .sum() function on the BrandRevenue column to determine the amount of total BrandRevenue. "
   ]
  },
  {
   "cell_type": "code",
   "execution_count": 23,
   "id": "b7605e99-cbe4-4126-8139-62102f810ee5",
   "metadata": {},
   "outputs": [],
   "source": [
    "ECom_Data['BrandRevenue'] = ECom_Data['discounted_price'] - ECom_Data['revenue']"
   ]
  },
  {
   "cell_type": "code",
   "execution_count": 25,
   "id": "c6f1eb7b-3f2a-44bc-8b23-bfe8789efff8",
   "metadata": {},
   "outputs": [
    {
     "data": {
      "text/html": [
       "<div>\n",
       "<style scoped>\n",
       "    .dataframe tbody tr th:only-of-type {\n",
       "        vertical-align: middle;\n",
       "    }\n",
       "\n",
       "    .dataframe tbody tr th {\n",
       "        vertical-align: top;\n",
       "    }\n",
       "\n",
       "    .dataframe thead th {\n",
       "        text-align: right;\n",
       "    }\n",
       "</style>\n",
       "<table border=\"1\" class=\"dataframe\">\n",
       "  <thead>\n",
       "    <tr style=\"text-align: right;\">\n",
       "      <th></th>\n",
       "      <th>Customer_uniq_id</th>\n",
       "      <th>Region</th>\n",
       "      <th>Order_Date</th>\n",
       "      <th>Expected_Delivery_Date</th>\n",
       "      <th>Delivered_Date</th>\n",
       "      <th>product_name</th>\n",
       "      <th>product_main_category</th>\n",
       "      <th>product_subcategory</th>\n",
       "      <th>product_category_filter</th>\n",
       "      <th>product_category_subfilter</th>\n",
       "      <th>product_unique ID</th>\n",
       "      <th>retail_price</th>\n",
       "      <th>discounted_price</th>\n",
       "      <th>product_rating</th>\n",
       "      <th>Brand</th>\n",
       "      <th>revenue</th>\n",
       "      <th>BrandRevenue</th>\n",
       "    </tr>\n",
       "  </thead>\n",
       "  <tbody>\n",
       "    <tr>\n",
       "      <th>0</th>\n",
       "      <td>e71017e224688489edfe856f2308806d</td>\n",
       "      <td>East</td>\n",
       "      <td>24-10-2021</td>\n",
       "      <td>25-10-2021</td>\n",
       "      <td>25-10-2021</td>\n",
       "      <td>Indcrown Net Embroidered Semi-stitched Lehenga...</td>\n",
       "      <td>Clothing</td>\n",
       "      <td>Women's Clothing</td>\n",
       "      <td>Ethnic Wear</td>\n",
       "      <td>Fabric</td>\n",
       "      <td>FABEJX2NHNKCYHKA</td>\n",
       "      <td>999</td>\n",
       "      <td>699</td>\n",
       "      <td>4.0</td>\n",
       "      <td>INDCROWN</td>\n",
       "      <td>174.75</td>\n",
       "      <td>524.25</td>\n",
       "    </tr>\n",
       "  </tbody>\n",
       "</table>\n",
       "</div>"
      ],
      "text/plain": [
       "                   Customer_uniq_id Region  Order_Date Expected_Delivery_Date  \\\n",
       "0  e71017e224688489edfe856f2308806d  East   24-10-2021             25-10-2021   \n",
       "\n",
       "  Delivered_Date                                       product_name  \\\n",
       "0     25-10-2021  Indcrown Net Embroidered Semi-stitched Lehenga...   \n",
       "\n",
       "  product_main_category product_subcategory product_category_filter  \\\n",
       "0             Clothing    Women's Clothing             Ethnic Wear    \n",
       "\n",
       "  product_category_subfilter product_unique ID  retail_price  \\\n",
       "0                    Fabric   FABEJX2NHNKCYHKA           999   \n",
       "\n",
       "   discounted_price  product_rating     Brand  revenue  BrandRevenue  \n",
       "0               699             4.0  INDCROWN   174.75        524.25  "
      ]
     },
     "execution_count": 25,
     "metadata": {},
     "output_type": "execute_result"
    }
   ],
   "source": [
    "ECom_Data.head(1) # to check whether the new column 'BrandRevenue' has been added to the dataset or not"
   ]
  },
  {
   "cell_type": "code",
   "execution_count": 26,
   "id": "2fbe9de6-ffae-4d1f-8e11-2993d92854ba",
   "metadata": {},
   "outputs": [
    {
     "name": "stdout",
     "output_type": "stream",
     "text": [
      "The total Brand Revenue is 7497282.95\n"
     ]
    }
   ],
   "source": [
    "total = ECom_Data['BrandRevenue'].sum()\n",
    "total_rounded = round(total, 2) # rounding off the value to two decimal places to avoid recurring decimal values in the output. \n",
    "print('The total Brand Revenue is', total_rounded)"
   ]
  },
  {
   "cell_type": "markdown",
   "id": "abac05a5-d5db-47d0-9b69-e4d794844b84",
   "metadata": {},
   "source": [
    "We use .sort_values() on BrandRevenue and use the ascending = False method, organized by the .head() function to get the desired result of top 10 Brand having maximum revenue in descending order. "
   ]
  },
  {
   "cell_type": "code",
   "execution_count": 42,
   "id": "e1e6becf-9d0c-4b3d-9569-f809ee3f42b0",
   "metadata": {},
   "outputs": [
    {
     "data": {
      "text/plain": [
       "3650       AUDEZE\n",
       "686      DIVINITI\n",
       "4566       NITGEN\n",
       "8215    SPRINGWEL\n",
       "4567       NITGEN\n",
       "708      DIVINITI\n",
       "3141     UBIQUITI\n",
       "3849         GAGA\n",
       "8082         GAGA\n",
       "3864         GAGA\n",
       "Name: Brand, dtype: object"
      ]
     },
     "execution_count": 42,
     "metadata": {},
     "output_type": "execute_result"
    }
   ],
   "source": [
    "ECom_Data.sort_values(by = 'BrandRevenue', ascending = False)['Brand'].head(10)"
   ]
  },
  {
   "cell_type": "markdown",
   "id": "c563d501-d20a-45aa-b131-e31297876027",
   "metadata": {},
   "source": [
    "##  Solutions to Question number 7 part by part\n",
    "\n",
    " Compare prices for each product.\n",
    "\n",
    " a) Draw boxplots of retail_price & discounted_price. (3 marks)\n",
    "\n",
    " Ans. 7a)\n"
   ]
  },
  {
   "cell_type": "markdown",
   "id": "94fba4e4-0743-4652-bd39-6ca5c4440a5a",
   "metadata": {},
   "source": [
    "We use the seaborn library to plot the required boxplots. \n",
    "\n",
    "we use the plt.xcale('log') to include all value details and make the plots more comprehensible. "
   ]
  },
  {
   "cell_type": "code",
   "execution_count": 27,
   "id": "51adf84e-c53b-4313-a69c-0eb429e43cdd",
   "metadata": {},
   "outputs": [
    {
     "data": {
      "image/png": "[encoded data removed]",
      "text/plain": [
       "<Figure size 640x480 with 1 Axes>"
      ]
     },
     "metadata": {},
     "output_type": "display_data"
    }
   ],
   "source": [
    "plt.title('Boxplot: Retail Price')\n",
    "sns.boxplot(data=ECom_Data, x = 'retail_price') \n",
    "plt.xscale('log');\n"
   ]
  },
  {
   "cell_type": "code",
   "execution_count": 28,
   "id": "a490d9b4-1211-40ba-bb01-f8a18cf911af",
   "metadata": {},
   "outputs": [
    {
     "data": {
      "image/png": "[encoded data removed]",
      "text/plain": [
       "<Figure size 640x480 with 1 Axes>"
      ]
     },
     "metadata": {},
     "output_type": "display_data"
    }
   ],
   "source": [
    "plt.title('Boxplot: Discounted Price')\n",
    "sns.boxplot(data=ECom_Data, x = 'discounted_price')\n",
    "plt.xscale('log');"
   ]
  },
  {
   "cell_type": "markdown",
   "id": "61d08f05-e015-4399-9f28-dabf5f582242",
   "metadata": {},
   "source": [
    "b) Are there any outliers? (Yes/No) (1mark)\n",
    "\n",
    "Ans. 7b)\n",
    "\n",
    "Yes. As seen from the above plots many points are clearly placed outside the upper fence. We can conclude that there are many outliers in both the boxplots."
   ]
  },
  {
   "cell_type": "markdown",
   "id": "85e25cb1-1838-40f9-a457-09ab6deebee2",
   "metadata": {},
   "source": [
    "c) Create a scatterplot of retail_price (x-axis) and discounted_price (y-axis) (3 marks)\n",
    "\n",
    "Ans. 7c)"
   ]
  },
  {
   "cell_type": "code",
   "execution_count": 29,
   "id": "32fbfc62-e289-445e-b2a7-e421f2fa7889",
   "metadata": {},
   "outputs": [
    {
     "data": {
      "image/png": "[encoded data removed]",
      "text/plain": [
       "<Figure size 640x480 with 1 Axes>"
      ]
     },
     "metadata": {},
     "output_type": "display_data"
    }
   ],
   "source": [
    "plt.title('Scatterplot: Retail Price & Discounted Price')\n",
    "sns.scatterplot(data=ECom_Data, x='retail_price', y='discounted_price');"
   ]
  },
  {
   "cell_type": "markdown",
   "id": "3f38764d-efe2-49a9-8847-00e56072fab0",
   "metadata": {},
   "source": [
    "## Solutions to Question number 8 part by part\n",
    "\n",
    "Create a new dataframe to include the Brand specific information as stated:\n",
    "\n",
    "i. total number of orders placed per Brand\n",
    "\n",
    "ii. total retail_price per Brand\n",
    "\n",
    "iii. total discounted_price per Brand, and\n",
    "\n",
    "iv. total BrandRevenue generated per Brand.\n",
    "\n",
    "Also, draw a pairplot using these four features. (6 marks)\n",
    "\n",
    "Ans. 8) Creating a dataframe based on the given criteria:\n"
   ]
  },
  {
   "cell_type": "code",
   "execution_count": 74,
   "id": "186bf8ca-e51a-4bca-b160-5cd2e4a6e48f",
   "metadata": {},
   "outputs": [
    {
     "data": {
      "text/html": [
       "<div>\n",
       "<style scoped>\n",
       "    .dataframe tbody tr th:only-of-type {\n",
       "        vertical-align: middle;\n",
       "    }\n",
       "\n",
       "    .dataframe tbody tr th {\n",
       "        vertical-align: top;\n",
       "    }\n",
       "\n",
       "    .dataframe thead th {\n",
       "        text-align: right;\n",
       "    }\n",
       "</style>\n",
       "<table border=\"1\" class=\"dataframe\">\n",
       "  <thead>\n",
       "    <tr style=\"text-align: right;\">\n",
       "      <th></th>\n",
       "      <th>Brand</th>\n",
       "      <th>count</th>\n",
       "    </tr>\n",
       "  </thead>\n",
       "  <tbody>\n",
       "    <tr>\n",
       "      <th>0</th>\n",
       "      <td>ALLURE AUTO</td>\n",
       "      <td>469</td>\n",
       "    </tr>\n",
       "  </tbody>\n",
       "</table>\n",
       "</div>"
      ],
      "text/plain": [
       "         Brand  count\n",
       "0  ALLURE AUTO    469"
      ]
     },
     "execution_count": 74,
     "metadata": {},
     "output_type": "execute_result"
    }
   ],
   "source": [
    "df1 = ECom_Data['Brand'].value_counts().reset_index() # Value_counts gives the number of orders per category in the column 'Brand'\n",
    "df1.head(1) # new dataframe with Brand names and corresponding number of orders is created."
   ]
  },
  {
   "cell_type": "code",
   "execution_count": 75,
   "id": "9558ab65-b7da-4750-9132-b8057530e8b8",
   "metadata": {},
   "outputs": [
    {
     "data": {
      "text/html": [
       "<div>\n",
       "<style scoped>\n",
       "    .dataframe tbody tr th:only-of-type {\n",
       "        vertical-align: middle;\n",
       "    }\n",
       "\n",
       "    .dataframe tbody tr th {\n",
       "        vertical-align: top;\n",
       "    }\n",
       "\n",
       "    .dataframe thead th {\n",
       "        text-align: right;\n",
       "    }\n",
       "</style>\n",
       "<table border=\"1\" class=\"dataframe\">\n",
       "  <thead>\n",
       "    <tr style=\"text-align: right;\">\n",
       "      <th></th>\n",
       "      <th>Brand</th>\n",
       "      <th>count</th>\n",
       "      <th>retail_price</th>\n",
       "    </tr>\n",
       "  </thead>\n",
       "  <tbody>\n",
       "    <tr>\n",
       "      <th>0</th>\n",
       "      <td>ALLURE AUTO</td>\n",
       "      <td>469</td>\n",
       "      <td>1973880</td>\n",
       "    </tr>\n",
       "  </tbody>\n",
       "</table>\n",
       "</div>"
      ],
      "text/plain": [
       "         Brand  count  retail_price\n",
       "0  ALLURE AUTO    469       1973880"
      ]
     },
     "execution_count": 75,
     "metadata": {},
     "output_type": "execute_result"
    }
   ],
   "source": [
    "d1 = ECom_Data.groupby(['Brand'])['retail_price'].sum() # using groupby function on 'Brand' and 'retail price' to find the retail prices of each brand.\n",
    "df2 = pd.merge(df1, d1, how='outer', on = 'Brand') # merging d1 with df1 to add the column of 'retail_price'\n",
    "df2.head(1)"
   ]
  },
  {
   "cell_type": "code",
   "execution_count": 76,
   "id": "003347c6-bf0a-4d85-83f6-9585789261e5",
   "metadata": {},
   "outputs": [
    {
     "data": {
      "text/html": [
       "<div>\n",
       "<style scoped>\n",
       "    .dataframe tbody tr th:only-of-type {\n",
       "        vertical-align: middle;\n",
       "    }\n",
       "\n",
       "    .dataframe tbody tr th {\n",
       "        vertical-align: top;\n",
       "    }\n",
       "\n",
       "    .dataframe thead th {\n",
       "        text-align: right;\n",
       "    }\n",
       "</style>\n",
       "<table border=\"1\" class=\"dataframe\">\n",
       "  <thead>\n",
       "    <tr style=\"text-align: right;\">\n",
       "      <th></th>\n",
       "      <th>Brand</th>\n",
       "      <th>count</th>\n",
       "      <th>retail_price</th>\n",
       "      <th>discounted_price</th>\n",
       "    </tr>\n",
       "  </thead>\n",
       "  <tbody>\n",
       "    <tr>\n",
       "      <th>0</th>\n",
       "      <td>ALLURE AUTO</td>\n",
       "      <td>469</td>\n",
       "      <td>1973880</td>\n",
       "      <td>664619</td>\n",
       "    </tr>\n",
       "  </tbody>\n",
       "</table>\n",
       "</div>"
      ],
      "text/plain": [
       "         Brand  count  retail_price  discounted_price\n",
       "0  ALLURE AUTO    469       1973880            664619"
      ]
     },
     "execution_count": 76,
     "metadata": {},
     "output_type": "execute_result"
    }
   ],
   "source": [
    "d2 = ECom_Data.groupby(['Brand'])['discounted_price'].sum()\n",
    "df3 = pd.merge(df2, d2, how='outer', on = 'Brand') # adding column of discounted_price\n",
    "df3.head(1)"
   ]
  },
  {
   "cell_type": "code",
   "execution_count": 77,
   "id": "0699c869-fb01-47d6-9bd9-a55b59501ad9",
   "metadata": {},
   "outputs": [
    {
     "data": {
      "text/html": [
       "<div>\n",
       "<style scoped>\n",
       "    .dataframe tbody tr th:only-of-type {\n",
       "        vertical-align: middle;\n",
       "    }\n",
       "\n",
       "    .dataframe tbody tr th {\n",
       "        vertical-align: top;\n",
       "    }\n",
       "\n",
       "    .dataframe thead th {\n",
       "        text-align: right;\n",
       "    }\n",
       "</style>\n",
       "<table border=\"1\" class=\"dataframe\">\n",
       "  <thead>\n",
       "    <tr style=\"text-align: right;\">\n",
       "      <th></th>\n",
       "      <th>Brand</th>\n",
       "      <th>count</th>\n",
       "      <th>retail_price</th>\n",
       "      <th>discounted_price</th>\n",
       "      <th>BrandRevenue</th>\n",
       "    </tr>\n",
       "  </thead>\n",
       "  <tbody>\n",
       "    <tr>\n",
       "      <th>0</th>\n",
       "      <td>ALLURE AUTO</td>\n",
       "      <td>469</td>\n",
       "      <td>1973880</td>\n",
       "      <td>664619</td>\n",
       "      <td>498464.25</td>\n",
       "    </tr>\n",
       "  </tbody>\n",
       "</table>\n",
       "</div>"
      ],
      "text/plain": [
       "         Brand  count  retail_price  discounted_price  BrandRevenue\n",
       "0  ALLURE AUTO    469       1973880            664619     498464.25"
      ]
     },
     "execution_count": 77,
     "metadata": {},
     "output_type": "execute_result"
    }
   ],
   "source": [
    "d3 = ECom_Data.groupby(['Brand'])['BrandRevenue'].sum()\n",
    "df4 = pd.merge(df3, d3, how = 'outer', on = 'Brand') # adding column of BrandRevenue\n",
    "df4.head(1)"
   ]
  },
  {
   "cell_type": "code",
   "execution_count": 79,
   "id": "3f25bc31-3e69-48c7-9b03-574f5f14f2d9",
   "metadata": {},
   "outputs": [
    {
     "data": {
      "text/html": [
       "<div>\n",
       "<style scoped>\n",
       "    .dataframe tbody tr th:only-of-type {\n",
       "        vertical-align: middle;\n",
       "    }\n",
       "\n",
       "    .dataframe tbody tr th {\n",
       "        vertical-align: top;\n",
       "    }\n",
       "\n",
       "    .dataframe thead th {\n",
       "        text-align: right;\n",
       "    }\n",
       "</style>\n",
       "<table border=\"1\" class=\"dataframe\">\n",
       "  <thead>\n",
       "    <tr style=\"text-align: right;\">\n",
       "      <th></th>\n",
       "      <th>Brand</th>\n",
       "      <th>count</th>\n",
       "      <th>retail_price</th>\n",
       "      <th>discounted_price</th>\n",
       "      <th>BrandRevenue</th>\n",
       "      <th>Number of Orders</th>\n",
       "    </tr>\n",
       "  </thead>\n",
       "  <tbody>\n",
       "    <tr>\n",
       "      <th>0</th>\n",
       "      <td>ALLURE AUTO</td>\n",
       "      <td>469</td>\n",
       "      <td>1973880</td>\n",
       "      <td>664619</td>\n",
       "      <td>498464.25</td>\n",
       "      <td>469</td>\n",
       "    </tr>\n",
       "  </tbody>\n",
       "</table>\n",
       "</div>"
      ],
      "text/plain": [
       "         Brand  count  retail_price  discounted_price  BrandRevenue  \\\n",
       "0  ALLURE AUTO    469       1973880            664619     498464.25   \n",
       "\n",
       "   Number of Orders  \n",
       "0               469  "
      ]
     },
     "execution_count": 79,
     "metadata": {},
     "output_type": "execute_result"
    }
   ],
   "source": [
    "df4['Number of Orders'] = df4['count'] # creating a column 'Number of Orders' to replace the 'count' column. \n",
    "df4.head(1)"
   ]
  },
  {
   "cell_type": "code",
   "execution_count": 80,
   "id": "190a308c-7a8d-4bbc-9fac-889ca3b9b71f",
   "metadata": {},
   "outputs": [
    {
     "data": {
      "text/html": [
       "<div>\n",
       "<style scoped>\n",
       "    .dataframe tbody tr th:only-of-type {\n",
       "        vertical-align: middle;\n",
       "    }\n",
       "\n",
       "    .dataframe tbody tr th {\n",
       "        vertical-align: top;\n",
       "    }\n",
       "\n",
       "    .dataframe thead th {\n",
       "        text-align: right;\n",
       "    }\n",
       "</style>\n",
       "<table border=\"1\" class=\"dataframe\">\n",
       "  <thead>\n",
       "    <tr style=\"text-align: right;\">\n",
       "      <th></th>\n",
       "      <th>Brand</th>\n",
       "      <th>retail_price</th>\n",
       "      <th>discounted_price</th>\n",
       "      <th>BrandRevenue</th>\n",
       "      <th>Number of Orders</th>\n",
       "    </tr>\n",
       "  </thead>\n",
       "  <tbody>\n",
       "    <tr>\n",
       "      <th>0</th>\n",
       "      <td>ALLURE AUTO</td>\n",
       "      <td>1973880</td>\n",
       "      <td>664619</td>\n",
       "      <td>498464.25</td>\n",
       "      <td>469</td>\n",
       "    </tr>\n",
       "  </tbody>\n",
       "</table>\n",
       "</div>"
      ],
      "text/plain": [
       "         Brand  retail_price  discounted_price  BrandRevenue  Number of Orders\n",
       "0  ALLURE AUTO       1973880            664619     498464.25               469"
      ]
     },
     "execution_count": 80,
     "metadata": {},
     "output_type": "execute_result"
    }
   ],
   "source": [
    "df4.drop('count', axis = 1, inplace=True)\n",
    "df4.head(1)"
   ]
  },
  {
   "cell_type": "markdown",
   "id": "34830e3e-51e6-48e3-b5b3-1f8335f04ef3",
   "metadata": {},
   "source": [
    "Since we have to find the total prices of retail_price, discounted_price and BrandRevenue of each brand, the number of rows and columns will be different.\n",
    "\n",
    "We create the first dataframe df1 containing brand names and their counts using value_counts() function.\n",
    "\n",
    "Thene keeping adding the new coulmns of each catefory after creating their series forms to the dataframe. The dataframes have to be named anew each time to avoid repetition."
   ]
  },
  {
   "cell_type": "code",
   "execution_count": 81,
   "id": "a108bc80-20c6-45ba-a315-8f21de4729b8",
   "metadata": {},
   "outputs": [
    {
     "name": "stderr",
     "output_type": "stream",
     "text": [
      "C:\\Users\\krish\\anaconda3\\Lib\\site-packages\\seaborn\\_oldcore.py:1119: FutureWarning: use_inf_as_na option is deprecated and will be removed in a future version. Convert inf values to NaN before operating instead.\n",
      "  with pd.option_context('mode.use_inf_as_na', True):\n",
      "C:\\Users\\krish\\anaconda3\\Lib\\site-packages\\seaborn\\_oldcore.py:1119: FutureWarning: use_inf_as_na option is deprecated and will be removed in a future version. Convert inf values to NaN before operating instead.\n",
      "  with pd.option_context('mode.use_inf_as_na', True):\n",
      "C:\\Users\\krish\\anaconda3\\Lib\\site-packages\\seaborn\\_oldcore.py:1119: FutureWarning: use_inf_as_na option is deprecated and will be removed in a future version. Convert inf values to NaN before operating instead.\n",
      "  with pd.option_context('mode.use_inf_as_na', True):\n",
      "C:\\Users\\krish\\anaconda3\\Lib\\site-packages\\seaborn\\_oldcore.py:1119: FutureWarning: use_inf_as_na option is deprecated and will be removed in a future version. Convert inf values to NaN before operating instead.\n",
      "  with pd.option_context('mode.use_inf_as_na', True):\n"
     ]
    },
    {
     "data": {
      "text/plain": [
       "<seaborn.axisgrid.PairGrid at 0x1c3580f53d0>"
      ]
     },
     "execution_count": 81,
     "metadata": {},
     "output_type": "execute_result"
    },
    {
     "data": {
      "image/png": "[encoded data removed]",
      "text/plain": [
       "<Figure size 1000x1000 with 20 Axes>"
      ]
     },
     "metadata": {},
     "output_type": "display_data"
    }
   ],
   "source": [
    "sns.pairplot(data=df4[['Number of Orders','retail_price','discounted_price','BrandRevenue']])"
   ]
  },
  {
   "cell_type": "markdown",
   "id": "50538097-6092-4f5a-8dbe-16c9e1700a48",
   "metadata": {},
   "source": [
    "## Solutions to Question number 9 part by part\n",
    "\n",
    "Compare performance regionwise\n",
    "\n",
    "a) Draw a lineplot for the monthly Revenue of E-Commerce Company for each region separately. (4 marks)\n",
    "\n",
    "b) Identify the best and the worst performing months for each region. (2 marks)\n",
    "\n",
    "Note: Only those days with actual orders(Order_Date) placed are present in the dataset. Assuming there were no orders on other days. Also, show Month and Year on x-axis.\n",
    "\n",
    "Ans. 9a)\n",
    "\n",
    "We first set the dates in 'Order_Date' column to the correct datetime format usinf the .to_datetime() function\n",
    "\n",
    "We extract the years and months from the Order_Date column and create seperate coulmns for each in the dataset. \n",
    " "
   ]
  },
  {
   "cell_type": "code",
   "execution_count": 82,
   "id": "c76f3c06-ee29-4147-8b3d-f8b7085b4e6d",
   "metadata": {},
   "outputs": [
    {
     "data": {
      "text/html": [
       "<div>\n",
       "<style scoped>\n",
       "    .dataframe tbody tr th:only-of-type {\n",
       "        vertical-align: middle;\n",
       "    }\n",
       "\n",
       "    .dataframe tbody tr th {\n",
       "        vertical-align: top;\n",
       "    }\n",
       "\n",
       "    .dataframe thead th {\n",
       "        text-align: right;\n",
       "    }\n",
       "</style>\n",
       "<table border=\"1\" class=\"dataframe\">\n",
       "  <thead>\n",
       "    <tr style=\"text-align: right;\">\n",
       "      <th></th>\n",
       "      <th>Customer_uniq_id</th>\n",
       "      <th>Region</th>\n",
       "      <th>Order_Date</th>\n",
       "      <th>Expected_Delivery_Date</th>\n",
       "      <th>Delivered_Date</th>\n",
       "      <th>product_name</th>\n",
       "      <th>product_main_category</th>\n",
       "      <th>product_subcategory</th>\n",
       "      <th>product_category_filter</th>\n",
       "      <th>product_category_subfilter</th>\n",
       "      <th>product_unique ID</th>\n",
       "      <th>retail_price</th>\n",
       "      <th>discounted_price</th>\n",
       "      <th>product_rating</th>\n",
       "      <th>Brand</th>\n",
       "      <th>revenue</th>\n",
       "      <th>BrandRevenue</th>\n",
       "    </tr>\n",
       "  </thead>\n",
       "  <tbody>\n",
       "    <tr>\n",
       "      <th>0</th>\n",
       "      <td>e71017e224688489edfe856f2308806d</td>\n",
       "      <td>East</td>\n",
       "      <td>2021-10-24</td>\n",
       "      <td>25-10-2021</td>\n",
       "      <td>25-10-2021</td>\n",
       "      <td>Indcrown Net Embroidered Semi-stitched Lehenga...</td>\n",
       "      <td>Clothing</td>\n",
       "      <td>Women's Clothing</td>\n",
       "      <td>Ethnic Wear</td>\n",
       "      <td>Fabric</td>\n",
       "      <td>FABEJX2NHNKCYHKA</td>\n",
       "      <td>999</td>\n",
       "      <td>699</td>\n",
       "      <td>4.0</td>\n",
       "      <td>INDCROWN</td>\n",
       "      <td>174.75</td>\n",
       "      <td>524.25</td>\n",
       "    </tr>\n",
       "  </tbody>\n",
       "</table>\n",
       "</div>"
      ],
      "text/plain": [
       "                   Customer_uniq_id Region Order_Date Expected_Delivery_Date  \\\n",
       "0  e71017e224688489edfe856f2308806d  East  2021-10-24             25-10-2021   \n",
       "\n",
       "  Delivered_Date                                       product_name  \\\n",
       "0     25-10-2021  Indcrown Net Embroidered Semi-stitched Lehenga...   \n",
       "\n",
       "  product_main_category product_subcategory product_category_filter  \\\n",
       "0             Clothing    Women's Clothing             Ethnic Wear    \n",
       "\n",
       "  product_category_subfilter product_unique ID  retail_price  \\\n",
       "0                    Fabric   FABEJX2NHNKCYHKA           999   \n",
       "\n",
       "   discounted_price  product_rating     Brand  revenue  BrandRevenue  \n",
       "0               699             4.0  INDCROWN   174.75        524.25  "
      ]
     },
     "execution_count": 82,
     "metadata": {},
     "output_type": "execute_result"
    }
   ],
   "source": [
    "ECom_Data['Order_Date']  = pd.to_datetime(ECom_Data['Order_Date'],dayfirst=True)\n",
    "ECom_Data.head(1)"
   ]
  },
  {
   "cell_type": "code",
   "execution_count": 84,
   "id": "052700ea-504f-43fe-abf4-23a7a9377d4b",
   "metadata": {},
   "outputs": [
    {
     "data": {
      "text/html": [
       "<div>\n",
       "<style scoped>\n",
       "    .dataframe tbody tr th:only-of-type {\n",
       "        vertical-align: middle;\n",
       "    }\n",
       "\n",
       "    .dataframe tbody tr th {\n",
       "        vertical-align: top;\n",
       "    }\n",
       "\n",
       "    .dataframe thead th {\n",
       "        text-align: right;\n",
       "    }\n",
       "</style>\n",
       "<table border=\"1\" class=\"dataframe\">\n",
       "  <thead>\n",
       "    <tr style=\"text-align: right;\">\n",
       "      <th></th>\n",
       "      <th>Customer_uniq_id</th>\n",
       "      <th>Region</th>\n",
       "      <th>Order_Date</th>\n",
       "      <th>Expected_Delivery_Date</th>\n",
       "      <th>Delivered_Date</th>\n",
       "      <th>product_name</th>\n",
       "      <th>product_main_category</th>\n",
       "      <th>product_subcategory</th>\n",
       "      <th>product_category_filter</th>\n",
       "      <th>product_category_subfilter</th>\n",
       "      <th>product_unique ID</th>\n",
       "      <th>retail_price</th>\n",
       "      <th>discounted_price</th>\n",
       "      <th>product_rating</th>\n",
       "      <th>Brand</th>\n",
       "      <th>revenue</th>\n",
       "      <th>BrandRevenue</th>\n",
       "      <th>Year</th>\n",
       "      <th>Month</th>\n",
       "    </tr>\n",
       "  </thead>\n",
       "  <tbody>\n",
       "    <tr>\n",
       "      <th>0</th>\n",
       "      <td>e71017e224688489edfe856f2308806d</td>\n",
       "      <td>East</td>\n",
       "      <td>2021-10-24</td>\n",
       "      <td>25-10-2021</td>\n",
       "      <td>25-10-2021</td>\n",
       "      <td>Indcrown Net Embroidered Semi-stitched Lehenga...</td>\n",
       "      <td>Clothing</td>\n",
       "      <td>Women's Clothing</td>\n",
       "      <td>Ethnic Wear</td>\n",
       "      <td>Fabric</td>\n",
       "      <td>FABEJX2NHNKCYHKA</td>\n",
       "      <td>999</td>\n",
       "      <td>699</td>\n",
       "      <td>4.0</td>\n",
       "      <td>INDCROWN</td>\n",
       "      <td>174.75</td>\n",
       "      <td>524.25</td>\n",
       "      <td>2021</td>\n",
       "      <td>10</td>\n",
       "    </tr>\n",
       "  </tbody>\n",
       "</table>\n",
       "</div>"
      ],
      "text/plain": [
       "                   Customer_uniq_id Region Order_Date Expected_Delivery_Date  \\\n",
       "0  e71017e224688489edfe856f2308806d  East  2021-10-24             25-10-2021   \n",
       "\n",
       "  Delivered_Date                                       product_name  \\\n",
       "0     25-10-2021  Indcrown Net Embroidered Semi-stitched Lehenga...   \n",
       "\n",
       "  product_main_category product_subcategory product_category_filter  \\\n",
       "0             Clothing    Women's Clothing             Ethnic Wear    \n",
       "\n",
       "  product_category_subfilter product_unique ID  retail_price  \\\n",
       "0                    Fabric   FABEJX2NHNKCYHKA           999   \n",
       "\n",
       "   discounted_price  product_rating     Brand  revenue  BrandRevenue  Year  \\\n",
       "0               699             4.0  INDCROWN   174.75        524.25  2021   \n",
       "\n",
       "   Month  \n",
       "0     10  "
      ]
     },
     "execution_count": 84,
     "metadata": {},
     "output_type": "execute_result"
    }
   ],
   "source": [
    "ECom_Data['Year']=ECom_Data['Order_Date'].dt.year #creating column for years only\n",
    "ECom_Data['Month']=ECom_Data['Order_Date'].dt.month #\n",
    "ECom_Data.head(1)"
   ]
  },
  {
   "cell_type": "code",
   "execution_count": 126,
   "id": "ee89e9da-7495-4d86-a768-ba5a691b3921",
   "metadata": {},
   "outputs": [
    {
     "data": {
      "image/png": "[encoded data removed]",
      "text/plain": [
       "<Figure size 2085.5x500 with 4 Axes>"
      ]
     },
     "metadata": {},
     "output_type": "display_data"
    }
   ],
   "source": [
    "sns.catplot(data=ECom_Data, x=\"Month\", y=\"revenue\", hue=\"Year\", col=\"Region\", kind='point', errorbar=('ci', False));"
   ]
  },
  {
   "cell_type": "markdown",
   "id": "4ef16804-3a96-45f1-b0db-7f238e8d6891",
   "metadata": {},
   "source": [
    "We use the catplot() function with kind='point' as it gives the line plots of all regions when they are assigned to the columns attritbute of the catplot."
   ]
  },
  {
   "cell_type": "markdown",
   "id": "201597ad-ab1e-4ad9-87bd-16e61be91f35",
   "metadata": {},
   "source": [
    "## As seen from the plots above, \n",
    "\n",
    "# East\n",
    "\n",
    "The best performing month for the East region is - 8 i.e., August.\n",
    "\n",
    "and the worst performing month for the East region is - 10 1.e., October.\n",
    "\n",
    "# West\n",
    "\n",
    "The best performing month for the West region is - 3 i.e., March.\n",
    "\n",
    "and the worst performing month for the West region is - 10 1.e., October.\n",
    "\n",
    "# North\n",
    "\n",
    "The best performing month for the North region is - 8 i.e., August.\n",
    "\n",
    "and the worst performing month for the North region is - 7 1.e., July.\n",
    "\n",
    "# South\n",
    "\n",
    "The best performing month for the South region is - 3 i.e., March.\n",
    "\n",
    "and the worst performing month for the South region is - 5 1.e., May.\n"
   ]
  },
  {
   "cell_type": "code",
   "execution_count": null,
   "id": "f3e2888f-937f-43bc-a846-07375fc3acb7",
   "metadata": {},
   "outputs": [],
   "source": []
  }
 ],
 "metadata": {
  "kernelspec": {
   "display_name": "Python 3 (ipykernel)",
   "language": "python",
   "name": "python3"
  },
  "language_info": {
   "codemirror_mode": {
    "name": "ipython",
    "version": 3
   },
   "file_extension": ".py",
   "mimetype": "text/x-python",
   "name": "python",
   "nbconvert_exporter": "python",
   "pygments_lexer": "ipython3",
   "version": "3.12.4"
  }
 },
 "nbformat": 4,
 "nbformat_minor": 5
}
